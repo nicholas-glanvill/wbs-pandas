{
  "nbformat": 4,
  "nbformat_minor": 0,
  "metadata": {
    "colab": {
      "provenance": [],
      "include_colab_link": true
    },
    "kernelspec": {
      "name": "python3",
      "display_name": "Python 3"
    },
    "language_info": {
      "name": "python"
    }
  },
  "cells": [
    {
      "cell_type": "markdown",
      "metadata": {
        "id": "view-in-github",
        "colab_type": "text"
      },
      "source": [
        "<a href=\"https://colab.research.google.com/github/nicholas-glanvill/wbs-pandas/blob/exploration/Intro%20to%20DataFrames.ipynb\" target=\"_parent\"><img src=\"https://colab.research.google.com/assets/colab-badge.svg\" alt=\"Open In Colab\"/></a>"
      ]
    },
    {
      "cell_type": "markdown",
      "source": [],
      "metadata": {
        "id": "SRbncatVUpXD"
      }
    },
    {
      "cell_type": "markdown",
      "source": [
        "## Import the Pandas library\n",
        "\n",
        "With every new session, import Pandas to use it in your notebook.\n",
        "\n",
        "The community agreed on using the alias `pd` for Pandas, so we will go with the convention."
      ],
      "metadata": {
        "id": "JzKr5CT1IUvG"
      }
    },
    {
      "cell_type": "code",
      "source": [
        "import pandas as pd"
      ],
      "metadata": {
        "id": "vklqV7uVHCbT"
      },
      "execution_count": null,
      "outputs": []
    },
    {
      "cell_type": "markdown",
      "source": [
        "## 1. Creating a DataFrame\n"
      ],
      "metadata": {
        "id": "H_XuAVNqGhtg"
      }
    },
    {
      "cell_type": "markdown",
      "source": [
        "### 1.1 Creating an empty DataFrame\n",
        "\n",
        "Sometimes we need an empty DataFrame: a named space where we can put some data later."
      ],
      "metadata": {
        "id": "uF3JxgyAG6R3"
      }
    },
    {
      "cell_type": "code",
      "execution_count": null,
      "metadata": {
        "colab": {
          "base_uri": "https://localhost:8080/"
        },
        "id": "flWK2IHaGR3a",
        "outputId": "39ab36dd-81e1-4767-bce1-11a088ce67fe"
      },
      "outputs": [
        {
          "output_type": "stream",
          "name": "stdout",
          "text": [
            "Empty DataFrame\n",
            "Columns: []\n",
            "Index: []\n"
          ]
        }
      ],
      "source": [
        "df = pd.DataFrame() # notice the capitalization: pd.dataframe() will result in an error\n",
        "print(df)"
      ]
    },
    {
      "cell_type": "markdown",
      "source": [
        "We can also specify which columns our DataFrame will have, but still leave the values empty."
      ],
      "metadata": {
        "id": "yBM7cgvwIBfP"
      }
    },
    {
      "cell_type": "code",
      "source": [
        "df = pd.DataFrame(columns=['Name', 'Age'])\n",
        "print(df)"
      ],
      "metadata": {
        "colab": {
          "base_uri": "https://localhost:8080/"
        },
        "id": "5BBUbMOYXu4v",
        "outputId": "dad69158-4ba5-4e92-dd94-94d23ba5041f"
      },
      "execution_count": null,
      "outputs": [
        {
          "output_type": "stream",
          "name": "stdout",
          "text": [
            "Empty DataFrame\n",
            "Columns: [Name, Age]\n",
            "Index: []\n"
          ]
        }
      ]
    },
    {
      "cell_type": "markdown",
      "source": [
        "### 1.2. Creating a DataFrame from list of lists\n",
        "\n",
        "One way to fill in a DataFrame upon creation is to use a list of lists. In this case, each *inner* list will become a *row* of the DataFrame. It is therefore important to ensure when using this method that each inner list has the same *length*.\n",
        "\n",
        "If you don't specify the `columns` parameter, they will default to integers starting from 0."
      ],
      "metadata": {
        "id": "KSNkCbEv4lUf"
      }
    },
    {
      "cell_type": "code",
      "source": [
        "data = [['Alice', 25], ['Bob', 32], ['Charlie', 28]]\n",
        "\n",
        "df = pd.DataFrame(data, columns=['Name', 'Age'])\n",
        "\n",
        "df"
      ],
      "metadata": {
        "colab": {
          "base_uri": "https://localhost:8080/",
          "height": 143
        },
        "id": "b2qlWjgW4g3K",
        "outputId": "2e7911fd-9fc1-475e-e097-0e4e859d0133"
      },
      "execution_count": null,
      "outputs": [
        {
          "output_type": "execute_result",
          "data": {
            "text/plain": [
              "      Name  Age\n",
              "0    Alice   25\n",
              "1      Bob   32\n",
              "2  Charlie   28"
            ],
            "text/html": [
              "\n",
              "  <div id=\"df-7099855c-e2db-46a4-a884-20182305f930\" class=\"colab-df-container\">\n",
              "    <div>\n",
              "<style scoped>\n",
              "    .dataframe tbody tr th:only-of-type {\n",
              "        vertical-align: middle;\n",
              "    }\n",
              "\n",
              "    .dataframe tbody tr th {\n",
              "        vertical-align: top;\n",
              "    }\n",
              "\n",
              "    .dataframe thead th {\n",
              "        text-align: right;\n",
              "    }\n",
              "</style>\n",
              "<table border=\"1\" class=\"dataframe\">\n",
              "  <thead>\n",
              "    <tr style=\"text-align: right;\">\n",
              "      <th></th>\n",
              "      <th>Name</th>\n",
              "      <th>Age</th>\n",
              "    </tr>\n",
              "  </thead>\n",
              "  <tbody>\n",
              "    <tr>\n",
              "      <th>0</th>\n",
              "      <td>Alice</td>\n",
              "      <td>25</td>\n",
              "    </tr>\n",
              "    <tr>\n",
              "      <th>1</th>\n",
              "      <td>Bob</td>\n",
              "      <td>32</td>\n",
              "    </tr>\n",
              "    <tr>\n",
              "      <th>2</th>\n",
              "      <td>Charlie</td>\n",
              "      <td>28</td>\n",
              "    </tr>\n",
              "  </tbody>\n",
              "</table>\n",
              "</div>\n",
              "    <div class=\"colab-df-buttons\">\n",
              "\n",
              "  <div class=\"colab-df-container\">\n",
              "    <button class=\"colab-df-convert\" onclick=\"convertToInteractive('df-7099855c-e2db-46a4-a884-20182305f930')\"\n",
              "            title=\"Convert this dataframe to an interactive table.\"\n",
              "            style=\"display:none;\">\n",
              "\n",
              "  <svg xmlns=\"http://www.w3.org/2000/svg\" height=\"24px\" viewBox=\"0 -960 960 960\">\n",
              "    <path d=\"M120-120v-720h720v720H120Zm60-500h600v-160H180v160Zm220 220h160v-160H400v160Zm0 220h160v-160H400v160ZM180-400h160v-160H180v160Zm440 0h160v-160H620v160ZM180-180h160v-160H180v160Zm440 0h160v-160H620v160Z\"/>\n",
              "  </svg>\n",
              "    </button>\n",
              "\n",
              "  <style>\n",
              "    .colab-df-container {\n",
              "      display:flex;\n",
              "      gap: 12px;\n",
              "    }\n",
              "\n",
              "    .colab-df-convert {\n",
              "      background-color: #E8F0FE;\n",
              "      border: none;\n",
              "      border-radius: 50%;\n",
              "      cursor: pointer;\n",
              "      display: none;\n",
              "      fill: #1967D2;\n",
              "      height: 32px;\n",
              "      padding: 0 0 0 0;\n",
              "      width: 32px;\n",
              "    }\n",
              "\n",
              "    .colab-df-convert:hover {\n",
              "      background-color: #E2EBFA;\n",
              "      box-shadow: 0px 1px 2px rgba(60, 64, 67, 0.3), 0px 1px 3px 1px rgba(60, 64, 67, 0.15);\n",
              "      fill: #174EA6;\n",
              "    }\n",
              "\n",
              "    .colab-df-buttons div {\n",
              "      margin-bottom: 4px;\n",
              "    }\n",
              "\n",
              "    [theme=dark] .colab-df-convert {\n",
              "      background-color: #3B4455;\n",
              "      fill: #D2E3FC;\n",
              "    }\n",
              "\n",
              "    [theme=dark] .colab-df-convert:hover {\n",
              "      background-color: #434B5C;\n",
              "      box-shadow: 0px 1px 3px 1px rgba(0, 0, 0, 0.15);\n",
              "      filter: drop-shadow(0px 1px 2px rgba(0, 0, 0, 0.3));\n",
              "      fill: #FFFFFF;\n",
              "    }\n",
              "  </style>\n",
              "\n",
              "    <script>\n",
              "      const buttonEl =\n",
              "        document.querySelector('#df-7099855c-e2db-46a4-a884-20182305f930 button.colab-df-convert');\n",
              "      buttonEl.style.display =\n",
              "        google.colab.kernel.accessAllowed ? 'block' : 'none';\n",
              "\n",
              "      async function convertToInteractive(key) {\n",
              "        const element = document.querySelector('#df-7099855c-e2db-46a4-a884-20182305f930');\n",
              "        const dataTable =\n",
              "          await google.colab.kernel.invokeFunction('convertToInteractive',\n",
              "                                                    [key], {});\n",
              "        if (!dataTable) return;\n",
              "\n",
              "        const docLinkHtml = 'Like what you see? Visit the ' +\n",
              "          '<a target=\"_blank\" href=https://colab.research.google.com/notebooks/data_table.ipynb>data table notebook</a>'\n",
              "          + ' to learn more about interactive tables.';\n",
              "        element.innerHTML = '';\n",
              "        dataTable['output_type'] = 'display_data';\n",
              "        await google.colab.output.renderOutput(dataTable, element);\n",
              "        const docLink = document.createElement('div');\n",
              "        docLink.innerHTML = docLinkHtml;\n",
              "        element.appendChild(docLink);\n",
              "      }\n",
              "    </script>\n",
              "  </div>\n",
              "\n",
              "\n",
              "<div id=\"df-f5a05b87-77b4-4cc5-8914-74f4617d3fe2\">\n",
              "  <button class=\"colab-df-quickchart\" onclick=\"quickchart('df-f5a05b87-77b4-4cc5-8914-74f4617d3fe2')\"\n",
              "            title=\"Suggest charts\"\n",
              "            style=\"display:none;\">\n",
              "\n",
              "<svg xmlns=\"http://www.w3.org/2000/svg\" height=\"24px\"viewBox=\"0 0 24 24\"\n",
              "     width=\"24px\">\n",
              "    <g>\n",
              "        <path d=\"M19 3H5c-1.1 0-2 .9-2 2v14c0 1.1.9 2 2 2h14c1.1 0 2-.9 2-2V5c0-1.1-.9-2-2-2zM9 17H7v-7h2v7zm4 0h-2V7h2v10zm4 0h-2v-4h2v4z\"/>\n",
              "    </g>\n",
              "</svg>\n",
              "  </button>\n",
              "\n",
              "<style>\n",
              "  .colab-df-quickchart {\n",
              "      --bg-color: #E8F0FE;\n",
              "      --fill-color: #1967D2;\n",
              "      --hover-bg-color: #E2EBFA;\n",
              "      --hover-fill-color: #174EA6;\n",
              "      --disabled-fill-color: #AAA;\n",
              "      --disabled-bg-color: #DDD;\n",
              "  }\n",
              "\n",
              "  [theme=dark] .colab-df-quickchart {\n",
              "      --bg-color: #3B4455;\n",
              "      --fill-color: #D2E3FC;\n",
              "      --hover-bg-color: #434B5C;\n",
              "      --hover-fill-color: #FFFFFF;\n",
              "      --disabled-bg-color: #3B4455;\n",
              "      --disabled-fill-color: #666;\n",
              "  }\n",
              "\n",
              "  .colab-df-quickchart {\n",
              "    background-color: var(--bg-color);\n",
              "    border: none;\n",
              "    border-radius: 50%;\n",
              "    cursor: pointer;\n",
              "    display: none;\n",
              "    fill: var(--fill-color);\n",
              "    height: 32px;\n",
              "    padding: 0;\n",
              "    width: 32px;\n",
              "  }\n",
              "\n",
              "  .colab-df-quickchart:hover {\n",
              "    background-color: var(--hover-bg-color);\n",
              "    box-shadow: 0 1px 2px rgba(60, 64, 67, 0.3), 0 1px 3px 1px rgba(60, 64, 67, 0.15);\n",
              "    fill: var(--button-hover-fill-color);\n",
              "  }\n",
              "\n",
              "  .colab-df-quickchart-complete:disabled,\n",
              "  .colab-df-quickchart-complete:disabled:hover {\n",
              "    background-color: var(--disabled-bg-color);\n",
              "    fill: var(--disabled-fill-color);\n",
              "    box-shadow: none;\n",
              "  }\n",
              "\n",
              "  .colab-df-spinner {\n",
              "    border: 2px solid var(--fill-color);\n",
              "    border-color: transparent;\n",
              "    border-bottom-color: var(--fill-color);\n",
              "    animation:\n",
              "      spin 1s steps(1) infinite;\n",
              "  }\n",
              "\n",
              "  @keyframes spin {\n",
              "    0% {\n",
              "      border-color: transparent;\n",
              "      border-bottom-color: var(--fill-color);\n",
              "      border-left-color: var(--fill-color);\n",
              "    }\n",
              "    20% {\n",
              "      border-color: transparent;\n",
              "      border-left-color: var(--fill-color);\n",
              "      border-top-color: var(--fill-color);\n",
              "    }\n",
              "    30% {\n",
              "      border-color: transparent;\n",
              "      border-left-color: var(--fill-color);\n",
              "      border-top-color: var(--fill-color);\n",
              "      border-right-color: var(--fill-color);\n",
              "    }\n",
              "    40% {\n",
              "      border-color: transparent;\n",
              "      border-right-color: var(--fill-color);\n",
              "      border-top-color: var(--fill-color);\n",
              "    }\n",
              "    60% {\n",
              "      border-color: transparent;\n",
              "      border-right-color: var(--fill-color);\n",
              "    }\n",
              "    80% {\n",
              "      border-color: transparent;\n",
              "      border-right-color: var(--fill-color);\n",
              "      border-bottom-color: var(--fill-color);\n",
              "    }\n",
              "    90% {\n",
              "      border-color: transparent;\n",
              "      border-bottom-color: var(--fill-color);\n",
              "    }\n",
              "  }\n",
              "</style>\n",
              "\n",
              "  <script>\n",
              "    async function quickchart(key) {\n",
              "      const quickchartButtonEl =\n",
              "        document.querySelector('#' + key + ' button');\n",
              "      quickchartButtonEl.disabled = true;  // To prevent multiple clicks.\n",
              "      quickchartButtonEl.classList.add('colab-df-spinner');\n",
              "      try {\n",
              "        const charts = await google.colab.kernel.invokeFunction(\n",
              "            'suggestCharts', [key], {});\n",
              "      } catch (error) {\n",
              "        console.error('Error during call to suggestCharts:', error);\n",
              "      }\n",
              "      quickchartButtonEl.classList.remove('colab-df-spinner');\n",
              "      quickchartButtonEl.classList.add('colab-df-quickchart-complete');\n",
              "    }\n",
              "    (() => {\n",
              "      let quickchartButtonEl =\n",
              "        document.querySelector('#df-f5a05b87-77b4-4cc5-8914-74f4617d3fe2 button');\n",
              "      quickchartButtonEl.style.display =\n",
              "        google.colab.kernel.accessAllowed ? 'block' : 'none';\n",
              "    })();\n",
              "  </script>\n",
              "</div>\n",
              "    </div>\n",
              "  </div>\n"
            ],
            "application/vnd.google.colaboratory.intrinsic+json": {
              "type": "dataframe",
              "variable_name": "df",
              "summary": "{\n  \"name\": \"df\",\n  \"rows\": 3,\n  \"fields\": [\n    {\n      \"column\": \"Name\",\n      \"properties\": {\n        \"dtype\": \"string\",\n        \"num_unique_values\": 3,\n        \"samples\": [\n          \"Alice\",\n          \"Bob\",\n          \"Charlie\"\n        ],\n        \"semantic_type\": \"\",\n        \"description\": \"\"\n      }\n    },\n    {\n      \"column\": \"Age\",\n      \"properties\": {\n        \"dtype\": \"number\",\n        \"std\": 3,\n        \"min\": 25,\n        \"max\": 32,\n        \"num_unique_values\": 3,\n        \"samples\": [\n          25,\n          32,\n          28\n        ],\n        \"semantic_type\": \"\",\n        \"description\": \"\"\n      }\n    }\n  ]\n}"
            }
          },
          "metadata": {},
          "execution_count": 4
        }
      ]
    },
    {
      "cell_type": "markdown",
      "source": [
        "### 1.3. Creating a DataFrame from a dictionary\n",
        "\n",
        "When using a dictionary to create a DataFrame, each key-value pair will create a *column* of the DataFrame: the *key* will become the label for that column and the *values* will become the values of that column. Again, each collection of *values* in the dictionary will need to have the same *length*."
      ],
      "metadata": {
        "id": "SlaMVo8V5BsW"
      }
    },
    {
      "cell_type": "code",
      "source": [
        "data = {'Name': ['Alice', 'Bob', 'Charlie'],'Age': [25, 32, 28]}\n",
        "\n",
        "df = pd.DataFrame(data)\n",
        "df"
      ],
      "metadata": {
        "colab": {
          "base_uri": "https://localhost:8080/",
          "height": 143
        },
        "id": "tzVjzwVE5MaO",
        "outputId": "d240dff0-4e0a-40fc-f9fc-fb73cdc9562c"
      },
      "execution_count": null,
      "outputs": [
        {
          "output_type": "execute_result",
          "data": {
            "text/plain": [
              "      Name  Age\n",
              "0    Alice   25\n",
              "1      Bob   32\n",
              "2  Charlie   28"
            ],
            "text/html": [
              "\n",
              "  <div id=\"df-c02301ca-eac3-43d0-a2e7-9801f9c8e468\" class=\"colab-df-container\">\n",
              "    <div>\n",
              "<style scoped>\n",
              "    .dataframe tbody tr th:only-of-type {\n",
              "        vertical-align: middle;\n",
              "    }\n",
              "\n",
              "    .dataframe tbody tr th {\n",
              "        vertical-align: top;\n",
              "    }\n",
              "\n",
              "    .dataframe thead th {\n",
              "        text-align: right;\n",
              "    }\n",
              "</style>\n",
              "<table border=\"1\" class=\"dataframe\">\n",
              "  <thead>\n",
              "    <tr style=\"text-align: right;\">\n",
              "      <th></th>\n",
              "      <th>Name</th>\n",
              "      <th>Age</th>\n",
              "    </tr>\n",
              "  </thead>\n",
              "  <tbody>\n",
              "    <tr>\n",
              "      <th>0</th>\n",
              "      <td>Alice</td>\n",
              "      <td>25</td>\n",
              "    </tr>\n",
              "    <tr>\n",
              "      <th>1</th>\n",
              "      <td>Bob</td>\n",
              "      <td>32</td>\n",
              "    </tr>\n",
              "    <tr>\n",
              "      <th>2</th>\n",
              "      <td>Charlie</td>\n",
              "      <td>28</td>\n",
              "    </tr>\n",
              "  </tbody>\n",
              "</table>\n",
              "</div>\n",
              "    <div class=\"colab-df-buttons\">\n",
              "\n",
              "  <div class=\"colab-df-container\">\n",
              "    <button class=\"colab-df-convert\" onclick=\"convertToInteractive('df-c02301ca-eac3-43d0-a2e7-9801f9c8e468')\"\n",
              "            title=\"Convert this dataframe to an interactive table.\"\n",
              "            style=\"display:none;\">\n",
              "\n",
              "  <svg xmlns=\"http://www.w3.org/2000/svg\" height=\"24px\" viewBox=\"0 -960 960 960\">\n",
              "    <path d=\"M120-120v-720h720v720H120Zm60-500h600v-160H180v160Zm220 220h160v-160H400v160Zm0 220h160v-160H400v160ZM180-400h160v-160H180v160Zm440 0h160v-160H620v160ZM180-180h160v-160H180v160Zm440 0h160v-160H620v160Z\"/>\n",
              "  </svg>\n",
              "    </button>\n",
              "\n",
              "  <style>\n",
              "    .colab-df-container {\n",
              "      display:flex;\n",
              "      gap: 12px;\n",
              "    }\n",
              "\n",
              "    .colab-df-convert {\n",
              "      background-color: #E8F0FE;\n",
              "      border: none;\n",
              "      border-radius: 50%;\n",
              "      cursor: pointer;\n",
              "      display: none;\n",
              "      fill: #1967D2;\n",
              "      height: 32px;\n",
              "      padding: 0 0 0 0;\n",
              "      width: 32px;\n",
              "    }\n",
              "\n",
              "    .colab-df-convert:hover {\n",
              "      background-color: #E2EBFA;\n",
              "      box-shadow: 0px 1px 2px rgba(60, 64, 67, 0.3), 0px 1px 3px 1px rgba(60, 64, 67, 0.15);\n",
              "      fill: #174EA6;\n",
              "    }\n",
              "\n",
              "    .colab-df-buttons div {\n",
              "      margin-bottom: 4px;\n",
              "    }\n",
              "\n",
              "    [theme=dark] .colab-df-convert {\n",
              "      background-color: #3B4455;\n",
              "      fill: #D2E3FC;\n",
              "    }\n",
              "\n",
              "    [theme=dark] .colab-df-convert:hover {\n",
              "      background-color: #434B5C;\n",
              "      box-shadow: 0px 1px 3px 1px rgba(0, 0, 0, 0.15);\n",
              "      filter: drop-shadow(0px 1px 2px rgba(0, 0, 0, 0.3));\n",
              "      fill: #FFFFFF;\n",
              "    }\n",
              "  </style>\n",
              "\n",
              "    <script>\n",
              "      const buttonEl =\n",
              "        document.querySelector('#df-c02301ca-eac3-43d0-a2e7-9801f9c8e468 button.colab-df-convert');\n",
              "      buttonEl.style.display =\n",
              "        google.colab.kernel.accessAllowed ? 'block' : 'none';\n",
              "\n",
              "      async function convertToInteractive(key) {\n",
              "        const element = document.querySelector('#df-c02301ca-eac3-43d0-a2e7-9801f9c8e468');\n",
              "        const dataTable =\n",
              "          await google.colab.kernel.invokeFunction('convertToInteractive',\n",
              "                                                    [key], {});\n",
              "        if (!dataTable) return;\n",
              "\n",
              "        const docLinkHtml = 'Like what you see? Visit the ' +\n",
              "          '<a target=\"_blank\" href=https://colab.research.google.com/notebooks/data_table.ipynb>data table notebook</a>'\n",
              "          + ' to learn more about interactive tables.';\n",
              "        element.innerHTML = '';\n",
              "        dataTable['output_type'] = 'display_data';\n",
              "        await google.colab.output.renderOutput(dataTable, element);\n",
              "        const docLink = document.createElement('div');\n",
              "        docLink.innerHTML = docLinkHtml;\n",
              "        element.appendChild(docLink);\n",
              "      }\n",
              "    </script>\n",
              "  </div>\n",
              "\n",
              "\n",
              "<div id=\"df-d5bb6139-699d-4110-9265-6d62e37f503f\">\n",
              "  <button class=\"colab-df-quickchart\" onclick=\"quickchart('df-d5bb6139-699d-4110-9265-6d62e37f503f')\"\n",
              "            title=\"Suggest charts\"\n",
              "            style=\"display:none;\">\n",
              "\n",
              "<svg xmlns=\"http://www.w3.org/2000/svg\" height=\"24px\"viewBox=\"0 0 24 24\"\n",
              "     width=\"24px\">\n",
              "    <g>\n",
              "        <path d=\"M19 3H5c-1.1 0-2 .9-2 2v14c0 1.1.9 2 2 2h14c1.1 0 2-.9 2-2V5c0-1.1-.9-2-2-2zM9 17H7v-7h2v7zm4 0h-2V7h2v10zm4 0h-2v-4h2v4z\"/>\n",
              "    </g>\n",
              "</svg>\n",
              "  </button>\n",
              "\n",
              "<style>\n",
              "  .colab-df-quickchart {\n",
              "      --bg-color: #E8F0FE;\n",
              "      --fill-color: #1967D2;\n",
              "      --hover-bg-color: #E2EBFA;\n",
              "      --hover-fill-color: #174EA6;\n",
              "      --disabled-fill-color: #AAA;\n",
              "      --disabled-bg-color: #DDD;\n",
              "  }\n",
              "\n",
              "  [theme=dark] .colab-df-quickchart {\n",
              "      --bg-color: #3B4455;\n",
              "      --fill-color: #D2E3FC;\n",
              "      --hover-bg-color: #434B5C;\n",
              "      --hover-fill-color: #FFFFFF;\n",
              "      --disabled-bg-color: #3B4455;\n",
              "      --disabled-fill-color: #666;\n",
              "  }\n",
              "\n",
              "  .colab-df-quickchart {\n",
              "    background-color: var(--bg-color);\n",
              "    border: none;\n",
              "    border-radius: 50%;\n",
              "    cursor: pointer;\n",
              "    display: none;\n",
              "    fill: var(--fill-color);\n",
              "    height: 32px;\n",
              "    padding: 0;\n",
              "    width: 32px;\n",
              "  }\n",
              "\n",
              "  .colab-df-quickchart:hover {\n",
              "    background-color: var(--hover-bg-color);\n",
              "    box-shadow: 0 1px 2px rgba(60, 64, 67, 0.3), 0 1px 3px 1px rgba(60, 64, 67, 0.15);\n",
              "    fill: var(--button-hover-fill-color);\n",
              "  }\n",
              "\n",
              "  .colab-df-quickchart-complete:disabled,\n",
              "  .colab-df-quickchart-complete:disabled:hover {\n",
              "    background-color: var(--disabled-bg-color);\n",
              "    fill: var(--disabled-fill-color);\n",
              "    box-shadow: none;\n",
              "  }\n",
              "\n",
              "  .colab-df-spinner {\n",
              "    border: 2px solid var(--fill-color);\n",
              "    border-color: transparent;\n",
              "    border-bottom-color: var(--fill-color);\n",
              "    animation:\n",
              "      spin 1s steps(1) infinite;\n",
              "  }\n",
              "\n",
              "  @keyframes spin {\n",
              "    0% {\n",
              "      border-color: transparent;\n",
              "      border-bottom-color: var(--fill-color);\n",
              "      border-left-color: var(--fill-color);\n",
              "    }\n",
              "    20% {\n",
              "      border-color: transparent;\n",
              "      border-left-color: var(--fill-color);\n",
              "      border-top-color: var(--fill-color);\n",
              "    }\n",
              "    30% {\n",
              "      border-color: transparent;\n",
              "      border-left-color: var(--fill-color);\n",
              "      border-top-color: var(--fill-color);\n",
              "      border-right-color: var(--fill-color);\n",
              "    }\n",
              "    40% {\n",
              "      border-color: transparent;\n",
              "      border-right-color: var(--fill-color);\n",
              "      border-top-color: var(--fill-color);\n",
              "    }\n",
              "    60% {\n",
              "      border-color: transparent;\n",
              "      border-right-color: var(--fill-color);\n",
              "    }\n",
              "    80% {\n",
              "      border-color: transparent;\n",
              "      border-right-color: var(--fill-color);\n",
              "      border-bottom-color: var(--fill-color);\n",
              "    }\n",
              "    90% {\n",
              "      border-color: transparent;\n",
              "      border-bottom-color: var(--fill-color);\n",
              "    }\n",
              "  }\n",
              "</style>\n",
              "\n",
              "  <script>\n",
              "    async function quickchart(key) {\n",
              "      const quickchartButtonEl =\n",
              "        document.querySelector('#' + key + ' button');\n",
              "      quickchartButtonEl.disabled = true;  // To prevent multiple clicks.\n",
              "      quickchartButtonEl.classList.add('colab-df-spinner');\n",
              "      try {\n",
              "        const charts = await google.colab.kernel.invokeFunction(\n",
              "            'suggestCharts', [key], {});\n",
              "      } catch (error) {\n",
              "        console.error('Error during call to suggestCharts:', error);\n",
              "      }\n",
              "      quickchartButtonEl.classList.remove('colab-df-spinner');\n",
              "      quickchartButtonEl.classList.add('colab-df-quickchart-complete');\n",
              "    }\n",
              "    (() => {\n",
              "      let quickchartButtonEl =\n",
              "        document.querySelector('#df-d5bb6139-699d-4110-9265-6d62e37f503f button');\n",
              "      quickchartButtonEl.style.display =\n",
              "        google.colab.kernel.accessAllowed ? 'block' : 'none';\n",
              "    })();\n",
              "  </script>\n",
              "</div>\n",
              "    </div>\n",
              "  </div>\n"
            ],
            "application/vnd.google.colaboratory.intrinsic+json": {
              "type": "dataframe",
              "variable_name": "df",
              "summary": "{\n  \"name\": \"df\",\n  \"rows\": 3,\n  \"fields\": [\n    {\n      \"column\": \"Name\",\n      \"properties\": {\n        \"dtype\": \"string\",\n        \"num_unique_values\": 3,\n        \"samples\": [\n          \"Alice\",\n          \"Bob\",\n          \"Charlie\"\n        ],\n        \"semantic_type\": \"\",\n        \"description\": \"\"\n      }\n    },\n    {\n      \"column\": \"Age\",\n      \"properties\": {\n        \"dtype\": \"number\",\n        \"std\": 3,\n        \"min\": 25,\n        \"max\": 32,\n        \"num_unique_values\": 3,\n        \"samples\": [\n          25,\n          32,\n          28\n        ],\n        \"semantic_type\": \"\",\n        \"description\": \"\"\n      }\n    }\n  ]\n}"
            }
          },
          "metadata": {},
          "execution_count": 5
        }
      ]
    },
    {
      "cell_type": "markdown",
      "source": [
        "### 1.4. Creating a DataFrame from .csv file"
      ],
      "metadata": {
        "id": "dQomzL5RFIBf"
      }
    },
    {
      "cell_type": "markdown",
      "source": [
        "Depending if you work in Google Colab or in some local IDE (JupyterLab, VScode...), the way to read a .csv file is different. Both will use the same method from the Pandas library, but the way the file's *location* is given will change."
      ],
      "metadata": {
        "id": "19WVaBb9FfhU"
      }
    },
    {
      "cell_type": "markdown",
      "source": [
        "#### 1.4.1. Reading a .csv file from Google Colab\n",
        "\n",
        "The best way to read a file is to upload it to your Drive. Follow the steps below to read it:\n",
        "1. Upload the file to your Google Drive\n",
        "2. Right-click on the file and go to \"Share\". Change sharing rights to \"Anyone with the link\" ![image.png](data:image/png;base64,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)\n",
        "4. Copy the link\n",
        "5. Paste the link in the `url` part of the code below. Be sure to leave the link as a string, i.e. it must be contained in quotes ' ' or \" \"."
      ],
      "metadata": {
        "id": "l_LQHXENF3tW"
      }
    },
    {
      "cell_type": "code",
      "source": [
        "url = 'https://drive.google.com/file/d/18zYGrzRhn_mz1HJLXxSO_MwR0_nWBS3K/view?usp=sharing'\n",
        "path = 'https://drive.google.com/uc?export=download&id='+url.split('/')[-2]\n",
        "df = pd.read_csv(path)"
      ],
      "metadata": {
        "id": "BWUadPTtFQlD"
      },
      "execution_count": null,
      "outputs": []
    },
    {
      "cell_type": "markdown",
      "source": [
        "> ⚠️ **Don't change `path`**: For every new .csv file, you only need to change `url`. You can, of course, change the name of the variable `df` to something suitable as well."
      ],
      "metadata": {
        "id": "3Ib2UQDdHzfO"
      }
    },
    {
      "cell_type": "markdown",
      "source": [
        "#### 1.4.2. Reading a file from a JupyterLab or VS code"
      ],
      "metadata": {
        "id": "AUJiTFQVIYtU"
      }
    },
    {
      "cell_type": "markdown",
      "source": [
        "The file is located using the file system on your machine. This is also referred to as a path. One option is to use the *relative path*, which takes as reference where your notebook is located, as in the examples below:\n",
        "  \\\n",
        "  \\\n",
        "-Folder1  \n",
        "------notebook.ipynb  \n",
        "------data.csv  \n",
        "here the relative path is \"data.csv\"\n",
        "  \\\n",
        "  \\\n",
        "-Folder1  \n",
        "------notebook.ipynb  \n",
        "------Folder2  \n",
        "------------data.csv  \n",
        "here the relative path is \"Folder2/data.csv\"\n",
        "  \\\n",
        " \\\n",
        "-Folder0  \n",
        "------Folder1  \n",
        "------------data.csv  \n",
        "------Folder2  \n",
        "------------notebook.ipynb  \n",
        "here the relative path is \"../Folder1/<wbr>data.csv\"\n",
        "\n",
        "The \"..\" in the last example means *go to the folder which contains this folder*. Starting from \"Folder2\" where the notebook is located, we travel first to the *parent directory* \"Folder0\", then locate \"Folder1\" inside it, followed by \"data.csv\" within that.\n",
        "\n",
        "We can also use an *absolute path*, which can be useful if the data is stored somewhere not very close to the notebook being used. Such a path might look like: \"C:/Desktop/data.csv\""
      ],
      "metadata": {
        "id": "o2hNjvVXIp62"
      }
    },
    {
      "cell_type": "code",
      "source": [
        "# this will not work in google colab so we will keep it commented\n",
        "\n",
        "# notice that the file name is contained in quotes: it is a string\n",
        "# df = pd.read_csv(\"data.csv\")"
      ],
      "metadata": {
        "id": "VIpk2sqCIXCh"
      },
      "execution_count": null,
      "outputs": []
    },
    {
      "cell_type": "markdown",
      "source": [
        "> For other options, check this [file](https://colab.research.google.com/notebooks/io.ipynb)."
      ],
      "metadata": {
        "id": "6W15dg7XN_rk"
      }
    },
    {
      "cell_type": "markdown",
      "source": [
        "## 2. Exploration\n",
        "When you get new data, the first step is to explore and get an overview of the data.  \n",
        "There are many methods and attributes of pandas `DataFrame` and `Series` that can help you with this task.\n",
        "\n",
        "> **Reminder**:      \n",
        "*methods* are built-in functions for data-classes. They are always called with parentheses () at the end, in which *arguments* can (or need to be) placed.      \n",
        ">\n",
        "> *attributes* are like sub-variables attached to a variable. They are called without parentheses.   \n",
        ">\n",
        "> It is normal to not remember at first if parentheses are needed or not when using these tools. Take notes, check notebooks or documentation; it comes with time."
      ],
      "metadata": {
        "id": "x7E_85M1Z9g5"
      }
    },
    {
      "cell_type": "markdown",
      "source": [
        "##### 2.1. [**.info()**](https://pandas.pydata.org/docs/reference/api/pandas.DataFrame.info.html)\n",
        "Use this method to review a concise summary of `df`:  "
      ],
      "metadata": {
        "id": "zWTDUhRtbPZR"
      }
    },
    {
      "cell_type": "code",
      "source": [
        "# .info() is a method, and so requires parentheses\n",
        "df.info()"
      ],
      "metadata": {
        "colab": {
          "base_uri": "https://localhost:8080/"
        },
        "id": "yOx2Xo_2aCg2",
        "outputId": "b0363c3c-e85c-4405-b252-67b39fcd155d"
      },
      "execution_count": null,
      "outputs": [
        {
          "output_type": "stream",
          "name": "stdout",
          "text": [
            "<class 'pandas.core.frame.DataFrame'>\n",
            "RangeIndex: 35952 entries, 0 to 35951\n",
            "Data columns (total 15 columns):\n",
            " #   Column                   Non-Null Count  Dtype  \n",
            "---  ------                   --------------  -----  \n",
            " 0   Make                     35952 non-null  object \n",
            " 1   Model                    35952 non-null  object \n",
            " 2   Year                     35952 non-null  int64  \n",
            " 3   Engine Displacement      35952 non-null  float64\n",
            " 4   Cylinders                35952 non-null  float64\n",
            " 5   Transmission             35952 non-null  object \n",
            " 6   Drivetrain               35952 non-null  object \n",
            " 7   Vehicle Class            35952 non-null  object \n",
            " 8   Fuel Type                35952 non-null  object \n",
            " 9   Fuel Barrels/Year        35952 non-null  float64\n",
            " 10  City MPG                 35952 non-null  int64  \n",
            " 11  Highway MPG              35952 non-null  int64  \n",
            " 12  Combined MPG             35952 non-null  int64  \n",
            " 13  CO2 Emission Grams/Mile  35952 non-null  float64\n",
            " 14  Fuel Cost/Year           35952 non-null  int64  \n",
            "dtypes: float64(4), int64(5), object(6)\n",
            "memory usage: 4.1+ MB\n"
          ]
        }
      ]
    },
    {
      "cell_type": "markdown",
      "source": [
        "##### 2.2. [**shape**](https://pandas.pydata.org/docs/reference/api/pandas.DataFrame.shape.html)\n",
        "Use this attribute to see how many columns and rows `df` has:"
      ],
      "metadata": {
        "id": "VObfDWSoctGt"
      }
    },
    {
      "cell_type": "code",
      "source": [
        "# .shape is an attribute, and thus is called without parentheses\n",
        "df.shape"
      ],
      "metadata": {
        "colab": {
          "base_uri": "https://localhost:8080/"
        },
        "id": "qkT-FHnYdS9Q",
        "outputId": "2111ad2a-f3d9-4c37-b5c0-b98a63fa8132"
      },
      "execution_count": null,
      "outputs": [
        {
          "output_type": "execute_result",
          "data": {
            "text/plain": [
              "(35952, 15)"
            ]
          },
          "metadata": {},
          "execution_count": 9
        }
      ]
    },
    {
      "cell_type": "markdown",
      "source": [
        "Since `df.shape` is a tuple, you can call its individual elements by their indexes."
      ],
      "metadata": {
        "id": "MTAum3ZDKOdr"
      }
    },
    {
      "cell_type": "code",
      "source": [
        "df.shape[0] # number of rows"
      ],
      "metadata": {
        "colab": {
          "base_uri": "https://localhost:8080/"
        },
        "id": "E5_kJ3U3wf1Y",
        "outputId": "653526f6-f33c-4aea-9eda-ca7a34e7505c"
      },
      "execution_count": null,
      "outputs": [
        {
          "output_type": "execute_result",
          "data": {
            "text/plain": [
              "35952"
            ]
          },
          "metadata": {},
          "execution_count": 10
        }
      ]
    },
    {
      "cell_type": "code",
      "source": [
        "df.shape[1] # number of columns"
      ],
      "metadata": {
        "colab": {
          "base_uri": "https://localhost:8080/"
        },
        "id": "u5GJb-xWwmU-",
        "outputId": "9b065a70-7162-4381-fb49-37d91c5e2117"
      },
      "execution_count": null,
      "outputs": [
        {
          "output_type": "execute_result",
          "data": {
            "text/plain": [
              "15"
            ]
          },
          "metadata": {},
          "execution_count": 11
        }
      ]
    },
    {
      "cell_type": "markdown",
      "source": [
        "##### 2.3.  [**describe()**](https://pandas.pydata.org/docs/reference/api/pandas.DataFrame.describe.html)\n",
        "Use this method to see certain statistics about `df`'s numeric columns:"
      ],
      "metadata": {
        "id": "1qv77EXjdZp1"
      }
    },
    {
      "cell_type": "code",
      "source": [
        "# .describe() is another method, and parentheses are needed\n",
        "df.describe()"
      ],
      "metadata": {
        "colab": {
          "base_uri": "https://localhost:8080/",
          "height": 317
        },
        "id": "7x2ewIOyetd7",
        "outputId": "7ec0dfca-498d-4515-da41-95fedc0107f0"
      },
      "execution_count": null,
      "outputs": [
        {
          "output_type": "execute_result",
          "data": {
            "text/plain": [
              "              Year  Engine Displacement     Cylinders  Fuel Barrels/Year  \\\n",
              "count  35952.00000         35952.000000  35952.000000       35952.000000   \n",
              "mean    2000.71640             3.338493      5.765076          17.609056   \n",
              "std       10.08529             1.359395      1.755268           4.467283   \n",
              "min     1984.00000             0.600000      2.000000           0.060000   \n",
              "25%     1991.00000             2.200000      4.000000          14.699423   \n",
              "50%     2001.00000             3.000000      6.000000          17.347895   \n",
              "75%     2010.00000             4.300000      6.000000          20.600625   \n",
              "max     2017.00000             8.400000     16.000000          47.087143   \n",
              "\n",
              "           City MPG   Highway MPG  Combined MPG  CO2 Emission Grams/Mile  \\\n",
              "count  35952.000000  35952.000000  35952.000000             35952.000000   \n",
              "mean      17.646139     23.880646     19.929322               475.316339   \n",
              "std        4.769349      5.890876      5.112409               119.060773   \n",
              "min        6.000000      9.000000      7.000000                37.000000   \n",
              "25%       15.000000     20.000000     16.000000               395.000000   \n",
              "50%       17.000000     24.000000     19.000000               467.736842   \n",
              "75%       20.000000     27.000000     23.000000               555.437500   \n",
              "max       58.000000     61.000000     56.000000              1269.571429   \n",
              "\n",
              "       Fuel Cost/Year  \n",
              "count    35952.000000  \n",
              "mean      1892.598465  \n",
              "std        506.958627  \n",
              "min        600.000000  \n",
              "25%       1500.000000  \n",
              "50%       1850.000000  \n",
              "75%       2200.000000  \n",
              "max       5800.000000  "
            ],
            "text/html": [
              "\n",
              "  <div id=\"df-c1b062b4-d02e-4396-a9b6-05bec4eb343c\" class=\"colab-df-container\">\n",
              "    <div>\n",
              "<style scoped>\n",
              "    .dataframe tbody tr th:only-of-type {\n",
              "        vertical-align: middle;\n",
              "    }\n",
              "\n",
              "    .dataframe tbody tr th {\n",
              "        vertical-align: top;\n",
              "    }\n",
              "\n",
              "    .dataframe thead th {\n",
              "        text-align: right;\n",
              "    }\n",
              "</style>\n",
              "<table border=\"1\" class=\"dataframe\">\n",
              "  <thead>\n",
              "    <tr style=\"text-align: right;\">\n",
              "      <th></th>\n",
              "      <th>Year</th>\n",
              "      <th>Engine Displacement</th>\n",
              "      <th>Cylinders</th>\n",
              "      <th>Fuel Barrels/Year</th>\n",
              "      <th>City MPG</th>\n",
              "      <th>Highway MPG</th>\n",
              "      <th>Combined MPG</th>\n",
              "      <th>CO2 Emission Grams/Mile</th>\n",
              "      <th>Fuel Cost/Year</th>\n",
              "    </tr>\n",
              "  </thead>\n",
              "  <tbody>\n",
              "    <tr>\n",
              "      <th>count</th>\n",
              "      <td>35952.00000</td>\n",
              "      <td>35952.000000</td>\n",
              "      <td>35952.000000</td>\n",
              "      <td>35952.000000</td>\n",
              "      <td>35952.000000</td>\n",
              "      <td>35952.000000</td>\n",
              "      <td>35952.000000</td>\n",
              "      <td>35952.000000</td>\n",
              "      <td>35952.000000</td>\n",
              "    </tr>\n",
              "    <tr>\n",
              "      <th>mean</th>\n",
              "      <td>2000.71640</td>\n",
              "      <td>3.338493</td>\n",
              "      <td>5.765076</td>\n",
              "      <td>17.609056</td>\n",
              "      <td>17.646139</td>\n",
              "      <td>23.880646</td>\n",
              "      <td>19.929322</td>\n",
              "      <td>475.316339</td>\n",
              "      <td>1892.598465</td>\n",
              "    </tr>\n",
              "    <tr>\n",
              "      <th>std</th>\n",
              "      <td>10.08529</td>\n",
              "      <td>1.359395</td>\n",
              "      <td>1.755268</td>\n",
              "      <td>4.467283</td>\n",
              "      <td>4.769349</td>\n",
              "      <td>5.890876</td>\n",
              "      <td>5.112409</td>\n",
              "      <td>119.060773</td>\n",
              "      <td>506.958627</td>\n",
              "    </tr>\n",
              "    <tr>\n",
              "      <th>min</th>\n",
              "      <td>1984.00000</td>\n",
              "      <td>0.600000</td>\n",
              "      <td>2.000000</td>\n",
              "      <td>0.060000</td>\n",
              "      <td>6.000000</td>\n",
              "      <td>9.000000</td>\n",
              "      <td>7.000000</td>\n",
              "      <td>37.000000</td>\n",
              "      <td>600.000000</td>\n",
              "    </tr>\n",
              "    <tr>\n",
              "      <th>25%</th>\n",
              "      <td>1991.00000</td>\n",
              "      <td>2.200000</td>\n",
              "      <td>4.000000</td>\n",
              "      <td>14.699423</td>\n",
              "      <td>15.000000</td>\n",
              "      <td>20.000000</td>\n",
              "      <td>16.000000</td>\n",
              "      <td>395.000000</td>\n",
              "      <td>1500.000000</td>\n",
              "    </tr>\n",
              "    <tr>\n",
              "      <th>50%</th>\n",
              "      <td>2001.00000</td>\n",
              "      <td>3.000000</td>\n",
              "      <td>6.000000</td>\n",
              "      <td>17.347895</td>\n",
              "      <td>17.000000</td>\n",
              "      <td>24.000000</td>\n",
              "      <td>19.000000</td>\n",
              "      <td>467.736842</td>\n",
              "      <td>1850.000000</td>\n",
              "    </tr>\n",
              "    <tr>\n",
              "      <th>75%</th>\n",
              "      <td>2010.00000</td>\n",
              "      <td>4.300000</td>\n",
              "      <td>6.000000</td>\n",
              "      <td>20.600625</td>\n",
              "      <td>20.000000</td>\n",
              "      <td>27.000000</td>\n",
              "      <td>23.000000</td>\n",
              "      <td>555.437500</td>\n",
              "      <td>2200.000000</td>\n",
              "    </tr>\n",
              "    <tr>\n",
              "      <th>max</th>\n",
              "      <td>2017.00000</td>\n",
              "      <td>8.400000</td>\n",
              "      <td>16.000000</td>\n",
              "      <td>47.087143</td>\n",
              "      <td>58.000000</td>\n",
              "      <td>61.000000</td>\n",
              "      <td>56.000000</td>\n",
              "      <td>1269.571429</td>\n",
              "      <td>5800.000000</td>\n",
              "    </tr>\n",
              "  </tbody>\n",
              "</table>\n",
              "</div>\n",
              "    <div class=\"colab-df-buttons\">\n",
              "\n",
              "  <div class=\"colab-df-container\">\n",
              "    <button class=\"colab-df-convert\" onclick=\"convertToInteractive('df-c1b062b4-d02e-4396-a9b6-05bec4eb343c')\"\n",
              "            title=\"Convert this dataframe to an interactive table.\"\n",
              "            style=\"display:none;\">\n",
              "\n",
              "  <svg xmlns=\"http://www.w3.org/2000/svg\" height=\"24px\" viewBox=\"0 -960 960 960\">\n",
              "    <path d=\"M120-120v-720h720v720H120Zm60-500h600v-160H180v160Zm220 220h160v-160H400v160Zm0 220h160v-160H400v160ZM180-400h160v-160H180v160Zm440 0h160v-160H620v160ZM180-180h160v-160H180v160Zm440 0h160v-160H620v160Z\"/>\n",
              "  </svg>\n",
              "    </button>\n",
              "\n",
              "  <style>\n",
              "    .colab-df-container {\n",
              "      display:flex;\n",
              "      gap: 12px;\n",
              "    }\n",
              "\n",
              "    .colab-df-convert {\n",
              "      background-color: #E8F0FE;\n",
              "      border: none;\n",
              "      border-radius: 50%;\n",
              "      cursor: pointer;\n",
              "      display: none;\n",
              "      fill: #1967D2;\n",
              "      height: 32px;\n",
              "      padding: 0 0 0 0;\n",
              "      width: 32px;\n",
              "    }\n",
              "\n",
              "    .colab-df-convert:hover {\n",
              "      background-color: #E2EBFA;\n",
              "      box-shadow: 0px 1px 2px rgba(60, 64, 67, 0.3), 0px 1px 3px 1px rgba(60, 64, 67, 0.15);\n",
              "      fill: #174EA6;\n",
              "    }\n",
              "\n",
              "    .colab-df-buttons div {\n",
              "      margin-bottom: 4px;\n",
              "    }\n",
              "\n",
              "    [theme=dark] .colab-df-convert {\n",
              "      background-color: #3B4455;\n",
              "      fill: #D2E3FC;\n",
              "    }\n",
              "\n",
              "    [theme=dark] .colab-df-convert:hover {\n",
              "      background-color: #434B5C;\n",
              "      box-shadow: 0px 1px 3px 1px rgba(0, 0, 0, 0.15);\n",
              "      filter: drop-shadow(0px 1px 2px rgba(0, 0, 0, 0.3));\n",
              "      fill: #FFFFFF;\n",
              "    }\n",
              "  </style>\n",
              "\n",
              "    <script>\n",
              "      const buttonEl =\n",
              "        document.querySelector('#df-c1b062b4-d02e-4396-a9b6-05bec4eb343c button.colab-df-convert');\n",
              "      buttonEl.style.display =\n",
              "        google.colab.kernel.accessAllowed ? 'block' : 'none';\n",
              "\n",
              "      async function convertToInteractive(key) {\n",
              "        const element = document.querySelector('#df-c1b062b4-d02e-4396-a9b6-05bec4eb343c');\n",
              "        const dataTable =\n",
              "          await google.colab.kernel.invokeFunction('convertToInteractive',\n",
              "                                                    [key], {});\n",
              "        if (!dataTable) return;\n",
              "\n",
              "        const docLinkHtml = 'Like what you see? Visit the ' +\n",
              "          '<a target=\"_blank\" href=https://colab.research.google.com/notebooks/data_table.ipynb>data table notebook</a>'\n",
              "          + ' to learn more about interactive tables.';\n",
              "        element.innerHTML = '';\n",
              "        dataTable['output_type'] = 'display_data';\n",
              "        await google.colab.output.renderOutput(dataTable, element);\n",
              "        const docLink = document.createElement('div');\n",
              "        docLink.innerHTML = docLinkHtml;\n",
              "        element.appendChild(docLink);\n",
              "      }\n",
              "    </script>\n",
              "  </div>\n",
              "\n",
              "\n",
              "<div id=\"df-b99be518-5475-4869-b6c0-8bf8825eb503\">\n",
              "  <button class=\"colab-df-quickchart\" onclick=\"quickchart('df-b99be518-5475-4869-b6c0-8bf8825eb503')\"\n",
              "            title=\"Suggest charts\"\n",
              "            style=\"display:none;\">\n",
              "\n",
              "<svg xmlns=\"http://www.w3.org/2000/svg\" height=\"24px\"viewBox=\"0 0 24 24\"\n",
              "     width=\"24px\">\n",
              "    <g>\n",
              "        <path d=\"M19 3H5c-1.1 0-2 .9-2 2v14c0 1.1.9 2 2 2h14c1.1 0 2-.9 2-2V5c0-1.1-.9-2-2-2zM9 17H7v-7h2v7zm4 0h-2V7h2v10zm4 0h-2v-4h2v4z\"/>\n",
              "    </g>\n",
              "</svg>\n",
              "  </button>\n",
              "\n",
              "<style>\n",
              "  .colab-df-quickchart {\n",
              "      --bg-color: #E8F0FE;\n",
              "      --fill-color: #1967D2;\n",
              "      --hover-bg-color: #E2EBFA;\n",
              "      --hover-fill-color: #174EA6;\n",
              "      --disabled-fill-color: #AAA;\n",
              "      --disabled-bg-color: #DDD;\n",
              "  }\n",
              "\n",
              "  [theme=dark] .colab-df-quickchart {\n",
              "      --bg-color: #3B4455;\n",
              "      --fill-color: #D2E3FC;\n",
              "      --hover-bg-color: #434B5C;\n",
              "      --hover-fill-color: #FFFFFF;\n",
              "      --disabled-bg-color: #3B4455;\n",
              "      --disabled-fill-color: #666;\n",
              "  }\n",
              "\n",
              "  .colab-df-quickchart {\n",
              "    background-color: var(--bg-color);\n",
              "    border: none;\n",
              "    border-radius: 50%;\n",
              "    cursor: pointer;\n",
              "    display: none;\n",
              "    fill: var(--fill-color);\n",
              "    height: 32px;\n",
              "    padding: 0;\n",
              "    width: 32px;\n",
              "  }\n",
              "\n",
              "  .colab-df-quickchart:hover {\n",
              "    background-color: var(--hover-bg-color);\n",
              "    box-shadow: 0 1px 2px rgba(60, 64, 67, 0.3), 0 1px 3px 1px rgba(60, 64, 67, 0.15);\n",
              "    fill: var(--button-hover-fill-color);\n",
              "  }\n",
              "\n",
              "  .colab-df-quickchart-complete:disabled,\n",
              "  .colab-df-quickchart-complete:disabled:hover {\n",
              "    background-color: var(--disabled-bg-color);\n",
              "    fill: var(--disabled-fill-color);\n",
              "    box-shadow: none;\n",
              "  }\n",
              "\n",
              "  .colab-df-spinner {\n",
              "    border: 2px solid var(--fill-color);\n",
              "    border-color: transparent;\n",
              "    border-bottom-color: var(--fill-color);\n",
              "    animation:\n",
              "      spin 1s steps(1) infinite;\n",
              "  }\n",
              "\n",
              "  @keyframes spin {\n",
              "    0% {\n",
              "      border-color: transparent;\n",
              "      border-bottom-color: var(--fill-color);\n",
              "      border-left-color: var(--fill-color);\n",
              "    }\n",
              "    20% {\n",
              "      border-color: transparent;\n",
              "      border-left-color: var(--fill-color);\n",
              "      border-top-color: var(--fill-color);\n",
              "    }\n",
              "    30% {\n",
              "      border-color: transparent;\n",
              "      border-left-color: var(--fill-color);\n",
              "      border-top-color: var(--fill-color);\n",
              "      border-right-color: var(--fill-color);\n",
              "    }\n",
              "    40% {\n",
              "      border-color: transparent;\n",
              "      border-right-color: var(--fill-color);\n",
              "      border-top-color: var(--fill-color);\n",
              "    }\n",
              "    60% {\n",
              "      border-color: transparent;\n",
              "      border-right-color: var(--fill-color);\n",
              "    }\n",
              "    80% {\n",
              "      border-color: transparent;\n",
              "      border-right-color: var(--fill-color);\n",
              "      border-bottom-color: var(--fill-color);\n",
              "    }\n",
              "    90% {\n",
              "      border-color: transparent;\n",
              "      border-bottom-color: var(--fill-color);\n",
              "    }\n",
              "  }\n",
              "</style>\n",
              "\n",
              "  <script>\n",
              "    async function quickchart(key) {\n",
              "      const quickchartButtonEl =\n",
              "        document.querySelector('#' + key + ' button');\n",
              "      quickchartButtonEl.disabled = true;  // To prevent multiple clicks.\n",
              "      quickchartButtonEl.classList.add('colab-df-spinner');\n",
              "      try {\n",
              "        const charts = await google.colab.kernel.invokeFunction(\n",
              "            'suggestCharts', [key], {});\n",
              "      } catch (error) {\n",
              "        console.error('Error during call to suggestCharts:', error);\n",
              "      }\n",
              "      quickchartButtonEl.classList.remove('colab-df-spinner');\n",
              "      quickchartButtonEl.classList.add('colab-df-quickchart-complete');\n",
              "    }\n",
              "    (() => {\n",
              "      let quickchartButtonEl =\n",
              "        document.querySelector('#df-b99be518-5475-4869-b6c0-8bf8825eb503 button');\n",
              "      quickchartButtonEl.style.display =\n",
              "        google.colab.kernel.accessAllowed ? 'block' : 'none';\n",
              "    })();\n",
              "  </script>\n",
              "</div>\n",
              "    </div>\n",
              "  </div>\n"
            ],
            "application/vnd.google.colaboratory.intrinsic+json": {
              "type": "dataframe",
              "summary": "{\n  \"name\": \"df\",\n  \"rows\": 8,\n  \"fields\": [\n    {\n      \"column\": \"Year\",\n      \"properties\": {\n        \"dtype\": \"number\",\n        \"std\": 12124.1920635915,\n        \"min\": 10.085289549870048,\n        \"max\": 35952.0,\n        \"num_unique_values\": 8,\n        \"samples\": [\n          2000.7163996439697,\n          2001.0,\n          35952.0\n        ],\n        \"semantic_type\": \"\",\n        \"description\": \"\"\n      }\n    },\n    {\n      \"column\": \"Engine Displacement\",\n      \"properties\": {\n        \"dtype\": \"number\",\n        \"std\": 12709.780049546807,\n        \"min\": 0.6,\n        \"max\": 35952.0,\n        \"num_unique_values\": 8,\n        \"samples\": [\n          3.338492990654206,\n          3.0,\n          35952.0\n        ],\n        \"semantic_type\": \"\",\n        \"description\": \"\"\n      }\n    },\n    {\n      \"column\": \"Cylinders\",\n      \"properties\": {\n        \"dtype\": \"number\",\n        \"std\": 12708.855180395323,\n        \"min\": 1.7552682317646655,\n        \"max\": 35952.0,\n        \"num_unique_values\": 7,\n        \"samples\": [\n          35952.0,\n          5.765075656430796,\n          6.0\n        ],\n        \"semantic_type\": \"\",\n        \"description\": \"\"\n      }\n    },\n    {\n      \"column\": \"Fuel Barrels/Year\",\n      \"properties\": {\n        \"dtype\": \"number\",\n        \"std\": 12704.803746773277,\n        \"min\": 0.06,\n        \"max\": 35952.0,\n        \"num_unique_values\": 8,\n        \"samples\": [\n          17.609055502328133,\n          17.347894736842107,\n          35952.0\n        ],\n        \"semantic_type\": \"\",\n        \"description\": \"\"\n      }\n    },\n    {\n      \"column\": \"City MPG\",\n      \"properties\": {\n        \"dtype\": \"number\",\n        \"std\": 12703.971206279577,\n        \"min\": 4.769348813726053,\n        \"max\": 35952.0,\n        \"num_unique_values\": 8,\n        \"samples\": [\n          17.646139296840232,\n          17.0,\n          35952.0\n        ],\n        \"semantic_type\": \"\",\n        \"description\": \"\"\n      }\n    },\n    {\n      \"column\": \"Highway MPG\",\n      \"properties\": {\n        \"dtype\": \"number\",\n        \"std\": 12702.337176266246,\n        \"min\": 5.890876355680396,\n        \"max\": 35952.0,\n        \"num_unique_values\": 8,\n        \"samples\": [\n          23.880646417445483,\n          24.0,\n          35952.0\n        ],\n        \"semantic_type\": \"\",\n        \"description\": \"\"\n      }\n    },\n    {\n      \"column\": \"Combined MPG\",\n      \"properties\": {\n        \"dtype\": \"number\",\n        \"std\": 12703.584877672523,\n        \"min\": 5.112408944666045,\n        \"max\": 35952.0,\n        \"num_unique_values\": 8,\n        \"samples\": [\n          19.92932242990654,\n          19.0,\n          35952.0\n        ],\n        \"semantic_type\": \"\",\n        \"description\": \"\"\n      }\n    },\n    {\n      \"column\": \"CO2 Emission Grams/Mile\",\n      \"properties\": {\n        \"dtype\": \"number\",\n        \"std\": 12548.791989152205,\n        \"min\": 37.0,\n        \"max\": 35952.0,\n        \"num_unique_values\": 8,\n        \"samples\": [\n          475.3163392572124,\n          467.7368421052632,\n          35952.0\n        ],\n        \"semantic_type\": \"\",\n        \"description\": \"\"\n      }\n    },\n    {\n      \"column\": \"Fuel Cost/Year\",\n      \"properties\": {\n        \"dtype\": \"number\",\n        \"std\": 12098.505865618032,\n        \"min\": 506.9586274178211,\n        \"max\": 35952.0,\n        \"num_unique_values\": 8,\n        \"samples\": [\n          1892.5984646194927,\n          1850.0,\n          35952.0\n        ],\n        \"semantic_type\": \"\",\n        \"description\": \"\"\n      }\n    }\n  ]\n}"
            }
          },
          "metadata": {},
          "execution_count": 12
        }
      ]
    },
    {
      "cell_type": "markdown",
      "source": [
        "##### 2.4.  [**.head()**](https://pandas.pydata.org/docs/reference/api/pandas.DataFrame.head.html) and [**.tail()**](https://pandas.pydata.org/docs/reference/api/pandas.DataFrame.tail.html)\n",
        "Use these methods to see the first or last rows, respectively, of `df`:"
      ],
      "metadata": {
        "id": "5B6ZrO2UfwD_"
      }
    },
    {
      "cell_type": "code",
      "source": [
        "df.head()   # without an argument, 5 rows will be returned"
      ],
      "metadata": {
        "colab": {
          "base_uri": "https://localhost:8080/",
          "height": 486
        },
        "id": "SxsjvqXBfvdM",
        "outputId": "2f584207-d8ee-4c56-b6d4-c72975338ada"
      },
      "execution_count": null,
      "outputs": [
        {
          "output_type": "execute_result",
          "data": {
            "text/plain": [
              "               Make                Model  Year  Engine Displacement  \\\n",
              "0        AM General    DJ Po Vehicle 2WD  1984                  2.5   \n",
              "1        AM General     FJ8c Post Office  1984                  4.2   \n",
              "2        AM General  Post Office DJ5 2WD  1985                  2.5   \n",
              "3        AM General  Post Office DJ8 2WD  1985                  4.2   \n",
              "4  ASC Incorporated                  GNX  1987                  3.8   \n",
              "\n",
              "   Cylinders     Transmission        Drivetrain                Vehicle Class  \\\n",
              "0        4.0  Automatic 3-spd     2-Wheel Drive  Special Purpose Vehicle 2WD   \n",
              "1        6.0  Automatic 3-spd     2-Wheel Drive  Special Purpose Vehicle 2WD   \n",
              "2        4.0  Automatic 3-spd  Rear-Wheel Drive  Special Purpose Vehicle 2WD   \n",
              "3        6.0  Automatic 3-spd  Rear-Wheel Drive  Special Purpose Vehicle 2WD   \n",
              "4        6.0  Automatic 4-spd  Rear-Wheel Drive                 Midsize Cars   \n",
              "\n",
              "  Fuel Type  Fuel Barrels/Year  City MPG  Highway MPG  Combined MPG  \\\n",
              "0   Regular          19.388824        18           17            17   \n",
              "1   Regular          25.354615        13           13            13   \n",
              "2   Regular          20.600625        16           17            16   \n",
              "3   Regular          25.354615        13           13            13   \n",
              "4   Premium          20.600625        14           21            16   \n",
              "\n",
              "   CO2 Emission Grams/Mile  Fuel Cost/Year  \n",
              "0               522.764706            1950  \n",
              "1               683.615385            2550  \n",
              "2               555.437500            2100  \n",
              "3               683.615385            2550  \n",
              "4               555.437500            2550  "
            ],
            "text/html": [
              "\n",
              "  <div id=\"df-d229d43d-e240-4a2d-a614-051edb198917\" class=\"colab-df-container\">\n",
              "    <div>\n",
              "<style scoped>\n",
              "    .dataframe tbody tr th:only-of-type {\n",
              "        vertical-align: middle;\n",
              "    }\n",
              "\n",
              "    .dataframe tbody tr th {\n",
              "        vertical-align: top;\n",
              "    }\n",
              "\n",
              "    .dataframe thead th {\n",
              "        text-align: right;\n",
              "    }\n",
              "</style>\n",
              "<table border=\"1\" class=\"dataframe\">\n",
              "  <thead>\n",
              "    <tr style=\"text-align: right;\">\n",
              "      <th></th>\n",
              "      <th>Make</th>\n",
              "      <th>Model</th>\n",
              "      <th>Year</th>\n",
              "      <th>Engine Displacement</th>\n",
              "      <th>Cylinders</th>\n",
              "      <th>Transmission</th>\n",
              "      <th>Drivetrain</th>\n",
              "      <th>Vehicle Class</th>\n",
              "      <th>Fuel Type</th>\n",
              "      <th>Fuel Barrels/Year</th>\n",
              "      <th>City MPG</th>\n",
              "      <th>Highway MPG</th>\n",
              "      <th>Combined MPG</th>\n",
              "      <th>CO2 Emission Grams/Mile</th>\n",
              "      <th>Fuel Cost/Year</th>\n",
              "    </tr>\n",
              "  </thead>\n",
              "  <tbody>\n",
              "    <tr>\n",
              "      <th>0</th>\n",
              "      <td>AM General</td>\n",
              "      <td>DJ Po Vehicle 2WD</td>\n",
              "      <td>1984</td>\n",
              "      <td>2.5</td>\n",
              "      <td>4.0</td>\n",
              "      <td>Automatic 3-spd</td>\n",
              "      <td>2-Wheel Drive</td>\n",
              "      <td>Special Purpose Vehicle 2WD</td>\n",
              "      <td>Regular</td>\n",
              "      <td>19.388824</td>\n",
              "      <td>18</td>\n",
              "      <td>17</td>\n",
              "      <td>17</td>\n",
              "      <td>522.764706</td>\n",
              "      <td>1950</td>\n",
              "    </tr>\n",
              "    <tr>\n",
              "      <th>1</th>\n",
              "      <td>AM General</td>\n",
              "      <td>FJ8c Post Office</td>\n",
              "      <td>1984</td>\n",
              "      <td>4.2</td>\n",
              "      <td>6.0</td>\n",
              "      <td>Automatic 3-spd</td>\n",
              "      <td>2-Wheel Drive</td>\n",
              "      <td>Special Purpose Vehicle 2WD</td>\n",
              "      <td>Regular</td>\n",
              "      <td>25.354615</td>\n",
              "      <td>13</td>\n",
              "      <td>13</td>\n",
              "      <td>13</td>\n",
              "      <td>683.615385</td>\n",
              "      <td>2550</td>\n",
              "    </tr>\n",
              "    <tr>\n",
              "      <th>2</th>\n",
              "      <td>AM General</td>\n",
              "      <td>Post Office DJ5 2WD</td>\n",
              "      <td>1985</td>\n",
              "      <td>2.5</td>\n",
              "      <td>4.0</td>\n",
              "      <td>Automatic 3-spd</td>\n",
              "      <td>Rear-Wheel Drive</td>\n",
              "      <td>Special Purpose Vehicle 2WD</td>\n",
              "      <td>Regular</td>\n",
              "      <td>20.600625</td>\n",
              "      <td>16</td>\n",
              "      <td>17</td>\n",
              "      <td>16</td>\n",
              "      <td>555.437500</td>\n",
              "      <td>2100</td>\n",
              "    </tr>\n",
              "    <tr>\n",
              "      <th>3</th>\n",
              "      <td>AM General</td>\n",
              "      <td>Post Office DJ8 2WD</td>\n",
              "      <td>1985</td>\n",
              "      <td>4.2</td>\n",
              "      <td>6.0</td>\n",
              "      <td>Automatic 3-spd</td>\n",
              "      <td>Rear-Wheel Drive</td>\n",
              "      <td>Special Purpose Vehicle 2WD</td>\n",
              "      <td>Regular</td>\n",
              "      <td>25.354615</td>\n",
              "      <td>13</td>\n",
              "      <td>13</td>\n",
              "      <td>13</td>\n",
              "      <td>683.615385</td>\n",
              "      <td>2550</td>\n",
              "    </tr>\n",
              "    <tr>\n",
              "      <th>4</th>\n",
              "      <td>ASC Incorporated</td>\n",
              "      <td>GNX</td>\n",
              "      <td>1987</td>\n",
              "      <td>3.8</td>\n",
              "      <td>6.0</td>\n",
              "      <td>Automatic 4-spd</td>\n",
              "      <td>Rear-Wheel Drive</td>\n",
              "      <td>Midsize Cars</td>\n",
              "      <td>Premium</td>\n",
              "      <td>20.600625</td>\n",
              "      <td>14</td>\n",
              "      <td>21</td>\n",
              "      <td>16</td>\n",
              "      <td>555.437500</td>\n",
              "      <td>2550</td>\n",
              "    </tr>\n",
              "  </tbody>\n",
              "</table>\n",
              "</div>\n",
              "    <div class=\"colab-df-buttons\">\n",
              "\n",
              "  <div class=\"colab-df-container\">\n",
              "    <button class=\"colab-df-convert\" onclick=\"convertToInteractive('df-d229d43d-e240-4a2d-a614-051edb198917')\"\n",
              "            title=\"Convert this dataframe to an interactive table.\"\n",
              "            style=\"display:none;\">\n",
              "\n",
              "  <svg xmlns=\"http://www.w3.org/2000/svg\" height=\"24px\" viewBox=\"0 -960 960 960\">\n",
              "    <path d=\"M120-120v-720h720v720H120Zm60-500h600v-160H180v160Zm220 220h160v-160H400v160Zm0 220h160v-160H400v160ZM180-400h160v-160H180v160Zm440 0h160v-160H620v160ZM180-180h160v-160H180v160Zm440 0h160v-160H620v160Z\"/>\n",
              "  </svg>\n",
              "    </button>\n",
              "\n",
              "  <style>\n",
              "    .colab-df-container {\n",
              "      display:flex;\n",
              "      gap: 12px;\n",
              "    }\n",
              "\n",
              "    .colab-df-convert {\n",
              "      background-color: #E8F0FE;\n",
              "      border: none;\n",
              "      border-radius: 50%;\n",
              "      cursor: pointer;\n",
              "      display: none;\n",
              "      fill: #1967D2;\n",
              "      height: 32px;\n",
              "      padding: 0 0 0 0;\n",
              "      width: 32px;\n",
              "    }\n",
              "\n",
              "    .colab-df-convert:hover {\n",
              "      background-color: #E2EBFA;\n",
              "      box-shadow: 0px 1px 2px rgba(60, 64, 67, 0.3), 0px 1px 3px 1px rgba(60, 64, 67, 0.15);\n",
              "      fill: #174EA6;\n",
              "    }\n",
              "\n",
              "    .colab-df-buttons div {\n",
              "      margin-bottom: 4px;\n",
              "    }\n",
              "\n",
              "    [theme=dark] .colab-df-convert {\n",
              "      background-color: #3B4455;\n",
              "      fill: #D2E3FC;\n",
              "    }\n",
              "\n",
              "    [theme=dark] .colab-df-convert:hover {\n",
              "      background-color: #434B5C;\n",
              "      box-shadow: 0px 1px 3px 1px rgba(0, 0, 0, 0.15);\n",
              "      filter: drop-shadow(0px 1px 2px rgba(0, 0, 0, 0.3));\n",
              "      fill: #FFFFFF;\n",
              "    }\n",
              "  </style>\n",
              "\n",
              "    <script>\n",
              "      const buttonEl =\n",
              "        document.querySelector('#df-d229d43d-e240-4a2d-a614-051edb198917 button.colab-df-convert');\n",
              "      buttonEl.style.display =\n",
              "        google.colab.kernel.accessAllowed ? 'block' : 'none';\n",
              "\n",
              "      async function convertToInteractive(key) {\n",
              "        const element = document.querySelector('#df-d229d43d-e240-4a2d-a614-051edb198917');\n",
              "        const dataTable =\n",
              "          await google.colab.kernel.invokeFunction('convertToInteractive',\n",
              "                                                    [key], {});\n",
              "        if (!dataTable) return;\n",
              "\n",
              "        const docLinkHtml = 'Like what you see? Visit the ' +\n",
              "          '<a target=\"_blank\" href=https://colab.research.google.com/notebooks/data_table.ipynb>data table notebook</a>'\n",
              "          + ' to learn more about interactive tables.';\n",
              "        element.innerHTML = '';\n",
              "        dataTable['output_type'] = 'display_data';\n",
              "        await google.colab.output.renderOutput(dataTable, element);\n",
              "        const docLink = document.createElement('div');\n",
              "        docLink.innerHTML = docLinkHtml;\n",
              "        element.appendChild(docLink);\n",
              "      }\n",
              "    </script>\n",
              "  </div>\n",
              "\n",
              "\n",
              "<div id=\"df-1ef46fd7-9093-48ab-84d9-373dab104269\">\n",
              "  <button class=\"colab-df-quickchart\" onclick=\"quickchart('df-1ef46fd7-9093-48ab-84d9-373dab104269')\"\n",
              "            title=\"Suggest charts\"\n",
              "            style=\"display:none;\">\n",
              "\n",
              "<svg xmlns=\"http://www.w3.org/2000/svg\" height=\"24px\"viewBox=\"0 0 24 24\"\n",
              "     width=\"24px\">\n",
              "    <g>\n",
              "        <path d=\"M19 3H5c-1.1 0-2 .9-2 2v14c0 1.1.9 2 2 2h14c1.1 0 2-.9 2-2V5c0-1.1-.9-2-2-2zM9 17H7v-7h2v7zm4 0h-2V7h2v10zm4 0h-2v-4h2v4z\"/>\n",
              "    </g>\n",
              "</svg>\n",
              "  </button>\n",
              "\n",
              "<style>\n",
              "  .colab-df-quickchart {\n",
              "      --bg-color: #E8F0FE;\n",
              "      --fill-color: #1967D2;\n",
              "      --hover-bg-color: #E2EBFA;\n",
              "      --hover-fill-color: #174EA6;\n",
              "      --disabled-fill-color: #AAA;\n",
              "      --disabled-bg-color: #DDD;\n",
              "  }\n",
              "\n",
              "  [theme=dark] .colab-df-quickchart {\n",
              "      --bg-color: #3B4455;\n",
              "      --fill-color: #D2E3FC;\n",
              "      --hover-bg-color: #434B5C;\n",
              "      --hover-fill-color: #FFFFFF;\n",
              "      --disabled-bg-color: #3B4455;\n",
              "      --disabled-fill-color: #666;\n",
              "  }\n",
              "\n",
              "  .colab-df-quickchart {\n",
              "    background-color: var(--bg-color);\n",
              "    border: none;\n",
              "    border-radius: 50%;\n",
              "    cursor: pointer;\n",
              "    display: none;\n",
              "    fill: var(--fill-color);\n",
              "    height: 32px;\n",
              "    padding: 0;\n",
              "    width: 32px;\n",
              "  }\n",
              "\n",
              "  .colab-df-quickchart:hover {\n",
              "    background-color: var(--hover-bg-color);\n",
              "    box-shadow: 0 1px 2px rgba(60, 64, 67, 0.3), 0 1px 3px 1px rgba(60, 64, 67, 0.15);\n",
              "    fill: var(--button-hover-fill-color);\n",
              "  }\n",
              "\n",
              "  .colab-df-quickchart-complete:disabled,\n",
              "  .colab-df-quickchart-complete:disabled:hover {\n",
              "    background-color: var(--disabled-bg-color);\n",
              "    fill: var(--disabled-fill-color);\n",
              "    box-shadow: none;\n",
              "  }\n",
              "\n",
              "  .colab-df-spinner {\n",
              "    border: 2px solid var(--fill-color);\n",
              "    border-color: transparent;\n",
              "    border-bottom-color: var(--fill-color);\n",
              "    animation:\n",
              "      spin 1s steps(1) infinite;\n",
              "  }\n",
              "\n",
              "  @keyframes spin {\n",
              "    0% {\n",
              "      border-color: transparent;\n",
              "      border-bottom-color: var(--fill-color);\n",
              "      border-left-color: var(--fill-color);\n",
              "    }\n",
              "    20% {\n",
              "      border-color: transparent;\n",
              "      border-left-color: var(--fill-color);\n",
              "      border-top-color: var(--fill-color);\n",
              "    }\n",
              "    30% {\n",
              "      border-color: transparent;\n",
              "      border-left-color: var(--fill-color);\n",
              "      border-top-color: var(--fill-color);\n",
              "      border-right-color: var(--fill-color);\n",
              "    }\n",
              "    40% {\n",
              "      border-color: transparent;\n",
              "      border-right-color: var(--fill-color);\n",
              "      border-top-color: var(--fill-color);\n",
              "    }\n",
              "    60% {\n",
              "      border-color: transparent;\n",
              "      border-right-color: var(--fill-color);\n",
              "    }\n",
              "    80% {\n",
              "      border-color: transparent;\n",
              "      border-right-color: var(--fill-color);\n",
              "      border-bottom-color: var(--fill-color);\n",
              "    }\n",
              "    90% {\n",
              "      border-color: transparent;\n",
              "      border-bottom-color: var(--fill-color);\n",
              "    }\n",
              "  }\n",
              "</style>\n",
              "\n",
              "  <script>\n",
              "    async function quickchart(key) {\n",
              "      const quickchartButtonEl =\n",
              "        document.querySelector('#' + key + ' button');\n",
              "      quickchartButtonEl.disabled = true;  // To prevent multiple clicks.\n",
              "      quickchartButtonEl.classList.add('colab-df-spinner');\n",
              "      try {\n",
              "        const charts = await google.colab.kernel.invokeFunction(\n",
              "            'suggestCharts', [key], {});\n",
              "      } catch (error) {\n",
              "        console.error('Error during call to suggestCharts:', error);\n",
              "      }\n",
              "      quickchartButtonEl.classList.remove('colab-df-spinner');\n",
              "      quickchartButtonEl.classList.add('colab-df-quickchart-complete');\n",
              "    }\n",
              "    (() => {\n",
              "      let quickchartButtonEl =\n",
              "        document.querySelector('#df-1ef46fd7-9093-48ab-84d9-373dab104269 button');\n",
              "      quickchartButtonEl.style.display =\n",
              "        google.colab.kernel.accessAllowed ? 'block' : 'none';\n",
              "    })();\n",
              "  </script>\n",
              "</div>\n",
              "    </div>\n",
              "  </div>\n"
            ],
            "application/vnd.google.colaboratory.intrinsic+json": {
              "type": "dataframe",
              "variable_name": "df",
              "summary": "{\n  \"name\": \"df\",\n  \"rows\": 35952,\n  \"fields\": [\n    {\n      \"column\": \"Make\",\n      \"properties\": {\n        \"dtype\": \"category\",\n        \"num_unique_values\": 127,\n        \"samples\": [\n          \"Daihatsu\",\n          \"Subaru\",\n          \"Oldsmobile\"\n        ],\n        \"semantic_type\": \"\",\n        \"description\": \"\"\n      }\n    },\n    {\n      \"column\": \"Model\",\n      \"properties\": {\n        \"dtype\": \"category\",\n        \"num_unique_values\": 3608,\n        \"samples\": [\n          \"Panamera Turbo S\",\n          \"62 S\",\n          \"LS 400\"\n        ],\n        \"semantic_type\": \"\",\n        \"description\": \"\"\n      }\n    },\n    {\n      \"column\": \"Year\",\n      \"properties\": {\n        \"dtype\": \"number\",\n        \"std\": 10,\n        \"min\": 1984,\n        \"max\": 2017,\n        \"num_unique_values\": 34,\n        \"samples\": [\n          2015,\n          1988,\n          2006\n        ],\n        \"semantic_type\": \"\",\n        \"description\": \"\"\n      }\n    },\n    {\n      \"column\": \"Engine Displacement\",\n      \"properties\": {\n        \"dtype\": \"number\",\n        \"std\": 1.359395386286269,\n        \"min\": 0.6,\n        \"max\": 8.4,\n        \"num_unique_values\": 65,\n        \"samples\": [\n          1.3,\n          5.5,\n          2.5\n        ],\n        \"semantic_type\": \"\",\n        \"description\": \"\"\n      }\n    },\n    {\n      \"column\": \"Cylinders\",\n      \"properties\": {\n        \"dtype\": \"number\",\n        \"std\": 1.7552682317646655,\n        \"min\": 2.0,\n        \"max\": 16.0,\n        \"num_unique_values\": 9,\n        \"samples\": [\n          3.0,\n          6.0,\n          10.0\n        ],\n        \"semantic_type\": \"\",\n        \"description\": \"\"\n      }\n    },\n    {\n      \"column\": \"Transmission\",\n      \"properties\": {\n        \"dtype\": \"category\",\n        \"num_unique_values\": 45,\n        \"samples\": [\n          \"Auto (AV-S8)\",\n          \"Automatic (AM6)\",\n          \"Automatic 8-spd\"\n        ],\n        \"semantic_type\": \"\",\n        \"description\": \"\"\n      }\n    },\n    {\n      \"column\": \"Drivetrain\",\n      \"properties\": {\n        \"dtype\": \"category\",\n        \"num_unique_values\": 8,\n        \"samples\": [\n          \"Rear-Wheel Drive\",\n          \"4-Wheel Drive\",\n          \"2-Wheel Drive\"\n        ],\n        \"semantic_type\": \"\",\n        \"description\": \"\"\n      }\n    },\n    {\n      \"column\": \"Vehicle Class\",\n      \"properties\": {\n        \"dtype\": \"category\",\n        \"num_unique_values\": 34,\n        \"samples\": [\n          \"Large Cars\",\n          \"Minivan - 2WD\",\n          \"Standard Pickup Trucks 4WD\"\n        ],\n        \"semantic_type\": \"\",\n        \"description\": \"\"\n      }\n    },\n    {\n      \"column\": \"Fuel Type\",\n      \"properties\": {\n        \"dtype\": \"category\",\n        \"num_unique_values\": 13,\n        \"samples\": [\n          \"Regular Gas and Electricity\",\n          \"Regular Gas or Electricity\",\n          \"Regular\"\n        ],\n        \"semantic_type\": \"\",\n        \"description\": \"\"\n      }\n    },\n    {\n      \"column\": \"Fuel Barrels/Year\",\n      \"properties\": {\n        \"dtype\": \"number\",\n        \"std\": 4.467282686296915,\n        \"min\": 0.06,\n        \"max\": 47.08714285714285,\n        \"num_unique_values\": 123,\n        \"samples\": [\n          27.4675,\n          7.356924277610839,\n          18.19928571428572\n        ],\n        \"semantic_type\": \"\",\n        \"description\": \"\"\n      }\n    },\n    {\n      \"column\": \"City MPG\",\n      \"properties\": {\n        \"dtype\": \"number\",\n        \"std\": 4,\n        \"min\": 6,\n        \"max\": 58,\n        \"num_unique_values\": 48,\n        \"samples\": [\n          32,\n          50,\n          27\n        ],\n        \"semantic_type\": \"\",\n        \"description\": \"\"\n      }\n    },\n    {\n      \"column\": \"Highway MPG\",\n      \"properties\": {\n        \"dtype\": \"number\",\n        \"std\": 5,\n        \"min\": 9,\n        \"max\": 61,\n        \"num_unique_values\": 49,\n        \"samples\": [\n          38,\n          61,\n          59\n        ],\n        \"semantic_type\": \"\",\n        \"description\": \"\"\n      }\n    },\n    {\n      \"column\": \"Combined MPG\",\n      \"properties\": {\n        \"dtype\": \"number\",\n        \"std\": 5,\n        \"min\": 7,\n        \"max\": 56,\n        \"num_unique_values\": 46,\n        \"samples\": [\n          44,\n          35,\n          39\n        ],\n        \"semantic_type\": \"\",\n        \"description\": \"\"\n      }\n    },\n    {\n      \"column\": \"CO2 Emission Grams/Mile\",\n      \"properties\": {\n        \"dtype\": \"number\",\n        \"std\": 119.06077323592496,\n        \"min\": 37.0,\n        \"max\": 1269.571428571429,\n        \"num_unique_values\": 575,\n        \"samples\": [\n          299.0,\n          538.0,\n          407.0\n        ],\n        \"semantic_type\": \"\",\n        \"description\": \"\"\n      }\n    },\n    {\n      \"column\": \"Fuel Cost/Year\",\n      \"properties\": {\n        \"dtype\": \"number\",\n        \"std\": 506,\n        \"min\": 600,\n        \"max\": 5800,\n        \"num_unique_values\": 55,\n        \"samples\": [\n          4050,\n          1650,\n          1100\n        ],\n        \"semantic_type\": \"\",\n        \"description\": \"\"\n      }\n    }\n  ]\n}"
            }
          },
          "metadata": {},
          "execution_count": 13
        }
      ]
    },
    {
      "cell_type": "code",
      "source": [
        "df.tail()"
      ],
      "metadata": {
        "colab": {
          "base_uri": "https://localhost:8080/",
          "height": 347
        },
        "id": "etom1Rzu8jUL",
        "outputId": "42425c0d-4f34-4a2b-8b92-8f628257f534"
      },
      "execution_count": null,
      "outputs": [
        {
          "output_type": "execute_result",
          "data": {
            "text/plain": [
              "        Make         Model  Year  Engine Displacement  Cylinders  \\\n",
              "35947  smart  fortwo coupe  2013                  1.0        3.0   \n",
              "35948  smart  fortwo coupe  2014                  1.0        3.0   \n",
              "35949  smart  fortwo coupe  2015                  1.0        3.0   \n",
              "35950  smart  fortwo coupe  2016                  0.9        3.0   \n",
              "35951  smart  fortwo coupe  2016                  0.9        3.0   \n",
              "\n",
              "       Transmission        Drivetrain Vehicle Class Fuel Type  \\\n",
              "35947     Auto(AM5)  Rear-Wheel Drive   Two Seaters   Premium   \n",
              "35948     Auto(AM5)  Rear-Wheel Drive   Two Seaters   Premium   \n",
              "35949     Auto(AM5)  Rear-Wheel Drive   Two Seaters   Premium   \n",
              "35950     Auto(AM6)  Rear-Wheel Drive   Two Seaters   Premium   \n",
              "35951  Manual 5-spd  Rear-Wheel Drive   Two Seaters   Premium   \n",
              "\n",
              "       Fuel Barrels/Year  City MPG  Highway MPG  Combined MPG  \\\n",
              "35947           9.155833        34           38            36   \n",
              "35948           9.155833        34           38            36   \n",
              "35949           9.155833        34           38            36   \n",
              "35950           9.155833        34           39            36   \n",
              "35951           9.417429        32           39            35   \n",
              "\n",
              "       CO2 Emission Grams/Mile  Fuel Cost/Year  \n",
              "35947                    244.0            1100  \n",
              "35948                    243.0            1100  \n",
              "35949                    244.0            1100  \n",
              "35950                    246.0            1100  \n",
              "35951                    255.0            1150  "
            ],
            "text/html": [
              "\n",
              "  <div id=\"df-cfadf515-c492-43f5-8427-929ad9643c69\" class=\"colab-df-container\">\n",
              "    <div>\n",
              "<style scoped>\n",
              "    .dataframe tbody tr th:only-of-type {\n",
              "        vertical-align: middle;\n",
              "    }\n",
              "\n",
              "    .dataframe tbody tr th {\n",
              "        vertical-align: top;\n",
              "    }\n",
              "\n",
              "    .dataframe thead th {\n",
              "        text-align: right;\n",
              "    }\n",
              "</style>\n",
              "<table border=\"1\" class=\"dataframe\">\n",
              "  <thead>\n",
              "    <tr style=\"text-align: right;\">\n",
              "      <th></th>\n",
              "      <th>Make</th>\n",
              "      <th>Model</th>\n",
              "      <th>Year</th>\n",
              "      <th>Engine Displacement</th>\n",
              "      <th>Cylinders</th>\n",
              "      <th>Transmission</th>\n",
              "      <th>Drivetrain</th>\n",
              "      <th>Vehicle Class</th>\n",
              "      <th>Fuel Type</th>\n",
              "      <th>Fuel Barrels/Year</th>\n",
              "      <th>City MPG</th>\n",
              "      <th>Highway MPG</th>\n",
              "      <th>Combined MPG</th>\n",
              "      <th>CO2 Emission Grams/Mile</th>\n",
              "      <th>Fuel Cost/Year</th>\n",
              "    </tr>\n",
              "  </thead>\n",
              "  <tbody>\n",
              "    <tr>\n",
              "      <th>35947</th>\n",
              "      <td>smart</td>\n",
              "      <td>fortwo coupe</td>\n",
              "      <td>2013</td>\n",
              "      <td>1.0</td>\n",
              "      <td>3.0</td>\n",
              "      <td>Auto(AM5)</td>\n",
              "      <td>Rear-Wheel Drive</td>\n",
              "      <td>Two Seaters</td>\n",
              "      <td>Premium</td>\n",
              "      <td>9.155833</td>\n",
              "      <td>34</td>\n",
              "      <td>38</td>\n",
              "      <td>36</td>\n",
              "      <td>244.0</td>\n",
              "      <td>1100</td>\n",
              "    </tr>\n",
              "    <tr>\n",
              "      <th>35948</th>\n",
              "      <td>smart</td>\n",
              "      <td>fortwo coupe</td>\n",
              "      <td>2014</td>\n",
              "      <td>1.0</td>\n",
              "      <td>3.0</td>\n",
              "      <td>Auto(AM5)</td>\n",
              "      <td>Rear-Wheel Drive</td>\n",
              "      <td>Two Seaters</td>\n",
              "      <td>Premium</td>\n",
              "      <td>9.155833</td>\n",
              "      <td>34</td>\n",
              "      <td>38</td>\n",
              "      <td>36</td>\n",
              "      <td>243.0</td>\n",
              "      <td>1100</td>\n",
              "    </tr>\n",
              "    <tr>\n",
              "      <th>35949</th>\n",
              "      <td>smart</td>\n",
              "      <td>fortwo coupe</td>\n",
              "      <td>2015</td>\n",
              "      <td>1.0</td>\n",
              "      <td>3.0</td>\n",
              "      <td>Auto(AM5)</td>\n",
              "      <td>Rear-Wheel Drive</td>\n",
              "      <td>Two Seaters</td>\n",
              "      <td>Premium</td>\n",
              "      <td>9.155833</td>\n",
              "      <td>34</td>\n",
              "      <td>38</td>\n",
              "      <td>36</td>\n",
              "      <td>244.0</td>\n",
              "      <td>1100</td>\n",
              "    </tr>\n",
              "    <tr>\n",
              "      <th>35950</th>\n",
              "      <td>smart</td>\n",
              "      <td>fortwo coupe</td>\n",
              "      <td>2016</td>\n",
              "      <td>0.9</td>\n",
              "      <td>3.0</td>\n",
              "      <td>Auto(AM6)</td>\n",
              "      <td>Rear-Wheel Drive</td>\n",
              "      <td>Two Seaters</td>\n",
              "      <td>Premium</td>\n",
              "      <td>9.155833</td>\n",
              "      <td>34</td>\n",
              "      <td>39</td>\n",
              "      <td>36</td>\n",
              "      <td>246.0</td>\n",
              "      <td>1100</td>\n",
              "    </tr>\n",
              "    <tr>\n",
              "      <th>35951</th>\n",
              "      <td>smart</td>\n",
              "      <td>fortwo coupe</td>\n",
              "      <td>2016</td>\n",
              "      <td>0.9</td>\n",
              "      <td>3.0</td>\n",
              "      <td>Manual 5-spd</td>\n",
              "      <td>Rear-Wheel Drive</td>\n",
              "      <td>Two Seaters</td>\n",
              "      <td>Premium</td>\n",
              "      <td>9.417429</td>\n",
              "      <td>32</td>\n",
              "      <td>39</td>\n",
              "      <td>35</td>\n",
              "      <td>255.0</td>\n",
              "      <td>1150</td>\n",
              "    </tr>\n",
              "  </tbody>\n",
              "</table>\n",
              "</div>\n",
              "    <div class=\"colab-df-buttons\">\n",
              "\n",
              "  <div class=\"colab-df-container\">\n",
              "    <button class=\"colab-df-convert\" onclick=\"convertToInteractive('df-cfadf515-c492-43f5-8427-929ad9643c69')\"\n",
              "            title=\"Convert this dataframe to an interactive table.\"\n",
              "            style=\"display:none;\">\n",
              "\n",
              "  <svg xmlns=\"http://www.w3.org/2000/svg\" height=\"24px\" viewBox=\"0 -960 960 960\">\n",
              "    <path d=\"M120-120v-720h720v720H120Zm60-500h600v-160H180v160Zm220 220h160v-160H400v160Zm0 220h160v-160H400v160ZM180-400h160v-160H180v160Zm440 0h160v-160H620v160ZM180-180h160v-160H180v160Zm440 0h160v-160H620v160Z\"/>\n",
              "  </svg>\n",
              "    </button>\n",
              "\n",
              "  <style>\n",
              "    .colab-df-container {\n",
              "      display:flex;\n",
              "      gap: 12px;\n",
              "    }\n",
              "\n",
              "    .colab-df-convert {\n",
              "      background-color: #E8F0FE;\n",
              "      border: none;\n",
              "      border-radius: 50%;\n",
              "      cursor: pointer;\n",
              "      display: none;\n",
              "      fill: #1967D2;\n",
              "      height: 32px;\n",
              "      padding: 0 0 0 0;\n",
              "      width: 32px;\n",
              "    }\n",
              "\n",
              "    .colab-df-convert:hover {\n",
              "      background-color: #E2EBFA;\n",
              "      box-shadow: 0px 1px 2px rgba(60, 64, 67, 0.3), 0px 1px 3px 1px rgba(60, 64, 67, 0.15);\n",
              "      fill: #174EA6;\n",
              "    }\n",
              "\n",
              "    .colab-df-buttons div {\n",
              "      margin-bottom: 4px;\n",
              "    }\n",
              "\n",
              "    [theme=dark] .colab-df-convert {\n",
              "      background-color: #3B4455;\n",
              "      fill: #D2E3FC;\n",
              "    }\n",
              "\n",
              "    [theme=dark] .colab-df-convert:hover {\n",
              "      background-color: #434B5C;\n",
              "      box-shadow: 0px 1px 3px 1px rgba(0, 0, 0, 0.15);\n",
              "      filter: drop-shadow(0px 1px 2px rgba(0, 0, 0, 0.3));\n",
              "      fill: #FFFFFF;\n",
              "    }\n",
              "  </style>\n",
              "\n",
              "    <script>\n",
              "      const buttonEl =\n",
              "        document.querySelector('#df-cfadf515-c492-43f5-8427-929ad9643c69 button.colab-df-convert');\n",
              "      buttonEl.style.display =\n",
              "        google.colab.kernel.accessAllowed ? 'block' : 'none';\n",
              "\n",
              "      async function convertToInteractive(key) {\n",
              "        const element = document.querySelector('#df-cfadf515-c492-43f5-8427-929ad9643c69');\n",
              "        const dataTable =\n",
              "          await google.colab.kernel.invokeFunction('convertToInteractive',\n",
              "                                                    [key], {});\n",
              "        if (!dataTable) return;\n",
              "\n",
              "        const docLinkHtml = 'Like what you see? Visit the ' +\n",
              "          '<a target=\"_blank\" href=https://colab.research.google.com/notebooks/data_table.ipynb>data table notebook</a>'\n",
              "          + ' to learn more about interactive tables.';\n",
              "        element.innerHTML = '';\n",
              "        dataTable['output_type'] = 'display_data';\n",
              "        await google.colab.output.renderOutput(dataTable, element);\n",
              "        const docLink = document.createElement('div');\n",
              "        docLink.innerHTML = docLinkHtml;\n",
              "        element.appendChild(docLink);\n",
              "      }\n",
              "    </script>\n",
              "  </div>\n",
              "\n",
              "\n",
              "<div id=\"df-59b15094-1068-43c6-a722-214af5e89fbe\">\n",
              "  <button class=\"colab-df-quickchart\" onclick=\"quickchart('df-59b15094-1068-43c6-a722-214af5e89fbe')\"\n",
              "            title=\"Suggest charts\"\n",
              "            style=\"display:none;\">\n",
              "\n",
              "<svg xmlns=\"http://www.w3.org/2000/svg\" height=\"24px\"viewBox=\"0 0 24 24\"\n",
              "     width=\"24px\">\n",
              "    <g>\n",
              "        <path d=\"M19 3H5c-1.1 0-2 .9-2 2v14c0 1.1.9 2 2 2h14c1.1 0 2-.9 2-2V5c0-1.1-.9-2-2-2zM9 17H7v-7h2v7zm4 0h-2V7h2v10zm4 0h-2v-4h2v4z\"/>\n",
              "    </g>\n",
              "</svg>\n",
              "  </button>\n",
              "\n",
              "<style>\n",
              "  .colab-df-quickchart {\n",
              "      --bg-color: #E8F0FE;\n",
              "      --fill-color: #1967D2;\n",
              "      --hover-bg-color: #E2EBFA;\n",
              "      --hover-fill-color: #174EA6;\n",
              "      --disabled-fill-color: #AAA;\n",
              "      --disabled-bg-color: #DDD;\n",
              "  }\n",
              "\n",
              "  [theme=dark] .colab-df-quickchart {\n",
              "      --bg-color: #3B4455;\n",
              "      --fill-color: #D2E3FC;\n",
              "      --hover-bg-color: #434B5C;\n",
              "      --hover-fill-color: #FFFFFF;\n",
              "      --disabled-bg-color: #3B4455;\n",
              "      --disabled-fill-color: #666;\n",
              "  }\n",
              "\n",
              "  .colab-df-quickchart {\n",
              "    background-color: var(--bg-color);\n",
              "    border: none;\n",
              "    border-radius: 50%;\n",
              "    cursor: pointer;\n",
              "    display: none;\n",
              "    fill: var(--fill-color);\n",
              "    height: 32px;\n",
              "    padding: 0;\n",
              "    width: 32px;\n",
              "  }\n",
              "\n",
              "  .colab-df-quickchart:hover {\n",
              "    background-color: var(--hover-bg-color);\n",
              "    box-shadow: 0 1px 2px rgba(60, 64, 67, 0.3), 0 1px 3px 1px rgba(60, 64, 67, 0.15);\n",
              "    fill: var(--button-hover-fill-color);\n",
              "  }\n",
              "\n",
              "  .colab-df-quickchart-complete:disabled,\n",
              "  .colab-df-quickchart-complete:disabled:hover {\n",
              "    background-color: var(--disabled-bg-color);\n",
              "    fill: var(--disabled-fill-color);\n",
              "    box-shadow: none;\n",
              "  }\n",
              "\n",
              "  .colab-df-spinner {\n",
              "    border: 2px solid var(--fill-color);\n",
              "    border-color: transparent;\n",
              "    border-bottom-color: var(--fill-color);\n",
              "    animation:\n",
              "      spin 1s steps(1) infinite;\n",
              "  }\n",
              "\n",
              "  @keyframes spin {\n",
              "    0% {\n",
              "      border-color: transparent;\n",
              "      border-bottom-color: var(--fill-color);\n",
              "      border-left-color: var(--fill-color);\n",
              "    }\n",
              "    20% {\n",
              "      border-color: transparent;\n",
              "      border-left-color: var(--fill-color);\n",
              "      border-top-color: var(--fill-color);\n",
              "    }\n",
              "    30% {\n",
              "      border-color: transparent;\n",
              "      border-left-color: var(--fill-color);\n",
              "      border-top-color: var(--fill-color);\n",
              "      border-right-color: var(--fill-color);\n",
              "    }\n",
              "    40% {\n",
              "      border-color: transparent;\n",
              "      border-right-color: var(--fill-color);\n",
              "      border-top-color: var(--fill-color);\n",
              "    }\n",
              "    60% {\n",
              "      border-color: transparent;\n",
              "      border-right-color: var(--fill-color);\n",
              "    }\n",
              "    80% {\n",
              "      border-color: transparent;\n",
              "      border-right-color: var(--fill-color);\n",
              "      border-bottom-color: var(--fill-color);\n",
              "    }\n",
              "    90% {\n",
              "      border-color: transparent;\n",
              "      border-bottom-color: var(--fill-color);\n",
              "    }\n",
              "  }\n",
              "</style>\n",
              "\n",
              "  <script>\n",
              "    async function quickchart(key) {\n",
              "      const quickchartButtonEl =\n",
              "        document.querySelector('#' + key + ' button');\n",
              "      quickchartButtonEl.disabled = true;  // To prevent multiple clicks.\n",
              "      quickchartButtonEl.classList.add('colab-df-spinner');\n",
              "      try {\n",
              "        const charts = await google.colab.kernel.invokeFunction(\n",
              "            'suggestCharts', [key], {});\n",
              "      } catch (error) {\n",
              "        console.error('Error during call to suggestCharts:', error);\n",
              "      }\n",
              "      quickchartButtonEl.classList.remove('colab-df-spinner');\n",
              "      quickchartButtonEl.classList.add('colab-df-quickchart-complete');\n",
              "    }\n",
              "    (() => {\n",
              "      let quickchartButtonEl =\n",
              "        document.querySelector('#df-59b15094-1068-43c6-a722-214af5e89fbe button');\n",
              "      quickchartButtonEl.style.display =\n",
              "        google.colab.kernel.accessAllowed ? 'block' : 'none';\n",
              "    })();\n",
              "  </script>\n",
              "</div>\n",
              "    </div>\n",
              "  </div>\n"
            ],
            "application/vnd.google.colaboratory.intrinsic+json": {
              "type": "dataframe",
              "summary": "{\n  \"name\": \"df\",\n  \"rows\": 5,\n  \"fields\": [\n    {\n      \"column\": \"Make\",\n      \"properties\": {\n        \"dtype\": \"category\",\n        \"num_unique_values\": 1,\n        \"samples\": [\n          \"smart\"\n        ],\n        \"semantic_type\": \"\",\n        \"description\": \"\"\n      }\n    },\n    {\n      \"column\": \"Model\",\n      \"properties\": {\n        \"dtype\": \"category\",\n        \"num_unique_values\": 1,\n        \"samples\": [\n          \"fortwo coupe\"\n        ],\n        \"semantic_type\": \"\",\n        \"description\": \"\"\n      }\n    },\n    {\n      \"column\": \"Year\",\n      \"properties\": {\n        \"dtype\": \"number\",\n        \"std\": 1,\n        \"min\": 2013,\n        \"max\": 2016,\n        \"num_unique_values\": 4,\n        \"samples\": [\n          2014\n        ],\n        \"semantic_type\": \"\",\n        \"description\": \"\"\n      }\n    },\n    {\n      \"column\": \"Engine Displacement\",\n      \"properties\": {\n        \"dtype\": \"number\",\n        \"std\": 0.0547722557505166,\n        \"min\": 0.9,\n        \"max\": 1.0,\n        \"num_unique_values\": 2,\n        \"samples\": [\n          0.9\n        ],\n        \"semantic_type\": \"\",\n        \"description\": \"\"\n      }\n    },\n    {\n      \"column\": \"Cylinders\",\n      \"properties\": {\n        \"dtype\": \"number\",\n        \"std\": 0.0,\n        \"min\": 3.0,\n        \"max\": 3.0,\n        \"num_unique_values\": 1,\n        \"samples\": [\n          3.0\n        ],\n        \"semantic_type\": \"\",\n        \"description\": \"\"\n      }\n    },\n    {\n      \"column\": \"Transmission\",\n      \"properties\": {\n        \"dtype\": \"string\",\n        \"num_unique_values\": 3,\n        \"samples\": [\n          \"Auto(AM5)\"\n        ],\n        \"semantic_type\": \"\",\n        \"description\": \"\"\n      }\n    },\n    {\n      \"column\": \"Drivetrain\",\n      \"properties\": {\n        \"dtype\": \"category\",\n        \"num_unique_values\": 1,\n        \"samples\": [\n          \"Rear-Wheel Drive\"\n        ],\n        \"semantic_type\": \"\",\n        \"description\": \"\"\n      }\n    },\n    {\n      \"column\": \"Vehicle Class\",\n      \"properties\": {\n        \"dtype\": \"category\",\n        \"num_unique_values\": 1,\n        \"samples\": [\n          \"Two Seaters\"\n        ],\n        \"semantic_type\": \"\",\n        \"description\": \"\"\n      }\n    },\n    {\n      \"column\": \"Fuel Type\",\n      \"properties\": {\n        \"dtype\": \"category\",\n        \"num_unique_values\": 1,\n        \"samples\": [\n          \"Premium\"\n        ],\n        \"semantic_type\": \"\",\n        \"description\": \"\"\n      }\n    },\n    {\n      \"column\": \"Fuel Barrels/Year\",\n      \"properties\": {\n        \"dtype\": \"number\",\n        \"std\": 0.11698894699423876,\n        \"min\": 9.155833333333334,\n        \"max\": 9.417428571428571,\n        \"num_unique_values\": 2,\n        \"samples\": [\n          9.417428571428571\n        ],\n        \"semantic_type\": \"\",\n        \"description\": \"\"\n      }\n    },\n    {\n      \"column\": \"City MPG\",\n      \"properties\": {\n        \"dtype\": \"number\",\n        \"std\": 0,\n        \"min\": 32,\n        \"max\": 34,\n        \"num_unique_values\": 2,\n        \"samples\": [\n          32\n        ],\n        \"semantic_type\": \"\",\n        \"description\": \"\"\n      }\n    },\n    {\n      \"column\": \"Highway MPG\",\n      \"properties\": {\n        \"dtype\": \"number\",\n        \"std\": 0,\n        \"min\": 38,\n        \"max\": 39,\n        \"num_unique_values\": 2,\n        \"samples\": [\n          39\n        ],\n        \"semantic_type\": \"\",\n        \"description\": \"\"\n      }\n    },\n    {\n      \"column\": \"Combined MPG\",\n      \"properties\": {\n        \"dtype\": \"number\",\n        \"std\": 0,\n        \"min\": 35,\n        \"max\": 36,\n        \"num_unique_values\": 2,\n        \"samples\": [\n          35\n        ],\n        \"semantic_type\": \"\",\n        \"description\": \"\"\n      }\n    },\n    {\n      \"column\": \"CO2 Emission Grams/Mile\",\n      \"properties\": {\n        \"dtype\": \"number\",\n        \"std\": 4.929503017546495,\n        \"min\": 243.0,\n        \"max\": 255.0,\n        \"num_unique_values\": 4,\n        \"samples\": [\n          243.0\n        ],\n        \"semantic_type\": \"\",\n        \"description\": \"\"\n      }\n    },\n    {\n      \"column\": \"Fuel Cost/Year\",\n      \"properties\": {\n        \"dtype\": \"number\",\n        \"std\": 22,\n        \"min\": 1100,\n        \"max\": 1150,\n        \"num_unique_values\": 2,\n        \"samples\": [\n          1150\n        ],\n        \"semantic_type\": \"\",\n        \"description\": \"\"\n      }\n    }\n  ]\n}"
            }
          },
          "metadata": {},
          "execution_count": 14
        }
      ]
    },
    {
      "cell_type": "code",
      "source": [
        "# here we see .head() with an argument to specify its behaviour\n",
        "df.head(1)"
      ],
      "metadata": {
        "colab": {
          "base_uri": "https://localhost:8080/",
          "height": 187
        },
        "id": "yfkZIiJQ8lAt",
        "outputId": "ce47d31f-8073-43ac-c49c-45e4eee8e1b7"
      },
      "execution_count": null,
      "outputs": [
        {
          "output_type": "execute_result",
          "data": {
            "text/plain": [
              "         Make              Model  Year  Engine Displacement  Cylinders  \\\n",
              "0  AM General  DJ Po Vehicle 2WD  1984                  2.5        4.0   \n",
              "\n",
              "      Transmission     Drivetrain                Vehicle Class Fuel Type  \\\n",
              "0  Automatic 3-spd  2-Wheel Drive  Special Purpose Vehicle 2WD   Regular   \n",
              "\n",
              "   Fuel Barrels/Year  City MPG  Highway MPG  Combined MPG  \\\n",
              "0          19.388824        18           17            17   \n",
              "\n",
              "   CO2 Emission Grams/Mile  Fuel Cost/Year  \n",
              "0               522.764706            1950  "
            ],
            "text/html": [
              "\n",
              "  <div id=\"df-3d623711-8330-4683-a7eb-5e05875bff31\" class=\"colab-df-container\">\n",
              "    <div>\n",
              "<style scoped>\n",
              "    .dataframe tbody tr th:only-of-type {\n",
              "        vertical-align: middle;\n",
              "    }\n",
              "\n",
              "    .dataframe tbody tr th {\n",
              "        vertical-align: top;\n",
              "    }\n",
              "\n",
              "    .dataframe thead th {\n",
              "        text-align: right;\n",
              "    }\n",
              "</style>\n",
              "<table border=\"1\" class=\"dataframe\">\n",
              "  <thead>\n",
              "    <tr style=\"text-align: right;\">\n",
              "      <th></th>\n",
              "      <th>Make</th>\n",
              "      <th>Model</th>\n",
              "      <th>Year</th>\n",
              "      <th>Engine Displacement</th>\n",
              "      <th>Cylinders</th>\n",
              "      <th>Transmission</th>\n",
              "      <th>Drivetrain</th>\n",
              "      <th>Vehicle Class</th>\n",
              "      <th>Fuel Type</th>\n",
              "      <th>Fuel Barrels/Year</th>\n",
              "      <th>City MPG</th>\n",
              "      <th>Highway MPG</th>\n",
              "      <th>Combined MPG</th>\n",
              "      <th>CO2 Emission Grams/Mile</th>\n",
              "      <th>Fuel Cost/Year</th>\n",
              "    </tr>\n",
              "  </thead>\n",
              "  <tbody>\n",
              "    <tr>\n",
              "      <th>0</th>\n",
              "      <td>AM General</td>\n",
              "      <td>DJ Po Vehicle 2WD</td>\n",
              "      <td>1984</td>\n",
              "      <td>2.5</td>\n",
              "      <td>4.0</td>\n",
              "      <td>Automatic 3-spd</td>\n",
              "      <td>2-Wheel Drive</td>\n",
              "      <td>Special Purpose Vehicle 2WD</td>\n",
              "      <td>Regular</td>\n",
              "      <td>19.388824</td>\n",
              "      <td>18</td>\n",
              "      <td>17</td>\n",
              "      <td>17</td>\n",
              "      <td>522.764706</td>\n",
              "      <td>1950</td>\n",
              "    </tr>\n",
              "  </tbody>\n",
              "</table>\n",
              "</div>\n",
              "    <div class=\"colab-df-buttons\">\n",
              "\n",
              "  <div class=\"colab-df-container\">\n",
              "    <button class=\"colab-df-convert\" onclick=\"convertToInteractive('df-3d623711-8330-4683-a7eb-5e05875bff31')\"\n",
              "            title=\"Convert this dataframe to an interactive table.\"\n",
              "            style=\"display:none;\">\n",
              "\n",
              "  <svg xmlns=\"http://www.w3.org/2000/svg\" height=\"24px\" viewBox=\"0 -960 960 960\">\n",
              "    <path d=\"M120-120v-720h720v720H120Zm60-500h600v-160H180v160Zm220 220h160v-160H400v160Zm0 220h160v-160H400v160ZM180-400h160v-160H180v160Zm440 0h160v-160H620v160ZM180-180h160v-160H180v160Zm440 0h160v-160H620v160Z\"/>\n",
              "  </svg>\n",
              "    </button>\n",
              "\n",
              "  <style>\n",
              "    .colab-df-container {\n",
              "      display:flex;\n",
              "      gap: 12px;\n",
              "    }\n",
              "\n",
              "    .colab-df-convert {\n",
              "      background-color: #E8F0FE;\n",
              "      border: none;\n",
              "      border-radius: 50%;\n",
              "      cursor: pointer;\n",
              "      display: none;\n",
              "      fill: #1967D2;\n",
              "      height: 32px;\n",
              "      padding: 0 0 0 0;\n",
              "      width: 32px;\n",
              "    }\n",
              "\n",
              "    .colab-df-convert:hover {\n",
              "      background-color: #E2EBFA;\n",
              "      box-shadow: 0px 1px 2px rgba(60, 64, 67, 0.3), 0px 1px 3px 1px rgba(60, 64, 67, 0.15);\n",
              "      fill: #174EA6;\n",
              "    }\n",
              "\n",
              "    .colab-df-buttons div {\n",
              "      margin-bottom: 4px;\n",
              "    }\n",
              "\n",
              "    [theme=dark] .colab-df-convert {\n",
              "      background-color: #3B4455;\n",
              "      fill: #D2E3FC;\n",
              "    }\n",
              "\n",
              "    [theme=dark] .colab-df-convert:hover {\n",
              "      background-color: #434B5C;\n",
              "      box-shadow: 0px 1px 3px 1px rgba(0, 0, 0, 0.15);\n",
              "      filter: drop-shadow(0px 1px 2px rgba(0, 0, 0, 0.3));\n",
              "      fill: #FFFFFF;\n",
              "    }\n",
              "  </style>\n",
              "\n",
              "    <script>\n",
              "      const buttonEl =\n",
              "        document.querySelector('#df-3d623711-8330-4683-a7eb-5e05875bff31 button.colab-df-convert');\n",
              "      buttonEl.style.display =\n",
              "        google.colab.kernel.accessAllowed ? 'block' : 'none';\n",
              "\n",
              "      async function convertToInteractive(key) {\n",
              "        const element = document.querySelector('#df-3d623711-8330-4683-a7eb-5e05875bff31');\n",
              "        const dataTable =\n",
              "          await google.colab.kernel.invokeFunction('convertToInteractive',\n",
              "                                                    [key], {});\n",
              "        if (!dataTable) return;\n",
              "\n",
              "        const docLinkHtml = 'Like what you see? Visit the ' +\n",
              "          '<a target=\"_blank\" href=https://colab.research.google.com/notebooks/data_table.ipynb>data table notebook</a>'\n",
              "          + ' to learn more about interactive tables.';\n",
              "        element.innerHTML = '';\n",
              "        dataTable['output_type'] = 'display_data';\n",
              "        await google.colab.output.renderOutput(dataTable, element);\n",
              "        const docLink = document.createElement('div');\n",
              "        docLink.innerHTML = docLinkHtml;\n",
              "        element.appendChild(docLink);\n",
              "      }\n",
              "    </script>\n",
              "  </div>\n",
              "\n",
              "    </div>\n",
              "  </div>\n"
            ],
            "application/vnd.google.colaboratory.intrinsic+json": {
              "type": "dataframe",
              "variable_name": "df",
              "summary": "{\n  \"name\": \"df\",\n  \"rows\": 35952,\n  \"fields\": [\n    {\n      \"column\": \"Make\",\n      \"properties\": {\n        \"dtype\": \"category\",\n        \"num_unique_values\": 127,\n        \"samples\": [\n          \"Daihatsu\",\n          \"Subaru\",\n          \"Oldsmobile\"\n        ],\n        \"semantic_type\": \"\",\n        \"description\": \"\"\n      }\n    },\n    {\n      \"column\": \"Model\",\n      \"properties\": {\n        \"dtype\": \"category\",\n        \"num_unique_values\": 3608,\n        \"samples\": [\n          \"Panamera Turbo S\",\n          \"62 S\",\n          \"LS 400\"\n        ],\n        \"semantic_type\": \"\",\n        \"description\": \"\"\n      }\n    },\n    {\n      \"column\": \"Year\",\n      \"properties\": {\n        \"dtype\": \"number\",\n        \"std\": 10,\n        \"min\": 1984,\n        \"max\": 2017,\n        \"num_unique_values\": 34,\n        \"samples\": [\n          2015,\n          1988,\n          2006\n        ],\n        \"semantic_type\": \"\",\n        \"description\": \"\"\n      }\n    },\n    {\n      \"column\": \"Engine Displacement\",\n      \"properties\": {\n        \"dtype\": \"number\",\n        \"std\": 1.359395386286269,\n        \"min\": 0.6,\n        \"max\": 8.4,\n        \"num_unique_values\": 65,\n        \"samples\": [\n          1.3,\n          5.5,\n          2.5\n        ],\n        \"semantic_type\": \"\",\n        \"description\": \"\"\n      }\n    },\n    {\n      \"column\": \"Cylinders\",\n      \"properties\": {\n        \"dtype\": \"number\",\n        \"std\": 1.7552682317646655,\n        \"min\": 2.0,\n        \"max\": 16.0,\n        \"num_unique_values\": 9,\n        \"samples\": [\n          3.0,\n          6.0,\n          10.0\n        ],\n        \"semantic_type\": \"\",\n        \"description\": \"\"\n      }\n    },\n    {\n      \"column\": \"Transmission\",\n      \"properties\": {\n        \"dtype\": \"category\",\n        \"num_unique_values\": 45,\n        \"samples\": [\n          \"Auto (AV-S8)\",\n          \"Automatic (AM6)\",\n          \"Automatic 8-spd\"\n        ],\n        \"semantic_type\": \"\",\n        \"description\": \"\"\n      }\n    },\n    {\n      \"column\": \"Drivetrain\",\n      \"properties\": {\n        \"dtype\": \"category\",\n        \"num_unique_values\": 8,\n        \"samples\": [\n          \"Rear-Wheel Drive\",\n          \"4-Wheel Drive\",\n          \"2-Wheel Drive\"\n        ],\n        \"semantic_type\": \"\",\n        \"description\": \"\"\n      }\n    },\n    {\n      \"column\": \"Vehicle Class\",\n      \"properties\": {\n        \"dtype\": \"category\",\n        \"num_unique_values\": 34,\n        \"samples\": [\n          \"Large Cars\",\n          \"Minivan - 2WD\",\n          \"Standard Pickup Trucks 4WD\"\n        ],\n        \"semantic_type\": \"\",\n        \"description\": \"\"\n      }\n    },\n    {\n      \"column\": \"Fuel Type\",\n      \"properties\": {\n        \"dtype\": \"category\",\n        \"num_unique_values\": 13,\n        \"samples\": [\n          \"Regular Gas and Electricity\",\n          \"Regular Gas or Electricity\",\n          \"Regular\"\n        ],\n        \"semantic_type\": \"\",\n        \"description\": \"\"\n      }\n    },\n    {\n      \"column\": \"Fuel Barrels/Year\",\n      \"properties\": {\n        \"dtype\": \"number\",\n        \"std\": 4.467282686296915,\n        \"min\": 0.06,\n        \"max\": 47.08714285714285,\n        \"num_unique_values\": 123,\n        \"samples\": [\n          27.4675,\n          7.356924277610839,\n          18.19928571428572\n        ],\n        \"semantic_type\": \"\",\n        \"description\": \"\"\n      }\n    },\n    {\n      \"column\": \"City MPG\",\n      \"properties\": {\n        \"dtype\": \"number\",\n        \"std\": 4,\n        \"min\": 6,\n        \"max\": 58,\n        \"num_unique_values\": 48,\n        \"samples\": [\n          32,\n          50,\n          27\n        ],\n        \"semantic_type\": \"\",\n        \"description\": \"\"\n      }\n    },\n    {\n      \"column\": \"Highway MPG\",\n      \"properties\": {\n        \"dtype\": \"number\",\n        \"std\": 5,\n        \"min\": 9,\n        \"max\": 61,\n        \"num_unique_values\": 49,\n        \"samples\": [\n          38,\n          61,\n          59\n        ],\n        \"semantic_type\": \"\",\n        \"description\": \"\"\n      }\n    },\n    {\n      \"column\": \"Combined MPG\",\n      \"properties\": {\n        \"dtype\": \"number\",\n        \"std\": 5,\n        \"min\": 7,\n        \"max\": 56,\n        \"num_unique_values\": 46,\n        \"samples\": [\n          44,\n          35,\n          39\n        ],\n        \"semantic_type\": \"\",\n        \"description\": \"\"\n      }\n    },\n    {\n      \"column\": \"CO2 Emission Grams/Mile\",\n      \"properties\": {\n        \"dtype\": \"number\",\n        \"std\": 119.06077323592496,\n        \"min\": 37.0,\n        \"max\": 1269.571428571429,\n        \"num_unique_values\": 575,\n        \"samples\": [\n          299.0,\n          538.0,\n          407.0\n        ],\n        \"semantic_type\": \"\",\n        \"description\": \"\"\n      }\n    },\n    {\n      \"column\": \"Fuel Cost/Year\",\n      \"properties\": {\n        \"dtype\": \"number\",\n        \"std\": 506,\n        \"min\": 600,\n        \"max\": 5800,\n        \"num_unique_values\": 55,\n        \"samples\": [\n          4050,\n          1650,\n          1100\n        ],\n        \"semantic_type\": \"\",\n        \"description\": \"\"\n      }\n    }\n  ]\n}"
            }
          },
          "metadata": {},
          "execution_count": 15
        }
      ]
    },
    {
      "cell_type": "markdown",
      "source": [
        "##### 2.5 [**\\.columns**](https://pandas.pydata.org/docs/reference/api/pandas.DataFrame.columns.html)\n",
        "Use this method to see or rename (all of) `df`'s columns:"
      ],
      "metadata": {
        "id": "fjtDkngU9BLz"
      }
    },
    {
      "cell_type": "code",
      "source": [
        "df.columns"
      ],
      "metadata": {
        "colab": {
          "base_uri": "https://localhost:8080/"
        },
        "id": "ec1FYql99DVD",
        "outputId": "1cef69e8-e944-4930-fa57-1220075b90dc"
      },
      "execution_count": null,
      "outputs": [
        {
          "output_type": "execute_result",
          "data": {
            "text/plain": [
              "Index(['Make', 'Model', 'Year', 'Engine Displacement', 'Cylinders',\n",
              "       'Transmission', 'Drivetrain', 'Vehicle Class', 'Fuel Type',\n",
              "       'Fuel Barrels/Year', 'City MPG', 'Highway MPG', 'Combined MPG',\n",
              "       'CO2 Emission Grams/Mile', 'Fuel Cost/Year'],\n",
              "      dtype='object')"
            ]
          },
          "metadata": {},
          "execution_count": 16
        }
      ]
    },
    {
      "cell_type": "markdown",
      "source": [
        "##### 2.6 [**\\.index**](https://pandas.pydata.org/docs/reference/api/pandas.DataFrame.index.html)\n",
        "This method is like `.columns`, but orients instead on rows:"
      ],
      "metadata": {
        "id": "-vOQkaBY9lkS"
      }
    },
    {
      "cell_type": "code",
      "source": [
        "df.index"
      ],
      "metadata": {
        "colab": {
          "base_uri": "https://localhost:8080/"
        },
        "id": "mwJowhXg9d-y",
        "outputId": "587b7b22-b7a4-40b4-d100-53a6045dc827"
      },
      "execution_count": null,
      "outputs": [
        {
          "output_type": "execute_result",
          "data": {
            "text/plain": [
              "RangeIndex(start=0, stop=35952, step=1)"
            ]
          },
          "metadata": {},
          "execution_count": 17
        }
      ]
    },
    {
      "cell_type": "markdown",
      "source": [
        "##### 2.7 [**\\.isnull()**](https://pandas.pydata.org/pandas-docs/stable/reference/api/pandas.DataFrame.isnull.html)\n",
        "This method creates a `DataFrame` of\n",
        "- `True` where the value is \"missing\" (`None` or `np.NaN`)\n",
        "- `False` where the value is \"not missing\""
      ],
      "metadata": {
        "id": "NgW8yU1ZNjvY"
      }
    },
    {
      "cell_type": "code",
      "source": [
        "df.isnull()"
      ],
      "metadata": {
        "colab": {
          "base_uri": "https://localhost:8080/",
          "height": 478
        },
        "id": "RBaYcv_JNv6m",
        "outputId": "786512ad-6177-49ee-8f6b-d9a38a0583cf"
      },
      "execution_count": null,
      "outputs": [
        {
          "output_type": "execute_result",
          "data": {
            "text/plain": [
              "        Make  Model   Year  Engine Displacement  Cylinders  Transmission  \\\n",
              "0      False  False  False                False      False         False   \n",
              "1      False  False  False                False      False         False   \n",
              "2      False  False  False                False      False         False   \n",
              "3      False  False  False                False      False         False   \n",
              "4      False  False  False                False      False         False   \n",
              "...      ...    ...    ...                  ...        ...           ...   \n",
              "35947  False  False  False                False      False         False   \n",
              "35948  False  False  False                False      False         False   \n",
              "35949  False  False  False                False      False         False   \n",
              "35950  False  False  False                False      False         False   \n",
              "35951  False  False  False                False      False         False   \n",
              "\n",
              "       Drivetrain  Vehicle Class  Fuel Type  Fuel Barrels/Year  City MPG  \\\n",
              "0           False          False      False              False     False   \n",
              "1           False          False      False              False     False   \n",
              "2           False          False      False              False     False   \n",
              "3           False          False      False              False     False   \n",
              "4           False          False      False              False     False   \n",
              "...           ...            ...        ...                ...       ...   \n",
              "35947       False          False      False              False     False   \n",
              "35948       False          False      False              False     False   \n",
              "35949       False          False      False              False     False   \n",
              "35950       False          False      False              False     False   \n",
              "35951       False          False      False              False     False   \n",
              "\n",
              "       Highway MPG  Combined MPG  CO2 Emission Grams/Mile  Fuel Cost/Year  \n",
              "0            False         False                    False           False  \n",
              "1            False         False                    False           False  \n",
              "2            False         False                    False           False  \n",
              "3            False         False                    False           False  \n",
              "4            False         False                    False           False  \n",
              "...            ...           ...                      ...             ...  \n",
              "35947        False         False                    False           False  \n",
              "35948        False         False                    False           False  \n",
              "35949        False         False                    False           False  \n",
              "35950        False         False                    False           False  \n",
              "35951        False         False                    False           False  \n",
              "\n",
              "[35952 rows x 15 columns]"
            ],
            "text/html": [
              "\n",
              "  <div id=\"df-512489af-1796-49e3-8d01-86f24e4a3c7a\" class=\"colab-df-container\">\n",
              "    <div>\n",
              "<style scoped>\n",
              "    .dataframe tbody tr th:only-of-type {\n",
              "        vertical-align: middle;\n",
              "    }\n",
              "\n",
              "    .dataframe tbody tr th {\n",
              "        vertical-align: top;\n",
              "    }\n",
              "\n",
              "    .dataframe thead th {\n",
              "        text-align: right;\n",
              "    }\n",
              "</style>\n",
              "<table border=\"1\" class=\"dataframe\">\n",
              "  <thead>\n",
              "    <tr style=\"text-align: right;\">\n",
              "      <th></th>\n",
              "      <th>Make</th>\n",
              "      <th>Model</th>\n",
              "      <th>Year</th>\n",
              "      <th>Engine Displacement</th>\n",
              "      <th>Cylinders</th>\n",
              "      <th>Transmission</th>\n",
              "      <th>Drivetrain</th>\n",
              "      <th>Vehicle Class</th>\n",
              "      <th>Fuel Type</th>\n",
              "      <th>Fuel Barrels/Year</th>\n",
              "      <th>City MPG</th>\n",
              "      <th>Highway MPG</th>\n",
              "      <th>Combined MPG</th>\n",
              "      <th>CO2 Emission Grams/Mile</th>\n",
              "      <th>Fuel Cost/Year</th>\n",
              "    </tr>\n",
              "  </thead>\n",
              "  <tbody>\n",
              "    <tr>\n",
              "      <th>0</th>\n",
              "      <td>False</td>\n",
              "      <td>False</td>\n",
              "      <td>False</td>\n",
              "      <td>False</td>\n",
              "      <td>False</td>\n",
              "      <td>False</td>\n",
              "      <td>False</td>\n",
              "      <td>False</td>\n",
              "      <td>False</td>\n",
              "      <td>False</td>\n",
              "      <td>False</td>\n",
              "      <td>False</td>\n",
              "      <td>False</td>\n",
              "      <td>False</td>\n",
              "      <td>False</td>\n",
              "    </tr>\n",
              "    <tr>\n",
              "      <th>1</th>\n",
              "      <td>False</td>\n",
              "      <td>False</td>\n",
              "      <td>False</td>\n",
              "      <td>False</td>\n",
              "      <td>False</td>\n",
              "      <td>False</td>\n",
              "      <td>False</td>\n",
              "      <td>False</td>\n",
              "      <td>False</td>\n",
              "      <td>False</td>\n",
              "      <td>False</td>\n",
              "      <td>False</td>\n",
              "      <td>False</td>\n",
              "      <td>False</td>\n",
              "      <td>False</td>\n",
              "    </tr>\n",
              "    <tr>\n",
              "      <th>2</th>\n",
              "      <td>False</td>\n",
              "      <td>False</td>\n",
              "      <td>False</td>\n",
              "      <td>False</td>\n",
              "      <td>False</td>\n",
              "      <td>False</td>\n",
              "      <td>False</td>\n",
              "      <td>False</td>\n",
              "      <td>False</td>\n",
              "      <td>False</td>\n",
              "      <td>False</td>\n",
              "      <td>False</td>\n",
              "      <td>False</td>\n",
              "      <td>False</td>\n",
              "      <td>False</td>\n",
              "    </tr>\n",
              "    <tr>\n",
              "      <th>3</th>\n",
              "      <td>False</td>\n",
              "      <td>False</td>\n",
              "      <td>False</td>\n",
              "      <td>False</td>\n",
              "      <td>False</td>\n",
              "      <td>False</td>\n",
              "      <td>False</td>\n",
              "      <td>False</td>\n",
              "      <td>False</td>\n",
              "      <td>False</td>\n",
              "      <td>False</td>\n",
              "      <td>False</td>\n",
              "      <td>False</td>\n",
              "      <td>False</td>\n",
              "      <td>False</td>\n",
              "    </tr>\n",
              "    <tr>\n",
              "      <th>4</th>\n",
              "      <td>False</td>\n",
              "      <td>False</td>\n",
              "      <td>False</td>\n",
              "      <td>False</td>\n",
              "      <td>False</td>\n",
              "      <td>False</td>\n",
              "      <td>False</td>\n",
              "      <td>False</td>\n",
              "      <td>False</td>\n",
              "      <td>False</td>\n",
              "      <td>False</td>\n",
              "      <td>False</td>\n",
              "      <td>False</td>\n",
              "      <td>False</td>\n",
              "      <td>False</td>\n",
              "    </tr>\n",
              "    <tr>\n",
              "      <th>...</th>\n",
              "      <td>...</td>\n",
              "      <td>...</td>\n",
              "      <td>...</td>\n",
              "      <td>...</td>\n",
              "      <td>...</td>\n",
              "      <td>...</td>\n",
              "      <td>...</td>\n",
              "      <td>...</td>\n",
              "      <td>...</td>\n",
              "      <td>...</td>\n",
              "      <td>...</td>\n",
              "      <td>...</td>\n",
              "      <td>...</td>\n",
              "      <td>...</td>\n",
              "      <td>...</td>\n",
              "    </tr>\n",
              "    <tr>\n",
              "      <th>35947</th>\n",
              "      <td>False</td>\n",
              "      <td>False</td>\n",
              "      <td>False</td>\n",
              "      <td>False</td>\n",
              "      <td>False</td>\n",
              "      <td>False</td>\n",
              "      <td>False</td>\n",
              "      <td>False</td>\n",
              "      <td>False</td>\n",
              "      <td>False</td>\n",
              "      <td>False</td>\n",
              "      <td>False</td>\n",
              "      <td>False</td>\n",
              "      <td>False</td>\n",
              "      <td>False</td>\n",
              "    </tr>\n",
              "    <tr>\n",
              "      <th>35948</th>\n",
              "      <td>False</td>\n",
              "      <td>False</td>\n",
              "      <td>False</td>\n",
              "      <td>False</td>\n",
              "      <td>False</td>\n",
              "      <td>False</td>\n",
              "      <td>False</td>\n",
              "      <td>False</td>\n",
              "      <td>False</td>\n",
              "      <td>False</td>\n",
              "      <td>False</td>\n",
              "      <td>False</td>\n",
              "      <td>False</td>\n",
              "      <td>False</td>\n",
              "      <td>False</td>\n",
              "    </tr>\n",
              "    <tr>\n",
              "      <th>35949</th>\n",
              "      <td>False</td>\n",
              "      <td>False</td>\n",
              "      <td>False</td>\n",
              "      <td>False</td>\n",
              "      <td>False</td>\n",
              "      <td>False</td>\n",
              "      <td>False</td>\n",
              "      <td>False</td>\n",
              "      <td>False</td>\n",
              "      <td>False</td>\n",
              "      <td>False</td>\n",
              "      <td>False</td>\n",
              "      <td>False</td>\n",
              "      <td>False</td>\n",
              "      <td>False</td>\n",
              "    </tr>\n",
              "    <tr>\n",
              "      <th>35950</th>\n",
              "      <td>False</td>\n",
              "      <td>False</td>\n",
              "      <td>False</td>\n",
              "      <td>False</td>\n",
              "      <td>False</td>\n",
              "      <td>False</td>\n",
              "      <td>False</td>\n",
              "      <td>False</td>\n",
              "      <td>False</td>\n",
              "      <td>False</td>\n",
              "      <td>False</td>\n",
              "      <td>False</td>\n",
              "      <td>False</td>\n",
              "      <td>False</td>\n",
              "      <td>False</td>\n",
              "    </tr>\n",
              "    <tr>\n",
              "      <th>35951</th>\n",
              "      <td>False</td>\n",
              "      <td>False</td>\n",
              "      <td>False</td>\n",
              "      <td>False</td>\n",
              "      <td>False</td>\n",
              "      <td>False</td>\n",
              "      <td>False</td>\n",
              "      <td>False</td>\n",
              "      <td>False</td>\n",
              "      <td>False</td>\n",
              "      <td>False</td>\n",
              "      <td>False</td>\n",
              "      <td>False</td>\n",
              "      <td>False</td>\n",
              "      <td>False</td>\n",
              "    </tr>\n",
              "  </tbody>\n",
              "</table>\n",
              "<p>35952 rows × 15 columns</p>\n",
              "</div>\n",
              "    <div class=\"colab-df-buttons\">\n",
              "\n",
              "  <div class=\"colab-df-container\">\n",
              "    <button class=\"colab-df-convert\" onclick=\"convertToInteractive('df-512489af-1796-49e3-8d01-86f24e4a3c7a')\"\n",
              "            title=\"Convert this dataframe to an interactive table.\"\n",
              "            style=\"display:none;\">\n",
              "\n",
              "  <svg xmlns=\"http://www.w3.org/2000/svg\" height=\"24px\" viewBox=\"0 -960 960 960\">\n",
              "    <path d=\"M120-120v-720h720v720H120Zm60-500h600v-160H180v160Zm220 220h160v-160H400v160Zm0 220h160v-160H400v160ZM180-400h160v-160H180v160Zm440 0h160v-160H620v160ZM180-180h160v-160H180v160Zm440 0h160v-160H620v160Z\"/>\n",
              "  </svg>\n",
              "    </button>\n",
              "\n",
              "  <style>\n",
              "    .colab-df-container {\n",
              "      display:flex;\n",
              "      gap: 12px;\n",
              "    }\n",
              "\n",
              "    .colab-df-convert {\n",
              "      background-color: #E8F0FE;\n",
              "      border: none;\n",
              "      border-radius: 50%;\n",
              "      cursor: pointer;\n",
              "      display: none;\n",
              "      fill: #1967D2;\n",
              "      height: 32px;\n",
              "      padding: 0 0 0 0;\n",
              "      width: 32px;\n",
              "    }\n",
              "\n",
              "    .colab-df-convert:hover {\n",
              "      background-color: #E2EBFA;\n",
              "      box-shadow: 0px 1px 2px rgba(60, 64, 67, 0.3), 0px 1px 3px 1px rgba(60, 64, 67, 0.15);\n",
              "      fill: #174EA6;\n",
              "    }\n",
              "\n",
              "    .colab-df-buttons div {\n",
              "      margin-bottom: 4px;\n",
              "    }\n",
              "\n",
              "    [theme=dark] .colab-df-convert {\n",
              "      background-color: #3B4455;\n",
              "      fill: #D2E3FC;\n",
              "    }\n",
              "\n",
              "    [theme=dark] .colab-df-convert:hover {\n",
              "      background-color: #434B5C;\n",
              "      box-shadow: 0px 1px 3px 1px rgba(0, 0, 0, 0.15);\n",
              "      filter: drop-shadow(0px 1px 2px rgba(0, 0, 0, 0.3));\n",
              "      fill: #FFFFFF;\n",
              "    }\n",
              "  </style>\n",
              "\n",
              "    <script>\n",
              "      const buttonEl =\n",
              "        document.querySelector('#df-512489af-1796-49e3-8d01-86f24e4a3c7a button.colab-df-convert');\n",
              "      buttonEl.style.display =\n",
              "        google.colab.kernel.accessAllowed ? 'block' : 'none';\n",
              "\n",
              "      async function convertToInteractive(key) {\n",
              "        const element = document.querySelector('#df-512489af-1796-49e3-8d01-86f24e4a3c7a');\n",
              "        const dataTable =\n",
              "          await google.colab.kernel.invokeFunction('convertToInteractive',\n",
              "                                                    [key], {});\n",
              "        if (!dataTable) return;\n",
              "\n",
              "        const docLinkHtml = 'Like what you see? Visit the ' +\n",
              "          '<a target=\"_blank\" href=https://colab.research.google.com/notebooks/data_table.ipynb>data table notebook</a>'\n",
              "          + ' to learn more about interactive tables.';\n",
              "        element.innerHTML = '';\n",
              "        dataTable['output_type'] = 'display_data';\n",
              "        await google.colab.output.renderOutput(dataTable, element);\n",
              "        const docLink = document.createElement('div');\n",
              "        docLink.innerHTML = docLinkHtml;\n",
              "        element.appendChild(docLink);\n",
              "      }\n",
              "    </script>\n",
              "  </div>\n",
              "\n",
              "\n",
              "<div id=\"df-fa5e0034-412d-4dfe-a926-26f677ab36bd\">\n",
              "  <button class=\"colab-df-quickchart\" onclick=\"quickchart('df-fa5e0034-412d-4dfe-a926-26f677ab36bd')\"\n",
              "            title=\"Suggest charts\"\n",
              "            style=\"display:none;\">\n",
              "\n",
              "<svg xmlns=\"http://www.w3.org/2000/svg\" height=\"24px\"viewBox=\"0 0 24 24\"\n",
              "     width=\"24px\">\n",
              "    <g>\n",
              "        <path d=\"M19 3H5c-1.1 0-2 .9-2 2v14c0 1.1.9 2 2 2h14c1.1 0 2-.9 2-2V5c0-1.1-.9-2-2-2zM9 17H7v-7h2v7zm4 0h-2V7h2v10zm4 0h-2v-4h2v4z\"/>\n",
              "    </g>\n",
              "</svg>\n",
              "  </button>\n",
              "\n",
              "<style>\n",
              "  .colab-df-quickchart {\n",
              "      --bg-color: #E8F0FE;\n",
              "      --fill-color: #1967D2;\n",
              "      --hover-bg-color: #E2EBFA;\n",
              "      --hover-fill-color: #174EA6;\n",
              "      --disabled-fill-color: #AAA;\n",
              "      --disabled-bg-color: #DDD;\n",
              "  }\n",
              "\n",
              "  [theme=dark] .colab-df-quickchart {\n",
              "      --bg-color: #3B4455;\n",
              "      --fill-color: #D2E3FC;\n",
              "      --hover-bg-color: #434B5C;\n",
              "      --hover-fill-color: #FFFFFF;\n",
              "      --disabled-bg-color: #3B4455;\n",
              "      --disabled-fill-color: #666;\n",
              "  }\n",
              "\n",
              "  .colab-df-quickchart {\n",
              "    background-color: var(--bg-color);\n",
              "    border: none;\n",
              "    border-radius: 50%;\n",
              "    cursor: pointer;\n",
              "    display: none;\n",
              "    fill: var(--fill-color);\n",
              "    height: 32px;\n",
              "    padding: 0;\n",
              "    width: 32px;\n",
              "  }\n",
              "\n",
              "  .colab-df-quickchart:hover {\n",
              "    background-color: var(--hover-bg-color);\n",
              "    box-shadow: 0 1px 2px rgba(60, 64, 67, 0.3), 0 1px 3px 1px rgba(60, 64, 67, 0.15);\n",
              "    fill: var(--button-hover-fill-color);\n",
              "  }\n",
              "\n",
              "  .colab-df-quickchart-complete:disabled,\n",
              "  .colab-df-quickchart-complete:disabled:hover {\n",
              "    background-color: var(--disabled-bg-color);\n",
              "    fill: var(--disabled-fill-color);\n",
              "    box-shadow: none;\n",
              "  }\n",
              "\n",
              "  .colab-df-spinner {\n",
              "    border: 2px solid var(--fill-color);\n",
              "    border-color: transparent;\n",
              "    border-bottom-color: var(--fill-color);\n",
              "    animation:\n",
              "      spin 1s steps(1) infinite;\n",
              "  }\n",
              "\n",
              "  @keyframes spin {\n",
              "    0% {\n",
              "      border-color: transparent;\n",
              "      border-bottom-color: var(--fill-color);\n",
              "      border-left-color: var(--fill-color);\n",
              "    }\n",
              "    20% {\n",
              "      border-color: transparent;\n",
              "      border-left-color: var(--fill-color);\n",
              "      border-top-color: var(--fill-color);\n",
              "    }\n",
              "    30% {\n",
              "      border-color: transparent;\n",
              "      border-left-color: var(--fill-color);\n",
              "      border-top-color: var(--fill-color);\n",
              "      border-right-color: var(--fill-color);\n",
              "    }\n",
              "    40% {\n",
              "      border-color: transparent;\n",
              "      border-right-color: var(--fill-color);\n",
              "      border-top-color: var(--fill-color);\n",
              "    }\n",
              "    60% {\n",
              "      border-color: transparent;\n",
              "      border-right-color: var(--fill-color);\n",
              "    }\n",
              "    80% {\n",
              "      border-color: transparent;\n",
              "      border-right-color: var(--fill-color);\n",
              "      border-bottom-color: var(--fill-color);\n",
              "    }\n",
              "    90% {\n",
              "      border-color: transparent;\n",
              "      border-bottom-color: var(--fill-color);\n",
              "    }\n",
              "  }\n",
              "</style>\n",
              "\n",
              "  <script>\n",
              "    async function quickchart(key) {\n",
              "      const quickchartButtonEl =\n",
              "        document.querySelector('#' + key + ' button');\n",
              "      quickchartButtonEl.disabled = true;  // To prevent multiple clicks.\n",
              "      quickchartButtonEl.classList.add('colab-df-spinner');\n",
              "      try {\n",
              "        const charts = await google.colab.kernel.invokeFunction(\n",
              "            'suggestCharts', [key], {});\n",
              "      } catch (error) {\n",
              "        console.error('Error during call to suggestCharts:', error);\n",
              "      }\n",
              "      quickchartButtonEl.classList.remove('colab-df-spinner');\n",
              "      quickchartButtonEl.classList.add('colab-df-quickchart-complete');\n",
              "    }\n",
              "    (() => {\n",
              "      let quickchartButtonEl =\n",
              "        document.querySelector('#df-fa5e0034-412d-4dfe-a926-26f677ab36bd button');\n",
              "      quickchartButtonEl.style.display =\n",
              "        google.colab.kernel.accessAllowed ? 'block' : 'none';\n",
              "    })();\n",
              "  </script>\n",
              "</div>\n",
              "    </div>\n",
              "  </div>\n"
            ],
            "application/vnd.google.colaboratory.intrinsic+json": {
              "type": "dataframe",
              "summary": "{\n  \"name\": \"df\",\n  \"rows\": 35952,\n  \"fields\": [\n    {\n      \"column\": \"Make\",\n      \"properties\": {\n        \"dtype\": \"boolean\",\n        \"num_unique_values\": 1,\n        \"samples\": [\n          false\n        ],\n        \"semantic_type\": \"\",\n        \"description\": \"\"\n      }\n    },\n    {\n      \"column\": \"Model\",\n      \"properties\": {\n        \"dtype\": \"boolean\",\n        \"num_unique_values\": 1,\n        \"samples\": [\n          false\n        ],\n        \"semantic_type\": \"\",\n        \"description\": \"\"\n      }\n    },\n    {\n      \"column\": \"Year\",\n      \"properties\": {\n        \"dtype\": \"boolean\",\n        \"num_unique_values\": 1,\n        \"samples\": [\n          false\n        ],\n        \"semantic_type\": \"\",\n        \"description\": \"\"\n      }\n    },\n    {\n      \"column\": \"Engine Displacement\",\n      \"properties\": {\n        \"dtype\": \"boolean\",\n        \"num_unique_values\": 1,\n        \"samples\": [\n          false\n        ],\n        \"semantic_type\": \"\",\n        \"description\": \"\"\n      }\n    },\n    {\n      \"column\": \"Cylinders\",\n      \"properties\": {\n        \"dtype\": \"boolean\",\n        \"num_unique_values\": 1,\n        \"samples\": [\n          false\n        ],\n        \"semantic_type\": \"\",\n        \"description\": \"\"\n      }\n    },\n    {\n      \"column\": \"Transmission\",\n      \"properties\": {\n        \"dtype\": \"boolean\",\n        \"num_unique_values\": 1,\n        \"samples\": [\n          false\n        ],\n        \"semantic_type\": \"\",\n        \"description\": \"\"\n      }\n    },\n    {\n      \"column\": \"Drivetrain\",\n      \"properties\": {\n        \"dtype\": \"boolean\",\n        \"num_unique_values\": 1,\n        \"samples\": [\n          false\n        ],\n        \"semantic_type\": \"\",\n        \"description\": \"\"\n      }\n    },\n    {\n      \"column\": \"Vehicle Class\",\n      \"properties\": {\n        \"dtype\": \"boolean\",\n        \"num_unique_values\": 1,\n        \"samples\": [\n          false\n        ],\n        \"semantic_type\": \"\",\n        \"description\": \"\"\n      }\n    },\n    {\n      \"column\": \"Fuel Type\",\n      \"properties\": {\n        \"dtype\": \"boolean\",\n        \"num_unique_values\": 1,\n        \"samples\": [\n          false\n        ],\n        \"semantic_type\": \"\",\n        \"description\": \"\"\n      }\n    },\n    {\n      \"column\": \"Fuel Barrels/Year\",\n      \"properties\": {\n        \"dtype\": \"boolean\",\n        \"num_unique_values\": 1,\n        \"samples\": [\n          false\n        ],\n        \"semantic_type\": \"\",\n        \"description\": \"\"\n      }\n    },\n    {\n      \"column\": \"City MPG\",\n      \"properties\": {\n        \"dtype\": \"boolean\",\n        \"num_unique_values\": 1,\n        \"samples\": [\n          false\n        ],\n        \"semantic_type\": \"\",\n        \"description\": \"\"\n      }\n    },\n    {\n      \"column\": \"Highway MPG\",\n      \"properties\": {\n        \"dtype\": \"boolean\",\n        \"num_unique_values\": 1,\n        \"samples\": [\n          false\n        ],\n        \"semantic_type\": \"\",\n        \"description\": \"\"\n      }\n    },\n    {\n      \"column\": \"Combined MPG\",\n      \"properties\": {\n        \"dtype\": \"boolean\",\n        \"num_unique_values\": 1,\n        \"samples\": [\n          false\n        ],\n        \"semantic_type\": \"\",\n        \"description\": \"\"\n      }\n    },\n    {\n      \"column\": \"CO2 Emission Grams/Mile\",\n      \"properties\": {\n        \"dtype\": \"boolean\",\n        \"num_unique_values\": 1,\n        \"samples\": [\n          false\n        ],\n        \"semantic_type\": \"\",\n        \"description\": \"\"\n      }\n    },\n    {\n      \"column\": \"Fuel Cost/Year\",\n      \"properties\": {\n        \"dtype\": \"boolean\",\n        \"num_unique_values\": 1,\n        \"samples\": [\n          false\n        ],\n        \"semantic_type\": \"\",\n        \"description\": \"\"\n      }\n    }\n  ]\n}"
            }
          },
          "metadata": {},
          "execution_count": 18
        }
      ]
    },
    {
      "cell_type": "markdown",
      "source": [
        "Since a DataFrame of `False` and `True` values is not the most convinient way to check for null values, we can use the `.sum()` method to count up all the `True` values. Since each missing (also called *null*) value returns as `True` (which evaluates as `1` to `False`'s `0`), the sum will effectively count the number of null values in a column."
      ],
      "metadata": {
        "id": "5pGYuJf7OwNZ"
      }
    },
    {
      "cell_type": "code",
      "source": [
        "df.isnull().sum()"
      ],
      "metadata": {
        "colab": {
          "base_uri": "https://localhost:8080/"
        },
        "id": "u6kaH6SwPH2x",
        "outputId": "00142755-0db6-4b59-d049-0e10ce912649"
      },
      "execution_count": null,
      "outputs": [
        {
          "output_type": "execute_result",
          "data": {
            "text/plain": [
              "Make                       0\n",
              "Model                      0\n",
              "Year                       0\n",
              "Engine Displacement        0\n",
              "Cylinders                  0\n",
              "Transmission               0\n",
              "Drivetrain                 0\n",
              "Vehicle Class              0\n",
              "Fuel Type                  0\n",
              "Fuel Barrels/Year          0\n",
              "City MPG                   0\n",
              "Highway MPG                0\n",
              "Combined MPG               0\n",
              "CO2 Emission Grams/Mile    0\n",
              "Fuel Cost/Year             0\n",
              "dtype: int64"
            ]
          },
          "metadata": {},
          "execution_count": 19
        }
      ]
    },
    {
      "cell_type": "markdown",
      "source": [
        "This tells us that there are no null values `df`."
      ],
      "metadata": {
        "id": "8nAymgKzPQGj"
      }
    },
    {
      "cell_type": "markdown",
      "source": [
        "#### 2.8 Selecting a column"
      ],
      "metadata": {
        "id": "Tdpvw4ikpkYi"
      }
    },
    {
      "cell_type": "markdown",
      "source": [
        "Often you need to see just one column of a DataFrame. To do this, use square brackets `[ ]` around the name of that column."
      ],
      "metadata": {
        "id": "RiG_74oHp01Z"
      }
    },
    {
      "cell_type": "code",
      "source": [
        "df['Make']"
      ],
      "metadata": {
        "colab": {
          "base_uri": "https://localhost:8080/"
        },
        "id": "iWsDxeZiqRdm",
        "outputId": "6da0c02e-93d6-409f-c48e-866c0039b133"
      },
      "execution_count": null,
      "outputs": [
        {
          "output_type": "execute_result",
          "data": {
            "text/plain": [
              "0              AM General\n",
              "1              AM General\n",
              "2              AM General\n",
              "3              AM General\n",
              "4        ASC Incorporated\n",
              "               ...       \n",
              "35947               smart\n",
              "35948               smart\n",
              "35949               smart\n",
              "35950               smart\n",
              "35951               smart\n",
              "Name: Make, Length: 35952, dtype: object"
            ]
          },
          "metadata": {},
          "execution_count": 16
        }
      ]
    },
    {
      "cell_type": "markdown",
      "source": [
        "You may notice that this looks very different from `df`. This is because each column is itself a `Series`."
      ],
      "metadata": {
        "id": "beW-jd4hqYdJ"
      }
    },
    {
      "cell_type": "markdown",
      "source": [
        "## 3. Series\n",
        "Individual rows or columns of a DataFrame are `Series`. Series objects maintain the indexes of a DataFrame (row numbers for one column, or column names for one row). `Series` can also be constructed independently to store one-dimensional data with indexes.\n",
        "\n",
        "Here you can check the official Pandas documentation on [Series](https://pandas.pydata.org/docs/reference/api/pandas.Series.html)."
      ],
      "metadata": {
        "id": "1rPO9U4Wss9Q"
      }
    },
    {
      "cell_type": "code",
      "source": [
        "s = df['Make']\n",
        "\n",
        "s"
      ],
      "metadata": {
        "colab": {
          "base_uri": "https://localhost:8080/"
        },
        "id": "GdHWFmmRtC5X",
        "outputId": "6237d42c-8099-4062-ff0a-f5bd746a7d88"
      },
      "execution_count": null,
      "outputs": [
        {
          "output_type": "execute_result",
          "data": {
            "text/plain": [
              "0              AM General\n",
              "1              AM General\n",
              "2              AM General\n",
              "3              AM General\n",
              "4        ASC Incorporated\n",
              "               ...       \n",
              "35947               smart\n",
              "35948               smart\n",
              "35949               smart\n",
              "35950               smart\n",
              "35951               smart\n",
              "Name: Make, Length: 35952, dtype: object"
            ]
          },
          "metadata": {},
          "execution_count": 21
        }
      ]
    },
    {
      "cell_type": "markdown",
      "source": [
        "`Series` and `DataFrame` share almost all the same methods. This is because many DataFrame methods are built on top of Series methods."
      ],
      "metadata": {
        "id": "e9XHuYsOtbNm"
      }
    },
    {
      "cell_type": "code",
      "source": [
        "s.head()"
      ],
      "metadata": {
        "colab": {
          "base_uri": "https://localhost:8080/"
        },
        "id": "lUV9M9Q0uFMq",
        "outputId": "56487759-b2be-4f63-8879-5ba57e4f858b"
      },
      "execution_count": null,
      "outputs": [
        {
          "output_type": "execute_result",
          "data": {
            "text/plain": [
              "0          AM General\n",
              "1          AM General\n",
              "2          AM General\n",
              "3          AM General\n",
              "4    ASC Incorporated\n",
              "Name: Make, dtype: object"
            ]
          },
          "metadata": {},
          "execution_count": 22
        }
      ]
    },
    {
      "cell_type": "code",
      "source": [
        "s.tail()"
      ],
      "metadata": {
        "colab": {
          "base_uri": "https://localhost:8080/"
        },
        "id": "9l0LV3GNuL8j",
        "outputId": "700c14c8-be08-4a2d-8bb5-264fe03471ac"
      },
      "execution_count": null,
      "outputs": [
        {
          "output_type": "execute_result",
          "data": {
            "text/plain": [
              "35947    smart\n",
              "35948    smart\n",
              "35949    smart\n",
              "35950    smart\n",
              "35951    smart\n",
              "Name: Make, dtype: object"
            ]
          },
          "metadata": {},
          "execution_count": 23
        }
      ]
    },
    {
      "cell_type": "markdown",
      "source": [
        "They also have a lot of same attributes"
      ],
      "metadata": {
        "id": "0D2KjwVSuTsB"
      }
    },
    {
      "cell_type": "code",
      "source": [
        "s.index"
      ],
      "metadata": {
        "colab": {
          "base_uri": "https://localhost:8080/"
        },
        "id": "UB47VqsbuNtj",
        "outputId": "4fe353bd-d860-4086-b4ed-faff10a80068"
      },
      "execution_count": null,
      "outputs": [
        {
          "output_type": "execute_result",
          "data": {
            "text/plain": [
              "RangeIndex(start=0, stop=35952, step=1)"
            ]
          },
          "metadata": {},
          "execution_count": 24
        }
      ]
    },
    {
      "cell_type": "code",
      "source": [
        "s.shape"
      ],
      "metadata": {
        "colab": {
          "base_uri": "https://localhost:8080/"
        },
        "id": "0vdjnAaiur3w",
        "outputId": "f0c5ce72-c1b4-4609-ccce-e1f3912451d6"
      },
      "execution_count": null,
      "outputs": [
        {
          "output_type": "execute_result",
          "data": {
            "text/plain": [
              "(35952,)"
            ]
          },
          "metadata": {},
          "execution_count": 25
        }
      ]
    },
    {
      "cell_type": "markdown",
      "source": [
        "#### .name\n",
        "One attribute unique to Series is `.name`. When taken from a `DataFrame`, the `.name` of a `Series` will be the *label* (column name or row index) of the data taken."
      ],
      "metadata": {
        "id": "jrXjmuFxkzH5"
      }
    },
    {
      "cell_type": "code",
      "source": [
        "# remember, s was created from the column 'Make' in the dataframe df\n",
        "s.name"
      ],
      "metadata": {
        "id": "vavspWlxleDV",
        "colab": {
          "base_uri": "https://localhost:8080/",
          "height": 36
        },
        "outputId": "9a3c7e6c-3f1e-43b4-9d69-ec131474cfd8"
      },
      "execution_count": null,
      "outputs": [
        {
          "output_type": "execute_result",
          "data": {
            "text/plain": [
              "'Make'"
            ],
            "application/vnd.google.colaboratory.intrinsic+json": {
              "type": "string"
            }
          },
          "metadata": {},
          "execution_count": 26
        }
      ]
    },
    {
      "cell_type": "markdown",
      "source": [
        "## 4. Challenges"
      ],
      "metadata": {
        "id": "6x-jxDPeXM4w"
      }
    },
    {
      "cell_type": "markdown",
      "source": [
        "#### 4.1\n",
        "You are given a dictionary containing information about fruits. Create a DataFrame from this dictionary and display it."
      ],
      "metadata": {
        "id": "5MyVnZUzAJaU"
      }
    },
    {
      "cell_type": "code",
      "source": [
        "fruit_data = {\n",
        "    'Fruit': ['Apple', 'Banana', 'Orange', 'Grapes'],\n",
        "    'Color': ['Red', 'Yellow', 'Orange', 'Purple'],\n",
        "    'Taste': ['Sweet', 'Sweet', 'Sweet', 'Sweet'],\n",
        "    'Price': [1.0, 0.5, 0.8, 2.5]\n",
        "}"
      ],
      "metadata": {
        "id": "ntiqVyWPZICI"
      },
      "execution_count": null,
      "outputs": []
    },
    {
      "cell_type": "code",
      "source": [
        "# Your code here"
      ],
      "metadata": {
        "id": "M9eZKKHoZ6DS"
      },
      "execution_count": null,
      "outputs": []
    },
    {
      "cell_type": "markdown",
      "source": [
        "#### 4.2.\n",
        "You are given a list of lists containing information about cities. Each inner list represents the data for a single city: the city's **name**, **population**, and **country**.     \n",
        "Create a DataFrame from this list of lists and display the result."
      ],
      "metadata": {
        "id": "YDMC3DeyAV7r"
      }
    },
    {
      "cell_type": "code",
      "source": [
        "city_data = [\n",
        "    ['New York', 8175133, 'USA'],\n",
        "    ['Tokyo', 13929286, 'Japan'],\n",
        "    ['London', 8908081, 'UK'],\n",
        "    ['Mumbai', 12442373, 'India']\n",
        "]\n"
      ],
      "metadata": {
        "id": "lL7KG97kAjcp"
      },
      "execution_count": null,
      "outputs": []
    },
    {
      "cell_type": "code",
      "source": [
        "# Your code here"
      ],
      "metadata": {
        "id": "teldoZQBAqr5"
      },
      "execution_count": null,
      "outputs": []
    },
    {
      "cell_type": "markdown",
      "source": [
        "#### 4.3\n",
        "Download the .csv file from this [link](https://github.com/mwaskom/seaborn-data/blob/master/penguins.csv).   \n",
        "Save the .csv file on your Google Drive.  \n",
        "Following the instructions from section 1.4 of this notebook, create a DataFrame with this data."
      ],
      "metadata": {
        "id": "Xh8klM9rAypZ"
      }
    },
    {
      "cell_type": "code",
      "source": [
        "# Your code here"
      ],
      "metadata": {
        "id": "83BRFORtAtPC"
      },
      "execution_count": null,
      "outputs": []
    },
    {
      "cell_type": "markdown",
      "source": [
        "#### 4.4\n",
        "Explore the DataFrame and Series (any column you wish) from the previous exercise using all the methods and attributes learned in this notebook (info, shape, describe, head, tail, columns, index)."
      ],
      "metadata": {
        "id": "uDL7IFoND1ot"
      }
    },
    {
      "cell_type": "code",
      "source": [
        "# Your code here"
      ],
      "metadata": {
        "id": "Dct9ToApEQdv"
      },
      "execution_count": null,
      "outputs": []
    },
    {
      "cell_type": "markdown",
      "source": [
        "#### 4.5. Learn more about DataFrame\n",
        "Try some of the other DataFrame methods and attributes like: \\\n",
        " \\\n",
        "\n",
        ".dtypes: Attribute to display data types of each column.   \n",
        ".sample(): Method to obtain a random sample of `n` rows, default `1`.  \n",
        ".nunique(): Method to count the number of unique values in *each column*.  \n",
        ".value_counts(): Method to display the frequency of unique values. Best used on a *single column*.  \n",
        ".max(): Method to get the maximum value of each column.  \n",
        ".min(): Method to get the minimum value of each column.  \n",
        ".mean(): Method to calculate the mean of each *numeric column*.  \n",
        ".median(): Method to calculate the median of each *numeric column*.  \n",
        ".std(): Method to calculate the standard deviation of each *numeric column*.  \n",
        ".isnull(): Method to check for missing values in the DataFrame.  \n",
        ".notnull(): Method to check for non-missing values in the DataFrame. The boolean inverse of `.isnull()`.  "
      ],
      "metadata": {
        "id": "Uzm7aSF1Eua4"
      }
    },
    {
      "cell_type": "code",
      "source": [
        "# your code here"
      ],
      "metadata": {
        "id": "j9msuyC584hR"
      },
      "execution_count": null,
      "outputs": []
    },
    {
      "cell_type": "markdown",
      "source": [
        "#### 4.6 Learn more about Series\n",
        "Visit the official documentation on [Series](https://pandas.pydata.org/docs/reference/api/pandas.Series.html) and try as many attributes and methods you wish.  \n",
        "There is an LMS page about Pandas documentation that you can find [here](https://learn.wbscodingschool.com/topic/pandas-documentation/)."
      ],
      "metadata": {
        "id": "IS7kl8lrwJZP"
      }
    },
    {
      "cell_type": "code",
      "source": [
        "# your code here"
      ],
      "metadata": {
        "id": "j44azuqDx3a4"
      },
      "execution_count": null,
      "outputs": []
    },
    {
      "cell_type": "markdown",
      "source": [
        "###### Hint"
      ],
      "metadata": {
        "id": "PtFUDNmQ9mfo"
      }
    },
    {
      "cell_type": "code",
      "source": [
        "# To create a Series, select one column of a DataFrame and save the result\n",
        "\n",
        "# my_series = df[______]"
      ],
      "metadata": {
        "id": "JVeGKngE9lbU"
      },
      "execution_count": null,
      "outputs": []
    }
  ]
}