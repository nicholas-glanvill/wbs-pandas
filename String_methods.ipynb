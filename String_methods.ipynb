{
  "nbformat": 4,
  "nbformat_minor": 0,
  "metadata": {
    "colab": {
      "provenance": [],
      "include_colab_link": true
    },
    "kernelspec": {
      "name": "python3",
      "display_name": "Python 3"
    },
    "language_info": {
      "name": "python"
    }
  },
  "cells": [
    {
      "cell_type": "markdown",
      "metadata": {
        "id": "view-in-github",
        "colab_type": "text"
      },
      "source": [
        "<a href=\"https://colab.research.google.com/github/nicholas-glanvill/wbs-pandas/blob/exploration/String_methods.ipynb\" target=\"_parent\"><img src=\"https://colab.research.google.com/assets/colab-badge.svg\" alt=\"Open In Colab\"/></a>"
      ]
    },
    {
      "cell_type": "markdown",
      "source": [
        "## Import the Pandas library and create DataFrame\n",
        "\n",
        "Before doing anything else, you'll need to import Pandas and get some data to work with."
      ],
      "metadata": {
        "id": "jcA6Yz8QXQQ5"
      }
    },
    {
      "cell_type": "code",
      "execution_count": null,
      "metadata": {
        "id": "i8bmxNUJ_IIW"
      },
      "outputs": [],
      "source": [
        "import pandas as pd"
      ]
    },
    {
      "cell_type": "code",
      "source": [
        "data = {\n",
        "    'Name': ['Alice', 'Bob', 'Claire', 'David', 'Emma'],\n",
        "    'Age': [25, 30, 22, 28, 26],\n",
        "    'Department': ['Marketing', 'Finance', 'Sales', 'HR', 'Marketing'],\n",
        "    'City': ['New York', 'London', 'Paris', 'San Francisco', 'Sydney'],\n",
        "    'Email': ['alice@example.com', 'bob@example.com', 'claire@example.com', 'david@example.com', 'emma@example.com'],\n",
        "    'Job_Title' : ['Data Scientist', 'Financial Analyst', 'Sales Executive', 'HR Manager', 'Marketing Specialist'],\n",
        "    'Full_Name' : ['Alice Johnson', 'Bob Smith', 'Claire Williams', 'David Lee', 'Emma Brown'],\n",
        "    'Phone' : ['123-456-7890', '987-654-3210', '555-123-4567', '111-222-3333', '444-555-6666'],\n",
        "    'Address' : ['       123 Main Street', '        456 Park Avenue', '         789 Elm Road', '        321 Oak Street','        555 Maple Lane']\n",
        "}\n",
        "\n",
        "df = pd.DataFrame(data)\n",
        "\n",
        "df"
      ],
      "metadata": {
        "colab": {
          "base_uri": "https://localhost:8080/",
          "height": 206
        },
        "id": "MCTupmOZ_dkz",
        "outputId": "3b5c264c-3495-40d8-ba2b-7ca50e422541"
      },
      "execution_count": null,
      "outputs": [
        {
          "output_type": "execute_result",
          "data": {
            "text/plain": [
              "     Name  Age Department           City               Email  \\\n",
              "0   Alice   25  Marketing       New York   alice@example.com   \n",
              "1     Bob   30    Finance         London     bob@example.com   \n",
              "2  Claire   22      Sales          Paris  claire@example.com   \n",
              "3   David   28         HR  San Francisco   david@example.com   \n",
              "4    Emma   26  Marketing         Sydney    emma@example.com   \n",
              "\n",
              "              Job_Title        Full_Name         Phone  \\\n",
              "0        Data Scientist    Alice Johnson  123-456-7890   \n",
              "1     Financial Analyst        Bob Smith  987-654-3210   \n",
              "2       Sales Executive  Claire Williams  555-123-4567   \n",
              "3            HR Manager        David Lee  111-222-3333   \n",
              "4  Marketing Specialist       Emma Brown  444-555-6666   \n",
              "\n",
              "                   Address  \n",
              "0          123 Main Street  \n",
              "1          456 Park Avenue  \n",
              "2             789 Elm Road  \n",
              "3           321 Oak Street  \n",
              "4           555 Maple Lane  "
            ],
            "text/html": [
              "\n",
              "  <div id=\"df-a2aa6b14-3ba9-4951-abd0-f7b86b07f1f9\" class=\"colab-df-container\">\n",
              "    <div>\n",
              "<style scoped>\n",
              "    .dataframe tbody tr th:only-of-type {\n",
              "        vertical-align: middle;\n",
              "    }\n",
              "\n",
              "    .dataframe tbody tr th {\n",
              "        vertical-align: top;\n",
              "    }\n",
              "\n",
              "    .dataframe thead th {\n",
              "        text-align: right;\n",
              "    }\n",
              "</style>\n",
              "<table border=\"1\" class=\"dataframe\">\n",
              "  <thead>\n",
              "    <tr style=\"text-align: right;\">\n",
              "      <th></th>\n",
              "      <th>Name</th>\n",
              "      <th>Age</th>\n",
              "      <th>Department</th>\n",
              "      <th>City</th>\n",
              "      <th>Email</th>\n",
              "      <th>Job_Title</th>\n",
              "      <th>Full_Name</th>\n",
              "      <th>Phone</th>\n",
              "      <th>Address</th>\n",
              "    </tr>\n",
              "  </thead>\n",
              "  <tbody>\n",
              "    <tr>\n",
              "      <th>0</th>\n",
              "      <td>Alice</td>\n",
              "      <td>25</td>\n",
              "      <td>Marketing</td>\n",
              "      <td>New York</td>\n",
              "      <td>alice@example.com</td>\n",
              "      <td>Data Scientist</td>\n",
              "      <td>Alice Johnson</td>\n",
              "      <td>123-456-7890</td>\n",
              "      <td>123 Main Street</td>\n",
              "    </tr>\n",
              "    <tr>\n",
              "      <th>1</th>\n",
              "      <td>Bob</td>\n",
              "      <td>30</td>\n",
              "      <td>Finance</td>\n",
              "      <td>London</td>\n",
              "      <td>bob@example.com</td>\n",
              "      <td>Financial Analyst</td>\n",
              "      <td>Bob Smith</td>\n",
              "      <td>987-654-3210</td>\n",
              "      <td>456 Park Avenue</td>\n",
              "    </tr>\n",
              "    <tr>\n",
              "      <th>2</th>\n",
              "      <td>Claire</td>\n",
              "      <td>22</td>\n",
              "      <td>Sales</td>\n",
              "      <td>Paris</td>\n",
              "      <td>claire@example.com</td>\n",
              "      <td>Sales Executive</td>\n",
              "      <td>Claire Williams</td>\n",
              "      <td>555-123-4567</td>\n",
              "      <td>789 Elm Road</td>\n",
              "    </tr>\n",
              "    <tr>\n",
              "      <th>3</th>\n",
              "      <td>David</td>\n",
              "      <td>28</td>\n",
              "      <td>HR</td>\n",
              "      <td>San Francisco</td>\n",
              "      <td>david@example.com</td>\n",
              "      <td>HR Manager</td>\n",
              "      <td>David Lee</td>\n",
              "      <td>111-222-3333</td>\n",
              "      <td>321 Oak Street</td>\n",
              "    </tr>\n",
              "    <tr>\n",
              "      <th>4</th>\n",
              "      <td>Emma</td>\n",
              "      <td>26</td>\n",
              "      <td>Marketing</td>\n",
              "      <td>Sydney</td>\n",
              "      <td>emma@example.com</td>\n",
              "      <td>Marketing Specialist</td>\n",
              "      <td>Emma Brown</td>\n",
              "      <td>444-555-6666</td>\n",
              "      <td>555 Maple Lane</td>\n",
              "    </tr>\n",
              "  </tbody>\n",
              "</table>\n",
              "</div>\n",
              "    <div class=\"colab-df-buttons\">\n",
              "\n",
              "  <div class=\"colab-df-container\">\n",
              "    <button class=\"colab-df-convert\" onclick=\"convertToInteractive('df-a2aa6b14-3ba9-4951-abd0-f7b86b07f1f9')\"\n",
              "            title=\"Convert this dataframe to an interactive table.\"\n",
              "            style=\"display:none;\">\n",
              "\n",
              "  <svg xmlns=\"http://www.w3.org/2000/svg\" height=\"24px\" viewBox=\"0 -960 960 960\">\n",
              "    <path d=\"M120-120v-720h720v720H120Zm60-500h600v-160H180v160Zm220 220h160v-160H400v160Zm0 220h160v-160H400v160ZM180-400h160v-160H180v160Zm440 0h160v-160H620v160ZM180-180h160v-160H180v160Zm440 0h160v-160H620v160Z\"/>\n",
              "  </svg>\n",
              "    </button>\n",
              "\n",
              "  <style>\n",
              "    .colab-df-container {\n",
              "      display:flex;\n",
              "      gap: 12px;\n",
              "    }\n",
              "\n",
              "    .colab-df-convert {\n",
              "      background-color: #E8F0FE;\n",
              "      border: none;\n",
              "      border-radius: 50%;\n",
              "      cursor: pointer;\n",
              "      display: none;\n",
              "      fill: #1967D2;\n",
              "      height: 32px;\n",
              "      padding: 0 0 0 0;\n",
              "      width: 32px;\n",
              "    }\n",
              "\n",
              "    .colab-df-convert:hover {\n",
              "      background-color: #E2EBFA;\n",
              "      box-shadow: 0px 1px 2px rgba(60, 64, 67, 0.3), 0px 1px 3px 1px rgba(60, 64, 67, 0.15);\n",
              "      fill: #174EA6;\n",
              "    }\n",
              "\n",
              "    .colab-df-buttons div {\n",
              "      margin-bottom: 4px;\n",
              "    }\n",
              "\n",
              "    [theme=dark] .colab-df-convert {\n",
              "      background-color: #3B4455;\n",
              "      fill: #D2E3FC;\n",
              "    }\n",
              "\n",
              "    [theme=dark] .colab-df-convert:hover {\n",
              "      background-color: #434B5C;\n",
              "      box-shadow: 0px 1px 3px 1px rgba(0, 0, 0, 0.15);\n",
              "      filter: drop-shadow(0px 1px 2px rgba(0, 0, 0, 0.3));\n",
              "      fill: #FFFFFF;\n",
              "    }\n",
              "  </style>\n",
              "\n",
              "    <script>\n",
              "      const buttonEl =\n",
              "        document.querySelector('#df-a2aa6b14-3ba9-4951-abd0-f7b86b07f1f9 button.colab-df-convert');\n",
              "      buttonEl.style.display =\n",
              "        google.colab.kernel.accessAllowed ? 'block' : 'none';\n",
              "\n",
              "      async function convertToInteractive(key) {\n",
              "        const element = document.querySelector('#df-a2aa6b14-3ba9-4951-abd0-f7b86b07f1f9');\n",
              "        const dataTable =\n",
              "          await google.colab.kernel.invokeFunction('convertToInteractive',\n",
              "                                                    [key], {});\n",
              "        if (!dataTable) return;\n",
              "\n",
              "        const docLinkHtml = 'Like what you see? Visit the ' +\n",
              "          '<a target=\"_blank\" href=https://colab.research.google.com/notebooks/data_table.ipynb>data table notebook</a>'\n",
              "          + ' to learn more about interactive tables.';\n",
              "        element.innerHTML = '';\n",
              "        dataTable['output_type'] = 'display_data';\n",
              "        await google.colab.output.renderOutput(dataTable, element);\n",
              "        const docLink = document.createElement('div');\n",
              "        docLink.innerHTML = docLinkHtml;\n",
              "        element.appendChild(docLink);\n",
              "      }\n",
              "    </script>\n",
              "  </div>\n",
              "\n",
              "\n",
              "<div id=\"df-a47560f8-d9b0-4a98-a999-f8393dce97d3\">\n",
              "  <button class=\"colab-df-quickchart\" onclick=\"quickchart('df-a47560f8-d9b0-4a98-a999-f8393dce97d3')\"\n",
              "            title=\"Suggest charts\"\n",
              "            style=\"display:none;\">\n",
              "\n",
              "<svg xmlns=\"http://www.w3.org/2000/svg\" height=\"24px\"viewBox=\"0 0 24 24\"\n",
              "     width=\"24px\">\n",
              "    <g>\n",
              "        <path d=\"M19 3H5c-1.1 0-2 .9-2 2v14c0 1.1.9 2 2 2h14c1.1 0 2-.9 2-2V5c0-1.1-.9-2-2-2zM9 17H7v-7h2v7zm4 0h-2V7h2v10zm4 0h-2v-4h2v4z\"/>\n",
              "    </g>\n",
              "</svg>\n",
              "  </button>\n",
              "\n",
              "<style>\n",
              "  .colab-df-quickchart {\n",
              "      --bg-color: #E8F0FE;\n",
              "      --fill-color: #1967D2;\n",
              "      --hover-bg-color: #E2EBFA;\n",
              "      --hover-fill-color: #174EA6;\n",
              "      --disabled-fill-color: #AAA;\n",
              "      --disabled-bg-color: #DDD;\n",
              "  }\n",
              "\n",
              "  [theme=dark] .colab-df-quickchart {\n",
              "      --bg-color: #3B4455;\n",
              "      --fill-color: #D2E3FC;\n",
              "      --hover-bg-color: #434B5C;\n",
              "      --hover-fill-color: #FFFFFF;\n",
              "      --disabled-bg-color: #3B4455;\n",
              "      --disabled-fill-color: #666;\n",
              "  }\n",
              "\n",
              "  .colab-df-quickchart {\n",
              "    background-color: var(--bg-color);\n",
              "    border: none;\n",
              "    border-radius: 50%;\n",
              "    cursor: pointer;\n",
              "    display: none;\n",
              "    fill: var(--fill-color);\n",
              "    height: 32px;\n",
              "    padding: 0;\n",
              "    width: 32px;\n",
              "  }\n",
              "\n",
              "  .colab-df-quickchart:hover {\n",
              "    background-color: var(--hover-bg-color);\n",
              "    box-shadow: 0 1px 2px rgba(60, 64, 67, 0.3), 0 1px 3px 1px rgba(60, 64, 67, 0.15);\n",
              "    fill: var(--button-hover-fill-color);\n",
              "  }\n",
              "\n",
              "  .colab-df-quickchart-complete:disabled,\n",
              "  .colab-df-quickchart-complete:disabled:hover {\n",
              "    background-color: var(--disabled-bg-color);\n",
              "    fill: var(--disabled-fill-color);\n",
              "    box-shadow: none;\n",
              "  }\n",
              "\n",
              "  .colab-df-spinner {\n",
              "    border: 2px solid var(--fill-color);\n",
              "    border-color: transparent;\n",
              "    border-bottom-color: var(--fill-color);\n",
              "    animation:\n",
              "      spin 1s steps(1) infinite;\n",
              "  }\n",
              "\n",
              "  @keyframes spin {\n",
              "    0% {\n",
              "      border-color: transparent;\n",
              "      border-bottom-color: var(--fill-color);\n",
              "      border-left-color: var(--fill-color);\n",
              "    }\n",
              "    20% {\n",
              "      border-color: transparent;\n",
              "      border-left-color: var(--fill-color);\n",
              "      border-top-color: var(--fill-color);\n",
              "    }\n",
              "    30% {\n",
              "      border-color: transparent;\n",
              "      border-left-color: var(--fill-color);\n",
              "      border-top-color: var(--fill-color);\n",
              "      border-right-color: var(--fill-color);\n",
              "    }\n",
              "    40% {\n",
              "      border-color: transparent;\n",
              "      border-right-color: var(--fill-color);\n",
              "      border-top-color: var(--fill-color);\n",
              "    }\n",
              "    60% {\n",
              "      border-color: transparent;\n",
              "      border-right-color: var(--fill-color);\n",
              "    }\n",
              "    80% {\n",
              "      border-color: transparent;\n",
              "      border-right-color: var(--fill-color);\n",
              "      border-bottom-color: var(--fill-color);\n",
              "    }\n",
              "    90% {\n",
              "      border-color: transparent;\n",
              "      border-bottom-color: var(--fill-color);\n",
              "    }\n",
              "  }\n",
              "</style>\n",
              "\n",
              "  <script>\n",
              "    async function quickchart(key) {\n",
              "      const quickchartButtonEl =\n",
              "        document.querySelector('#' + key + ' button');\n",
              "      quickchartButtonEl.disabled = true;  // To prevent multiple clicks.\n",
              "      quickchartButtonEl.classList.add('colab-df-spinner');\n",
              "      try {\n",
              "        const charts = await google.colab.kernel.invokeFunction(\n",
              "            'suggestCharts', [key], {});\n",
              "      } catch (error) {\n",
              "        console.error('Error during call to suggestCharts:', error);\n",
              "      }\n",
              "      quickchartButtonEl.classList.remove('colab-df-spinner');\n",
              "      quickchartButtonEl.classList.add('colab-df-quickchart-complete');\n",
              "    }\n",
              "    (() => {\n",
              "      let quickchartButtonEl =\n",
              "        document.querySelector('#df-a47560f8-d9b0-4a98-a999-f8393dce97d3 button');\n",
              "      quickchartButtonEl.style.display =\n",
              "        google.colab.kernel.accessAllowed ? 'block' : 'none';\n",
              "    })();\n",
              "  </script>\n",
              "</div>\n",
              "    </div>\n",
              "  </div>\n"
            ],
            "application/vnd.google.colaboratory.intrinsic+json": {
              "type": "dataframe",
              "variable_name": "df",
              "summary": "{\n  \"name\": \"df\",\n  \"rows\": 5,\n  \"fields\": [\n    {\n      \"column\": \"Name\",\n      \"properties\": {\n        \"dtype\": \"string\",\n        \"num_unique_values\": 5,\n        \"samples\": [\n          \"Bob\",\n          \"Emma\",\n          \"Claire\"\n        ],\n        \"semantic_type\": \"\",\n        \"description\": \"\"\n      }\n    },\n    {\n      \"column\": \"Age\",\n      \"properties\": {\n        \"dtype\": \"number\",\n        \"std\": 3,\n        \"min\": 22,\n        \"max\": 30,\n        \"num_unique_values\": 5,\n        \"samples\": [\n          30,\n          26,\n          22\n        ],\n        \"semantic_type\": \"\",\n        \"description\": \"\"\n      }\n    },\n    {\n      \"column\": \"Department\",\n      \"properties\": {\n        \"dtype\": \"string\",\n        \"num_unique_values\": 4,\n        \"samples\": [\n          \"Finance\",\n          \"HR\",\n          \"Marketing\"\n        ],\n        \"semantic_type\": \"\",\n        \"description\": \"\"\n      }\n    },\n    {\n      \"column\": \"City\",\n      \"properties\": {\n        \"dtype\": \"string\",\n        \"num_unique_values\": 5,\n        \"samples\": [\n          \"London\",\n          \"Sydney\",\n          \"Paris\"\n        ],\n        \"semantic_type\": \"\",\n        \"description\": \"\"\n      }\n    },\n    {\n      \"column\": \"Email\",\n      \"properties\": {\n        \"dtype\": \"string\",\n        \"num_unique_values\": 5,\n        \"samples\": [\n          \"bob@example.com\",\n          \"emma@example.com\",\n          \"claire@example.com\"\n        ],\n        \"semantic_type\": \"\",\n        \"description\": \"\"\n      }\n    },\n    {\n      \"column\": \"Job_Title\",\n      \"properties\": {\n        \"dtype\": \"string\",\n        \"num_unique_values\": 5,\n        \"samples\": [\n          \"Financial Analyst\",\n          \"Marketing Specialist\",\n          \"Sales Executive\"\n        ],\n        \"semantic_type\": \"\",\n        \"description\": \"\"\n      }\n    },\n    {\n      \"column\": \"Full_Name\",\n      \"properties\": {\n        \"dtype\": \"string\",\n        \"num_unique_values\": 5,\n        \"samples\": [\n          \"Bob Smith\",\n          \"Emma Brown\",\n          \"Claire Williams\"\n        ],\n        \"semantic_type\": \"\",\n        \"description\": \"\"\n      }\n    },\n    {\n      \"column\": \"Phone\",\n      \"properties\": {\n        \"dtype\": \"string\",\n        \"num_unique_values\": 5,\n        \"samples\": [\n          \"987-654-3210\",\n          \"444-555-6666\",\n          \"555-123-4567\"\n        ],\n        \"semantic_type\": \"\",\n        \"description\": \"\"\n      }\n    },\n    {\n      \"column\": \"Address\",\n      \"properties\": {\n        \"dtype\": \"string\",\n        \"num_unique_values\": 5,\n        \"samples\": [\n          \"        456 Park Avenue\",\n          \"        555 Maple Lane\",\n          \"         789 Elm Road\"\n        ],\n        \"semantic_type\": \"\",\n        \"description\": \"\"\n      }\n    }\n  ]\n}"
            }
          },
          "metadata": {},
          "execution_count": 2
        }
      ]
    },
    {
      "cell_type": "markdown",
      "source": [
        "## The `.str` accessor"
      ],
      "metadata": {
        "id": "kq_FDvUUYWXf"
      }
    },
    {
      "cell_type": "markdown",
      "source": [
        "In Pandas, the `.str` accessor allows us to perform various string operations on DataFrame columns containing string values. This provides a convenient and efficient way to work with textual data within DataFrames."
      ],
      "metadata": {
        "id": "5TVFT5AZATks"
      }
    },
    {
      "cell_type": "markdown",
      "source": [
        "> **Note:** The `.str` accessor works on Series. To use any of the tools below, be sure to specify which column of a DataFrame you wish to work with."
      ],
      "metadata": {
        "id": "lOX_CZUU8x0_"
      }
    },
    {
      "cell_type": "markdown",
      "source": [
        "### String indexing and slicing"
      ],
      "metadata": {
        "id": "xsh03xZGBFx5"
      }
    },
    {
      "cell_type": "markdown",
      "source": [
        "We can access individual characters of each string in a DataFrame column using string indexing. Let's select the first letter of each name:"
      ],
      "metadata": {
        "id": "ZFAIZBBnAhez"
      }
    },
    {
      "cell_type": "code",
      "source": [
        "df['Name'].str[0]"
      ],
      "metadata": {
        "colab": {
          "base_uri": "https://localhost:8080/"
        },
        "id": "23Ffs2olAg22",
        "outputId": "6cba8158-595d-4700-8ebb-09e6125c1609"
      },
      "execution_count": null,
      "outputs": [
        {
          "output_type": "execute_result",
          "data": {
            "text/plain": [
              "0    A\n",
              "1    B\n",
              "2    C\n",
              "3    D\n",
              "4    E\n",
              "Name: Name, dtype: object"
            ]
          },
          "metadata": {},
          "execution_count": 3
        }
      ]
    },
    {
      "cell_type": "markdown",
      "source": [
        "Using a slice in the string indexer, we'll now select the first four characters of each city."
      ],
      "metadata": {
        "id": "14M-1NyNA4ia"
      }
    },
    {
      "cell_type": "code",
      "source": [
        "df['City'].str[:4]"
      ],
      "metadata": {
        "colab": {
          "base_uri": "https://localhost:8080/"
        },
        "id": "lgD5efbKBSya",
        "outputId": "2d62f6b3-fc67-4f8e-8b12-28c1d32d8a8d"
      },
      "execution_count": null,
      "outputs": [
        {
          "output_type": "execute_result",
          "data": {
            "text/plain": [
              "0    New \n",
              "1    Lond\n",
              "2    Pari\n",
              "3    San \n",
              "4    Sydn\n",
              "Name: City, dtype: object"
            ]
          },
          "metadata": {},
          "execution_count": 4
        }
      ]
    },
    {
      "cell_type": "markdown",
      "source": [
        "### Converting cases"
      ],
      "metadata": {
        "id": "F3Fn5hJqBniO"
      }
    },
    {
      "cell_type": "markdown",
      "source": [
        "`.str.lower()`      \n",
        "With this method you can change all letters to lower case."
      ],
      "metadata": {
        "id": "AyQKT-dNB7uD"
      }
    },
    {
      "cell_type": "code",
      "source": [
        "df['Full_Name'].str.lower()"
      ],
      "metadata": {
        "colab": {
          "base_uri": "https://localhost:8080/"
        },
        "id": "9mV3FKnYCFyS",
        "outputId": "c5290491-f8a5-45ce-e183-10746aec6537"
      },
      "execution_count": null,
      "outputs": [
        {
          "output_type": "execute_result",
          "data": {
            "text/plain": [
              "0      alice johnson\n",
              "1          bob smith\n",
              "2    claire williams\n",
              "3          david lee\n",
              "4         emma brown\n",
              "Name: Full_Name, dtype: object"
            ]
          },
          "metadata": {},
          "execution_count": 5
        }
      ]
    },
    {
      "cell_type": "markdown",
      "source": [
        "Similarly, Pandas offers:  \n",
        "\n",
        "`str.upper()`  \n",
        "Converts all characters to uppercase.  \n",
        "\n",
        "`str.title()`  \n",
        "Converts the first character of each word to uppercase and the remaining characters to lowercase.  \n",
        "\n",
        "`str.capitalize()`  \n",
        "Converts first character of the whole string to uppercase and the remaining characters to lowercase.  \n",
        "\n",
        "`str.swapcase()`  \n",
        "Converts uppercase to lowercase and lowercase to uppercase.  \n",
        "\n",
        "`str.casefold()`  \n",
        "Removes all case distinctions in the string. This method is meant to deal with the kind of special characters generally not recognized as having upper and lower cases, e.g. \"ß\" becomes \"ss\".\n"
      ],
      "metadata": {
        "id": "-iOo0wEhCUjY"
      }
    },
    {
      "cell_type": "markdown",
      "source": [
        "### Conditions"
      ],
      "metadata": {
        "id": "oAvqIljQD_f1"
      }
    },
    {
      "cell_type": "markdown",
      "source": [
        "`.str.startswith()` and `.str.endswith()`  \n",
        "Often used for filtering DataFrames, these methods will check if the first or last character(s) in each string match(es) the given string."
      ],
      "metadata": {
        "id": "7gFY7PpeEKpP"
      }
    },
    {
      "cell_type": "code",
      "source": [
        "df['Email'].str.startswith('david')"
      ],
      "metadata": {
        "colab": {
          "base_uri": "https://localhost:8080/"
        },
        "id": "ceJdnoETEHbf",
        "outputId": "93833235-b632-4292-9b9a-41b471a1f845"
      },
      "execution_count": null,
      "outputs": [
        {
          "output_type": "execute_result",
          "data": {
            "text/plain": [
              "0    False\n",
              "1    False\n",
              "2    False\n",
              "3     True\n",
              "4    False\n",
              "Name: Email, dtype: bool"
            ]
          },
          "metadata": {},
          "execution_count": 6
        }
      ]
    },
    {
      "cell_type": "markdown",
      "source": [
        "`.str.contains()`  \n",
        "Another useful method for filtering `.str.contains()` checks if any part of each string matches the given string."
      ],
      "metadata": {
        "id": "iv4pirUfEp6H"
      }
    },
    {
      "cell_type": "code",
      "source": [
        "df['Email'].str.contains('@')"
      ],
      "metadata": {
        "colab": {
          "base_uri": "https://localhost:8080/"
        },
        "id": "p65Tjso4EvlT",
        "outputId": "28c79a44-1fca-4a0a-8dad-1df926cae1e3"
      },
      "execution_count": null,
      "outputs": [
        {
          "output_type": "execute_result",
          "data": {
            "text/plain": [
              "0    True\n",
              "1    True\n",
              "2    True\n",
              "3    True\n",
              "4    True\n",
              "Name: Email, dtype: bool"
            ]
          },
          "metadata": {},
          "execution_count": 7
        }
      ]
    },
    {
      "cell_type": "markdown",
      "source": [
        "### Length and counting"
      ],
      "metadata": {
        "id": "AqG1u-S6FDd-"
      }
    },
    {
      "cell_type": "markdown",
      "source": [
        "`.str.len()`  \n",
        "This method will count and return the number of characters in each string."
      ],
      "metadata": {
        "id": "edJ8ejGcFJ-G"
      }
    },
    {
      "cell_type": "code",
      "source": [
        "df['Address'].str.len()"
      ],
      "metadata": {
        "colab": {
          "base_uri": "https://localhost:8080/"
        },
        "id": "_CBxyTD-FTCd",
        "outputId": "fdc73592-8cce-4ab6-96a5-37327a02c8d0"
      },
      "execution_count": null,
      "outputs": [
        {
          "output_type": "execute_result",
          "data": {
            "text/plain": [
              "0    22\n",
              "1    23\n",
              "2    21\n",
              "3    22\n",
              "4    22\n",
              "Name: Address, dtype: int64"
            ]
          },
          "metadata": {},
          "execution_count": 9
        }
      ]
    },
    {
      "cell_type": "markdown",
      "source": [
        "`.str.count()`  \n",
        "returns the count of occurrences of a specified substring in each string of the column"
      ],
      "metadata": {
        "id": "PV7Eh4XiFRmu"
      }
    },
    {
      "cell_type": "code",
      "source": [
        "df['Email'].str.count('example')"
      ],
      "metadata": {
        "colab": {
          "base_uri": "https://localhost:8080/"
        },
        "id": "oT2v5siXFfZw",
        "outputId": "506ce48a-3967-401c-8040-2c25c0e525db"
      },
      "execution_count": null,
      "outputs": [
        {
          "output_type": "execute_result",
          "data": {
            "text/plain": [
              "0    1\n",
              "1    1\n",
              "2    1\n",
              "3    1\n",
              "4    1\n",
              "Name: Email, dtype: int64"
            ]
          },
          "metadata": {},
          "execution_count": 8
        }
      ]
    },
    {
      "cell_type": "markdown",
      "source": [
        "### Manipulating strings"
      ],
      "metadata": {
        "id": "YJ-41F9oFsQf"
      }
    },
    {
      "cell_type": "markdown",
      "source": [
        "`.str.replace()`  \n",
        "Used to locate one sub-string and, if it exists, replace it with another."
      ],
      "metadata": {
        "id": "RUmD67AsFz8B"
      }
    },
    {
      "cell_type": "code",
      "source": [
        "df['City'].str.replace('New', 'Old')"
      ],
      "metadata": {
        "colab": {
          "base_uri": "https://localhost:8080/"
        },
        "id": "w9WwmdDdF6Fm",
        "outputId": "11fa6ad3-085c-46d6-a98c-1a83ab385a34"
      },
      "execution_count": null,
      "outputs": [
        {
          "output_type": "execute_result",
          "data": {
            "text/plain": [
              "0         Old York\n",
              "1           London\n",
              "2            Paris\n",
              "3    San Francisco\n",
              "4           Sydney\n",
              "Name: City, dtype: object"
            ]
          },
          "metadata": {},
          "execution_count": 9
        }
      ]
    },
    {
      "cell_type": "markdown",
      "source": [
        "`.str.strip()`  \n",
        "It is not uncommon for data to end up carrying certain artefacts of the ETL process, often as leading or tailing characters. Most commonly, this will result in whitespace; `.str.strip()` removes whitespace before and after a string by default, and can remove others when specified."
      ],
      "metadata": {
        "id": "UHq2wBKrF-wP"
      }
    },
    {
      "cell_type": "code",
      "source": [
        "df['Address']"
      ],
      "metadata": {
        "colab": {
          "base_uri": "https://localhost:8080/"
        },
        "id": "mjCRvKQpGPPA",
        "outputId": "7cdad126-d34d-4bb1-adb0-c6021970a99e"
      },
      "execution_count": null,
      "outputs": [
        {
          "output_type": "execute_result",
          "data": {
            "text/plain": [
              "0            123 Main Street\n",
              "1            456 Park Avenue\n",
              "2               789 Elm Road\n",
              "3             321 Oak Street\n",
              "4             555 Maple Lane\n",
              "Name: Address, dtype: object"
            ]
          },
          "metadata": {},
          "execution_count": 13
        }
      ]
    },
    {
      "cell_type": "code",
      "source": [
        "df['Address'].str.strip()"
      ],
      "metadata": {
        "colab": {
          "base_uri": "https://localhost:8080/"
        },
        "id": "vskGdagLGUu0",
        "outputId": "62ea2440-9dbc-4803-ba0d-537251311d99"
      },
      "execution_count": null,
      "outputs": [
        {
          "output_type": "execute_result",
          "data": {
            "text/plain": [
              "0    123 Main Street\n",
              "1    456 Park Avenue\n",
              "2       789 Elm Road\n",
              "3     321 Oak Street\n",
              "4     555 Maple Lane\n",
              "Name: Address, dtype: object"
            ]
          },
          "metadata": {},
          "execution_count": 13
        }
      ]
    },
    {
      "cell_type": "markdown",
      "source": [
        "`.str.split()`  \n",
        "Used to break a string down into its constituent parts, `.str.split()` will search a string for a given character, creating items in a list each time that character is encountered. By default, splits will be made on whitespace."
      ],
      "metadata": {
        "id": "EyHd-PasGY5A"
      }
    },
    {
      "cell_type": "code",
      "source": [
        "df['Full_Name'].str.split()"
      ],
      "metadata": {
        "colab": {
          "base_uri": "https://localhost:8080/"
        },
        "id": "o4aNrJ68GhKb",
        "outputId": "984e57d2-e39e-421d-d84c-f0d91b413b3e"
      },
      "execution_count": null,
      "outputs": [
        {
          "output_type": "execute_result",
          "data": {
            "text/plain": [
              "0      [Alice, Johnson]\n",
              "1          [Bob, Smith]\n",
              "2    [Claire, Williams]\n",
              "3          [David, Lee]\n",
              "4         [Emma, Brown]\n",
              "Name: Full_Name, dtype: object"
            ]
          },
          "metadata": {},
          "execution_count": 14
        }
      ]
    },
    {
      "cell_type": "markdown",
      "source": [
        "The resulting lists can be accessed with a further `.str` followed by an indexer or `.get()`."
      ],
      "metadata": {
        "id": "JV4lVsGvQe1W"
      }
    },
    {
      "cell_type": "code",
      "source": [
        "df['Full_Name'].str.split(' ').str[1]"
      ],
      "metadata": {
        "colab": {
          "base_uri": "https://localhost:8080/"
        },
        "id": "8bX6xQq6Gxe4",
        "outputId": "c1960fd9-9c62-40bc-9388-24a6446b4754"
      },
      "execution_count": null,
      "outputs": [
        {
          "output_type": "execute_result",
          "data": {
            "text/plain": [
              "0     Johnson\n",
              "1       Smith\n",
              "2    Williams\n",
              "3         Lee\n",
              "4       Brown\n",
              "Name: Full_Name, dtype: object"
            ]
          },
          "metadata": {},
          "execution_count": 15
        }
      ]
    },
    {
      "cell_type": "code",
      "source": [
        "df['Full_Name'].str.split(' ').str.get(1)"
      ],
      "metadata": {
        "colab": {
          "base_uri": "https://localhost:8080/"
        },
        "id": "7g5O6IeXQwud",
        "outputId": "135a7eb8-80ac-4f66-d588-c28fe1d6e710"
      },
      "execution_count": null,
      "outputs": [
        {
          "output_type": "execute_result",
          "data": {
            "text/plain": [
              "0     Johnson\n",
              "1       Smith\n",
              "2    Williams\n",
              "3         Lee\n",
              "4       Brown\n",
              "Name: Full_Name, dtype: object"
            ]
          },
          "metadata": {},
          "execution_count": 16
        }
      ]
    },
    {
      "cell_type": "markdown",
      "source": [
        "## Regular expressions"
      ],
      "metadata": {
        "id": "iURq-6eMHDgh"
      }
    },
    {
      "cell_type": "markdown",
      "source": [
        "Regular expressions, commonly known as regex, are powerful tools for pattern matching and text manipulation.  \n",
        "The regex syntax consists of metacharacters, quantifiers, character classes, and more, which define the rules for matching patterns in strings."
      ],
      "metadata": {
        "id": "KB9xcGJZHguF"
      }
    },
    {
      "cell_type": "markdown",
      "source": [
        "Common Metacharacters and Their Meanings:\n",
        "\n",
        "**. (Period)**: Matches any character except a newline.  \n",
        "For example, the pattern a.b will match 'aab', 'acb', 'a9b', but not 'a\\nb'.\n",
        "\n",
        "**\\* (Asterisk)**: Matches zero or more occurrences of the preceding character.\n",
        "\n",
        " For example, the pattern ab*c will match 'ac', 'abc', 'abbc', 'abbbc', and so on.\n",
        "\n",
        "**\\+ (Plus)**: Matches one or more occurrences of the preceding character.\n",
        "\n",
        " For example, the pattern ab+c will match 'abc', 'abbc', 'abbbc', but not 'ac'.\n",
        "\n",
        "**? (Question Mark)**: Matches zero or one occurrence of the preceding character.  \n",
        "For example, the pattern colou?r will match both 'color' and 'colour'.\n",
        "\n",
        "**^ (Caret)**: Matches the start of a string.  \n",
        "For example, the pattern ^abc will match 'abc' only if it appears at the beginning of a string.\n",
        "\n",
        "**\\$ (Dollar)**: Matches the end of a string.  \n",
        "For example, the pattern abc$ will match 'abc' only if it appears at the end of a string.\n",
        "\n",
        "**[ ] (Square Brackets)**: Matches any single character within the specified set.  \n",
        "For example, the pattern [aeiou] will match any vowel.\n",
        "\n",
        "**[^] (Caret Inside Square Brackets)**: Matches any single character not within the specified set.  \n",
        "For example, the pattern [^aeiou] will match any non-vowel."
      ],
      "metadata": {
        "id": "3E522VrWHzNq"
      }
    },
    {
      "cell_type": "markdown",
      "source": [
        "Try [this site](https://regex101.com/) for diving deeper into regular expressions."
      ],
      "metadata": {
        "id": "kAatmAqTjCsX"
      }
    },
    {
      "cell_type": "markdown",
      "source": [
        "### Regex in Pandas\n",
        "In pandas, certain methods allow for regex pattern matching — some by default and others when explicitly set to do so."
      ],
      "metadata": {
        "id": "3ZAm2FTRIzZl"
      }
    },
    {
      "cell_type": "code",
      "source": [
        "df['Phone'].str.contains(r'\\d+-\\d+-\\d+')"
      ],
      "metadata": {
        "colab": {
          "base_uri": "https://localhost:8080/"
        },
        "id": "-hIYxPqMHHGF",
        "outputId": "35c8b0b5-577f-4487-98bd-b6b257dcb402"
      },
      "execution_count": null,
      "outputs": [
        {
          "output_type": "execute_result",
          "data": {
            "text/plain": [
              "0    True\n",
              "1    True\n",
              "2    True\n",
              "3    True\n",
              "4    True\n",
              "Name: Phone, dtype: bool"
            ]
          },
          "metadata": {},
          "execution_count": 16
        }
      ]
    },
    {
      "cell_type": "markdown",
      "source": [
        "`\\d+-\\d+-\\d+`     \n",
        "This pattern matches all strings that containg two minus signs with 1 or more number characters between them."
      ],
      "metadata": {
        "id": "PiyogVggJmNY"
      }
    },
    {
      "cell_type": "markdown",
      "source": [
        "## Challenges"
      ],
      "metadata": {
        "id": "F_t5SCnAT61t"
      }
    },
    {
      "cell_type": "code",
      "source": [
        "data = {\n",
        "    'City': ['New York', 'Los Angeles', 'Chicago', 'Houston', 'San Francisco', 'London', 'Paris', 'Berlin', 'Rome', 'Tokyo'],\n",
        "    'Country': ['USA', 'USA', 'USA', 'USA', 'USA', 'UK', 'France', 'Germany', 'Italy', 'Japan'],\n",
        "    'Population (Millions)': [8.4, 3.9, 2.7, 2.3, 0.9, 8.9, 2.1, 3.7, 2.8, 13.9],\n",
        "    'Area (km2)': [468.9, 502.8, 227.6, 1, 121.4, 1572, 105.4, 891.8, 1285, 2187],\n",
        "    'Language': ['English', 'English', 'English', 'English', 'English', 'English', 'French', 'German', 'Italian', 'Japanese'],\n",
        "    'Currency': ['USD', 'USD', 'USD', 'USD', 'USD', 'GBP', 'EUR', 'EUR', 'EUR', 'JPY'],\n",
        "    'Continent': ['North America', 'North America', 'North America', 'North America', 'North America', 'Europe', 'Europe', 'Europe', 'Europe', 'Asia'],\n",
        "    'Is_Capital': [False, False, False, False, False, True, True, True, True, True]\n",
        "}\n",
        "\n",
        "cities_df = pd.DataFrame(data)\n",
        "\n",
        "# Adding more rows\n",
        "extra_data = {\n",
        "    'City': ['Sydney', 'Seoul', 'Beijing', 'Moscow', 'Cairo', 'Mumbai'],\n",
        "    'Country': ['Australia', 'South Korea', 'China', 'Russia', 'Egypt', 'India'],\n",
        "    'Population (Millions)': [5.3, 9.7, 21.5, 12.5, 9.5, 20.7],\n",
        "    'Area (km2)': [1687, 605, 16411, 2561, 3034, 603],\n",
        "    'Language': ['English', 'Korean', 'Mandarin', 'Russian', 'Arabic', 'Hindi'],\n",
        "    'Currency': ['AUD', 'KRW', 'CNY', 'RUB', 'EGP', 'INR'],\n",
        "    'Continent': ['Australia', 'Asia', 'Asia', 'Europe', 'Africa', 'Asia'],\n",
        "    'Is_Capital': [False, True, True, True, True, False]\n",
        "}\n",
        "\n",
        "extra_df = pd.DataFrame(extra_data)\n",
        "cities_df = pd.concat([cities_df, extra_df], ignore_index=True)\n",
        "\n",
        "cities_df"
      ],
      "metadata": {
        "colab": {
          "base_uri": "https://localhost:8080/",
          "height": 736
        },
        "id": "nbHlUXDuUAcq",
        "outputId": "51fe248a-d8fb-4a6e-cab1-943a53b5d092"
      },
      "execution_count": null,
      "outputs": [
        {
          "output_type": "execute_result",
          "data": {
            "text/plain": [
              "             City      Country  Population (Millions)  Area (km2)  Language  \\\n",
              "0        New York          USA                    8.4       468.9   English   \n",
              "1     Los Angeles          USA                    3.9       502.8   English   \n",
              "2         Chicago          USA                    2.7       227.6   English   \n",
              "3         Houston          USA                    2.3         1.0   English   \n",
              "4   San Francisco          USA                    0.9       121.4   English   \n",
              "5          London           UK                    8.9      1572.0   English   \n",
              "6           Paris       France                    2.1       105.4    French   \n",
              "7          Berlin      Germany                    3.7       891.8    German   \n",
              "8            Rome        Italy                    2.8      1285.0   Italian   \n",
              "9           Tokyo        Japan                   13.9      2187.0  Japanese   \n",
              "10         Sydney    Australia                    5.3      1687.0   English   \n",
              "11          Seoul  South Korea                    9.7       605.0    Korean   \n",
              "12        Beijing        China                   21.5     16411.0  Mandarin   \n",
              "13         Moscow       Russia                   12.5      2561.0   Russian   \n",
              "14          Cairo        Egypt                    9.5      3034.0    Arabic   \n",
              "15         Mumbai        India                   20.7       603.0     Hindi   \n",
              "\n",
              "   Currency      Continent  Is_Capital  \n",
              "0       USD  North America       False  \n",
              "1       USD  North America       False  \n",
              "2       USD  North America       False  \n",
              "3       USD  North America       False  \n",
              "4       USD  North America       False  \n",
              "5       GBP         Europe        True  \n",
              "6       EUR         Europe        True  \n",
              "7       EUR         Europe        True  \n",
              "8       EUR         Europe        True  \n",
              "9       JPY           Asia        True  \n",
              "10      AUD      Australia       False  \n",
              "11      KRW           Asia        True  \n",
              "12      CNY           Asia        True  \n",
              "13      RUB         Europe        True  \n",
              "14      EGP         Africa        True  \n",
              "15      INR           Asia       False  "
            ],
            "text/html": [
              "\n",
              "\n",
              "  <div id=\"df-224c76ff-0f31-472c-98ad-801b6c394008\">\n",
              "    <div class=\"colab-df-container\">\n",
              "      <div>\n",
              "<style scoped>\n",
              "    .dataframe tbody tr th:only-of-type {\n",
              "        vertical-align: middle;\n",
              "    }\n",
              "\n",
              "    .dataframe tbody tr th {\n",
              "        vertical-align: top;\n",
              "    }\n",
              "\n",
              "    .dataframe thead th {\n",
              "        text-align: right;\n",
              "    }\n",
              "</style>\n",
              "<table border=\"1\" class=\"dataframe\">\n",
              "  <thead>\n",
              "    <tr style=\"text-align: right;\">\n",
              "      <th></th>\n",
              "      <th>City</th>\n",
              "      <th>Country</th>\n",
              "      <th>Population (Millions)</th>\n",
              "      <th>Area (km2)</th>\n",
              "      <th>Language</th>\n",
              "      <th>Currency</th>\n",
              "      <th>Continent</th>\n",
              "      <th>Is_Capital</th>\n",
              "    </tr>\n",
              "  </thead>\n",
              "  <tbody>\n",
              "    <tr>\n",
              "      <th>0</th>\n",
              "      <td>New York</td>\n",
              "      <td>USA</td>\n",
              "      <td>8.4</td>\n",
              "      <td>468.9</td>\n",
              "      <td>English</td>\n",
              "      <td>USD</td>\n",
              "      <td>North America</td>\n",
              "      <td>False</td>\n",
              "    </tr>\n",
              "    <tr>\n",
              "      <th>1</th>\n",
              "      <td>Los Angeles</td>\n",
              "      <td>USA</td>\n",
              "      <td>3.9</td>\n",
              "      <td>502.8</td>\n",
              "      <td>English</td>\n",
              "      <td>USD</td>\n",
              "      <td>North America</td>\n",
              "      <td>False</td>\n",
              "    </tr>\n",
              "    <tr>\n",
              "      <th>2</th>\n",
              "      <td>Chicago</td>\n",
              "      <td>USA</td>\n",
              "      <td>2.7</td>\n",
              "      <td>227.6</td>\n",
              "      <td>English</td>\n",
              "      <td>USD</td>\n",
              "      <td>North America</td>\n",
              "      <td>False</td>\n",
              "    </tr>\n",
              "    <tr>\n",
              "      <th>3</th>\n",
              "      <td>Houston</td>\n",
              "      <td>USA</td>\n",
              "      <td>2.3</td>\n",
              "      <td>1.0</td>\n",
              "      <td>English</td>\n",
              "      <td>USD</td>\n",
              "      <td>North America</td>\n",
              "      <td>False</td>\n",
              "    </tr>\n",
              "    <tr>\n",
              "      <th>4</th>\n",
              "      <td>San Francisco</td>\n",
              "      <td>USA</td>\n",
              "      <td>0.9</td>\n",
              "      <td>121.4</td>\n",
              "      <td>English</td>\n",
              "      <td>USD</td>\n",
              "      <td>North America</td>\n",
              "      <td>False</td>\n",
              "    </tr>\n",
              "    <tr>\n",
              "      <th>5</th>\n",
              "      <td>London</td>\n",
              "      <td>UK</td>\n",
              "      <td>8.9</td>\n",
              "      <td>1572.0</td>\n",
              "      <td>English</td>\n",
              "      <td>GBP</td>\n",
              "      <td>Europe</td>\n",
              "      <td>True</td>\n",
              "    </tr>\n",
              "    <tr>\n",
              "      <th>6</th>\n",
              "      <td>Paris</td>\n",
              "      <td>France</td>\n",
              "      <td>2.1</td>\n",
              "      <td>105.4</td>\n",
              "      <td>French</td>\n",
              "      <td>EUR</td>\n",
              "      <td>Europe</td>\n",
              "      <td>True</td>\n",
              "    </tr>\n",
              "    <tr>\n",
              "      <th>7</th>\n",
              "      <td>Berlin</td>\n",
              "      <td>Germany</td>\n",
              "      <td>3.7</td>\n",
              "      <td>891.8</td>\n",
              "      <td>German</td>\n",
              "      <td>EUR</td>\n",
              "      <td>Europe</td>\n",
              "      <td>True</td>\n",
              "    </tr>\n",
              "    <tr>\n",
              "      <th>8</th>\n",
              "      <td>Rome</td>\n",
              "      <td>Italy</td>\n",
              "      <td>2.8</td>\n",
              "      <td>1285.0</td>\n",
              "      <td>Italian</td>\n",
              "      <td>EUR</td>\n",
              "      <td>Europe</td>\n",
              "      <td>True</td>\n",
              "    </tr>\n",
              "    <tr>\n",
              "      <th>9</th>\n",
              "      <td>Tokyo</td>\n",
              "      <td>Japan</td>\n",
              "      <td>13.9</td>\n",
              "      <td>2187.0</td>\n",
              "      <td>Japanese</td>\n",
              "      <td>JPY</td>\n",
              "      <td>Asia</td>\n",
              "      <td>True</td>\n",
              "    </tr>\n",
              "    <tr>\n",
              "      <th>10</th>\n",
              "      <td>Sydney</td>\n",
              "      <td>Australia</td>\n",
              "      <td>5.3</td>\n",
              "      <td>1687.0</td>\n",
              "      <td>English</td>\n",
              "      <td>AUD</td>\n",
              "      <td>Australia</td>\n",
              "      <td>False</td>\n",
              "    </tr>\n",
              "    <tr>\n",
              "      <th>11</th>\n",
              "      <td>Seoul</td>\n",
              "      <td>South Korea</td>\n",
              "      <td>9.7</td>\n",
              "      <td>605.0</td>\n",
              "      <td>Korean</td>\n",
              "      <td>KRW</td>\n",
              "      <td>Asia</td>\n",
              "      <td>True</td>\n",
              "    </tr>\n",
              "    <tr>\n",
              "      <th>12</th>\n",
              "      <td>Beijing</td>\n",
              "      <td>China</td>\n",
              "      <td>21.5</td>\n",
              "      <td>16411.0</td>\n",
              "      <td>Mandarin</td>\n",
              "      <td>CNY</td>\n",
              "      <td>Asia</td>\n",
              "      <td>True</td>\n",
              "    </tr>\n",
              "    <tr>\n",
              "      <th>13</th>\n",
              "      <td>Moscow</td>\n",
              "      <td>Russia</td>\n",
              "      <td>12.5</td>\n",
              "      <td>2561.0</td>\n",
              "      <td>Russian</td>\n",
              "      <td>RUB</td>\n",
              "      <td>Europe</td>\n",
              "      <td>True</td>\n",
              "    </tr>\n",
              "    <tr>\n",
              "      <th>14</th>\n",
              "      <td>Cairo</td>\n",
              "      <td>Egypt</td>\n",
              "      <td>9.5</td>\n",
              "      <td>3034.0</td>\n",
              "      <td>Arabic</td>\n",
              "      <td>EGP</td>\n",
              "      <td>Africa</td>\n",
              "      <td>True</td>\n",
              "    </tr>\n",
              "    <tr>\n",
              "      <th>15</th>\n",
              "      <td>Mumbai</td>\n",
              "      <td>India</td>\n",
              "      <td>20.7</td>\n",
              "      <td>603.0</td>\n",
              "      <td>Hindi</td>\n",
              "      <td>INR</td>\n",
              "      <td>Asia</td>\n",
              "      <td>False</td>\n",
              "    </tr>\n",
              "  </tbody>\n",
              "</table>\n",
              "</div>\n",
              "      <button class=\"colab-df-convert\" onclick=\"convertToInteractive('df-224c76ff-0f31-472c-98ad-801b6c394008')\"\n",
              "              title=\"Convert this dataframe to an interactive table.\"\n",
              "              style=\"display:none;\">\n",
              "\n",
              "  <svg xmlns=\"http://www.w3.org/2000/svg\" height=\"24px\"viewBox=\"0 0 24 24\"\n",
              "       width=\"24px\">\n",
              "    <path d=\"M0 0h24v24H0V0z\" fill=\"none\"/>\n",
              "    <path d=\"M18.56 5.44l.94 2.06.94-2.06 2.06-.94-2.06-.94-.94-2.06-.94 2.06-2.06.94zm-11 1L8.5 8.5l.94-2.06 2.06-.94-2.06-.94L8.5 2.5l-.94 2.06-2.06.94zm10 10l.94 2.06.94-2.06 2.06-.94-2.06-.94-.94-2.06-.94 2.06-2.06.94z\"/><path d=\"M17.41 7.96l-1.37-1.37c-.4-.4-.92-.59-1.43-.59-.52 0-1.04.2-1.43.59L10.3 9.45l-7.72 7.72c-.78.78-.78 2.05 0 2.83L4 21.41c.39.39.9.59 1.41.59.51 0 1.02-.2 1.41-.59l7.78-7.78 2.81-2.81c.8-.78.8-2.07 0-2.86zM5.41 20L4 18.59l7.72-7.72 1.47 1.35L5.41 20z\"/>\n",
              "  </svg>\n",
              "      </button>\n",
              "\n",
              "\n",
              "\n",
              "    <div id=\"df-b5a21a8e-6e9b-475e-8d9b-795c6d5b24c2\">\n",
              "      <button class=\"colab-df-quickchart\" onclick=\"quickchart('df-b5a21a8e-6e9b-475e-8d9b-795c6d5b24c2')\"\n",
              "              title=\"Suggest charts.\"\n",
              "              style=\"display:none;\">\n",
              "\n",
              "<svg xmlns=\"http://www.w3.org/2000/svg\" height=\"24px\"viewBox=\"0 0 24 24\"\n",
              "     width=\"24px\">\n",
              "    <g>\n",
              "        <path d=\"M19 3H5c-1.1 0-2 .9-2 2v14c0 1.1.9 2 2 2h14c1.1 0 2-.9 2-2V5c0-1.1-.9-2-2-2zM9 17H7v-7h2v7zm4 0h-2V7h2v10zm4 0h-2v-4h2v4z\"/>\n",
              "    </g>\n",
              "</svg>\n",
              "      </button>\n",
              "    </div>\n",
              "\n",
              "<style>\n",
              "  .colab-df-quickchart {\n",
              "    background-color: #E8F0FE;\n",
              "    border: none;\n",
              "    border-radius: 50%;\n",
              "    cursor: pointer;\n",
              "    display: none;\n",
              "    fill: #1967D2;\n",
              "    height: 32px;\n",
              "    padding: 0 0 0 0;\n",
              "    width: 32px;\n",
              "  }\n",
              "\n",
              "  .colab-df-quickchart:hover {\n",
              "    background-color: #E2EBFA;\n",
              "    box-shadow: 0px 1px 2px rgba(60, 64, 67, 0.3), 0px 1px 3px 1px rgba(60, 64, 67, 0.15);\n",
              "    fill: #174EA6;\n",
              "  }\n",
              "\n",
              "  [theme=dark] .colab-df-quickchart {\n",
              "    background-color: #3B4455;\n",
              "    fill: #D2E3FC;\n",
              "  }\n",
              "\n",
              "  [theme=dark] .colab-df-quickchart:hover {\n",
              "    background-color: #434B5C;\n",
              "    box-shadow: 0px 1px 3px 1px rgba(0, 0, 0, 0.15);\n",
              "    filter: drop-shadow(0px 1px 2px rgba(0, 0, 0, 0.3));\n",
              "    fill: #FFFFFF;\n",
              "  }\n",
              "</style>\n",
              "\n",
              "    <script>\n",
              "      async function quickchart(key) {\n",
              "        const containerElement = document.querySelector('#' + key);\n",
              "        const charts = await google.colab.kernel.invokeFunction(\n",
              "            'suggestCharts', [key], {});\n",
              "      }\n",
              "    </script>\n",
              "\n",
              "      <script>\n",
              "\n",
              "function displayQuickchartButton(domScope) {\n",
              "  let quickchartButtonEl =\n",
              "    domScope.querySelector('#df-b5a21a8e-6e9b-475e-8d9b-795c6d5b24c2 button.colab-df-quickchart');\n",
              "  quickchartButtonEl.style.display =\n",
              "    google.colab.kernel.accessAllowed ? 'block' : 'none';\n",
              "}\n",
              "\n",
              "        displayQuickchartButton(document);\n",
              "      </script>\n",
              "      <style>\n",
              "    .colab-df-container {\n",
              "      display:flex;\n",
              "      flex-wrap:wrap;\n",
              "      gap: 12px;\n",
              "    }\n",
              "\n",
              "    .colab-df-convert {\n",
              "      background-color: #E8F0FE;\n",
              "      border: none;\n",
              "      border-radius: 50%;\n",
              "      cursor: pointer;\n",
              "      display: none;\n",
              "      fill: #1967D2;\n",
              "      height: 32px;\n",
              "      padding: 0 0 0 0;\n",
              "      width: 32px;\n",
              "    }\n",
              "\n",
              "    .colab-df-convert:hover {\n",
              "      background-color: #E2EBFA;\n",
              "      box-shadow: 0px 1px 2px rgba(60, 64, 67, 0.3), 0px 1px 3px 1px rgba(60, 64, 67, 0.15);\n",
              "      fill: #174EA6;\n",
              "    }\n",
              "\n",
              "    [theme=dark] .colab-df-convert {\n",
              "      background-color: #3B4455;\n",
              "      fill: #D2E3FC;\n",
              "    }\n",
              "\n",
              "    [theme=dark] .colab-df-convert:hover {\n",
              "      background-color: #434B5C;\n",
              "      box-shadow: 0px 1px 3px 1px rgba(0, 0, 0, 0.15);\n",
              "      filter: drop-shadow(0px 1px 2px rgba(0, 0, 0, 0.3));\n",
              "      fill: #FFFFFF;\n",
              "    }\n",
              "  </style>\n",
              "\n",
              "      <script>\n",
              "        const buttonEl =\n",
              "          document.querySelector('#df-224c76ff-0f31-472c-98ad-801b6c394008 button.colab-df-convert');\n",
              "        buttonEl.style.display =\n",
              "          google.colab.kernel.accessAllowed ? 'block' : 'none';\n",
              "\n",
              "        async function convertToInteractive(key) {\n",
              "          const element = document.querySelector('#df-224c76ff-0f31-472c-98ad-801b6c394008');\n",
              "          const dataTable =\n",
              "            await google.colab.kernel.invokeFunction('convertToInteractive',\n",
              "                                                     [key], {});\n",
              "          if (!dataTable) return;\n",
              "\n",
              "          const docLinkHtml = 'Like what you see? Visit the ' +\n",
              "            '<a target=\"_blank\" href=https://colab.research.google.com/notebooks/data_table.ipynb>data table notebook</a>'\n",
              "            + ' to learn more about interactive tables.';\n",
              "          element.innerHTML = '';\n",
              "          dataTable['output_type'] = 'display_data';\n",
              "          await google.colab.output.renderOutput(dataTable, element);\n",
              "          const docLink = document.createElement('div');\n",
              "          docLink.innerHTML = docLinkHtml;\n",
              "          element.appendChild(docLink);\n",
              "        }\n",
              "      </script>\n",
              "    </div>\n",
              "  </div>\n"
            ]
          },
          "metadata": {},
          "execution_count": 17
        }
      ]
    },
    {
      "cell_type": "markdown",
      "source": [
        "### Challenge 1\n",
        "Create a new column 'City_Length' that contains the length of each city name"
      ],
      "metadata": {
        "id": "G1JN_GLuoRGJ"
      }
    },
    {
      "cell_type": "code",
      "source": [
        "# Your code here"
      ],
      "metadata": {
        "id": "5uANa6toSiQU"
      },
      "execution_count": null,
      "outputs": []
    },
    {
      "cell_type": "markdown",
      "source": [
        "### Challenge 2\n",
        "Convert the 'City' names to uppercase and store them in a new column 'City_Upper'"
      ],
      "metadata": {
        "id": "Uqv3VWAKUQjQ"
      }
    },
    {
      "cell_type": "code",
      "source": [
        "# Your code here"
      ],
      "metadata": {
        "id": "J81RZBP0UQjX"
      },
      "execution_count": null,
      "outputs": []
    },
    {
      "cell_type": "markdown",
      "source": [
        "### Challenge 3\n",
        "Check if the 'City' names end with the letter 'o'. Create a new column 'Ends_With_O' with the boolean results"
      ],
      "metadata": {
        "id": "jZwWW5EQUQni"
      }
    },
    {
      "cell_type": "code",
      "source": [
        "# Your code here"
      ],
      "metadata": {
        "id": "qcycbcbbUQnj"
      },
      "execution_count": null,
      "outputs": []
    },
    {
      "cell_type": "markdown",
      "source": [
        "### Challenge 4\n",
        "Replace the word 'York' in 'City' names with 'Ville' and update the 'City' column accordingly"
      ],
      "metadata": {
        "id": "OM-wI5USUQpQ"
      }
    },
    {
      "cell_type": "code",
      "source": [
        "# Your code here"
      ],
      "metadata": {
        "id": "SCqfSeRCUQpR"
      },
      "execution_count": null,
      "outputs": []
    },
    {
      "cell_type": "markdown",
      "source": [
        "### Challenge 5\n",
        "Create a new column 'Country_Code' by extracting the first three characters from the 'Country' names"
      ],
      "metadata": {
        "id": "xMw1Qr4OUQrK"
      }
    },
    {
      "cell_type": "code",
      "source": [
        "# Your code here"
      ],
      "metadata": {
        "id": "4ttxcMVHUQrK"
      },
      "execution_count": null,
      "outputs": []
    },
    {
      "cell_type": "markdown",
      "source": [
        "### Challenge 6\n",
        "Count the occurrences of the letter 'a' in each 'City' name"
      ],
      "metadata": {
        "id": "AhPsDFWIUQtY"
      }
    },
    {
      "cell_type": "code",
      "source": [
        "# Your code here"
      ],
      "metadata": {
        "id": "pTH1HNg6UQtZ"
      },
      "execution_count": null,
      "outputs": []
    },
    {
      "cell_type": "markdown",
      "source": [
        "### Challenge 7\n",
        "Check if the 'City' names start with the letter 'C' and end with the letter 'o'"
      ],
      "metadata": {
        "id": "Z1nwhLsYUQzZ"
      }
    },
    {
      "cell_type": "code",
      "source": [
        "# Your code here"
      ],
      "metadata": {
        "id": "bCrlCJwcUQza"
      },
      "execution_count": null,
      "outputs": []
    },
    {
      "cell_type": "markdown",
      "source": [
        "### Challenge 8\n",
        "Check if the 'City' names contain exactly two words"
      ],
      "metadata": {
        "id": "_euUAsTYVT7I"
      }
    },
    {
      "cell_type": "code",
      "source": [
        "# Your code here"
      ],
      "metadata": {
        "id": "a9dWD8_AVT7P"
      },
      "execution_count": null,
      "outputs": []
    }
  ]
}